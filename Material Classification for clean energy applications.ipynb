{
 "cells": [
  {
   "cell_type": "markdown",
   "id": "27ce37ce-1062-450c-83f3-e1809ad8afcb",
   "metadata": {},
   "source": [
    "**Material Classification for clean energy applications** <br>\n",
    "New materials need to be synthezied and characterized for improving existing clean energy applications. Your task is to predict the material classes based on thier given molecular properties. Your goal in this project to think like a data scientist and to achieve highest accuracy of classification.\n",
    "You have been provided with two excel files. First file contains the molecular properties of the materials. Second file lists the classes of the material. Do data preprocessing if necessary at any step, always use a random seed wherever you can and describe your methods and results in detail. All plots should have labels and legends. \n",
    "Complete the tasks below (100 points):\n",
    "\n",
    "\n",
    "1.   **Data Visualization and Unsupervised Classification** : Visualize the data and implement PCA and K-means to see if you can separate different classes. Report your findings. (10)\n",
    "2.   **Classification of materials**: Implement Decision tree classifier, Random Forest (RF) and KNN classifier on the dataset and estimate the accuracies, F-1 score and confusion matrix. Report which classifier performs the best. Also use the features from the pca and k-means implementation in (1) to see if that improves the classification results. (20)\n",
    "3.   **Hyper-parameter tuning**: Implement hyperparameter tuning on random forest and KNN algorithms. Report the best performing model and the respective hyperparameters with highest accuracy. (20)\n",
    "4. **Most important features**: Not all features contribute to the classification accuracy equally. Estimate the order of best performing features. Repeat the classification task with including different number of features in your RF classifier and report how accuracy is changing (10)\n",
    "5. **XGBoost** : XGBoost is a python ML library that uses optimized gradient boosted trees and has been really successful in completing many ML tasks. Implement XGBoost on the data. Perform hyper-parameter tuning and report the highest accuracy you acheive. (20)\n",
    "6. **Neural Networks**: In the era of generative AI, which is powered by neural networks, lets see how neural nets perform compared to other ML classification models. Implement a neural network to predict the class (you can use keras, tensorflow or pytorch). Play with changing the number of layers and nodes per layers to see if you can increase the classification accuracy. (20)\n",
    "\n"
   ]
  },
  {
   "cell_type": "code",
   "execution_count": 7,
   "id": "0b92935e-ea3e-411b-ac9d-68622921b8bf",
   "metadata": {
    "tags": []
   },
   "outputs": [],
   "source": [
    "#importing all the packages \n",
    "import numpy as np\n",
    "import matplotlib.pyplot as plt\n",
    "import pandas as pd\n",
    "from sklearn import datasets, linear_model\n",
    "\n",
    "from sklearn.datasets import make_regression\n",
    "from sklearn.metrics import mean_squared_error, r2_score\n",
    "from sklearn.model_selection import train_test_split\n",
    "from sklearn.cluster import KMeans\n"
   ]
  },
  {
   "cell_type": "code",
   "execution_count": 8,
   "id": "0c40aaf5-008d-4af7-9fa4-d039429f626b",
   "metadata": {
    "tags": []
   },
   "outputs": [
    {
     "data": {
      "text/html": [
       "<div>\n",
       "<style scoped>\n",
       "    .dataframe tbody tr th:only-of-type {\n",
       "        vertical-align: middle;\n",
       "    }\n",
       "\n",
       "    .dataframe tbody tr th {\n",
       "        vertical-align: top;\n",
       "    }\n",
       "\n",
       "    .dataframe thead th {\n",
       "        text-align: right;\n",
       "    }\n",
       "</style>\n",
       "<table border=\"1\" class=\"dataframe\">\n",
       "  <thead>\n",
       "    <tr style=\"text-align: right;\">\n",
       "      <th></th>\n",
       "      <th>deltaE_Hull(eV)</th>\n",
       "      <th>Num_atoms</th>\n",
       "      <th>Band Presence</th>\n",
       "      <th>DeltaE(eV)</th>\n",
       "      <th>Formation Energy (eV)</th>\n",
       "      <th>Material Density(gm/cc)</th>\n",
       "      <th>Unit Volume</th>\n",
       "      <th>symmetry group</th>\n",
       "    </tr>\n",
       "  </thead>\n",
       "  <tbody>\n",
       "    <tr>\n",
       "      <th>0</th>\n",
       "      <td>0.098255</td>\n",
       "      <td>28</td>\n",
       "      <td>1</td>\n",
       "      <td>1.001032</td>\n",
       "      <td>-2.592542</td>\n",
       "      <td>3.326740</td>\n",
       "      <td>312.132638</td>\n",
       "      <td>16</td>\n",
       "    </tr>\n",
       "    <tr>\n",
       "      <th>1</th>\n",
       "      <td>0.064183</td>\n",
       "      <td>14</td>\n",
       "      <td>1</td>\n",
       "      <td>1.375044</td>\n",
       "      <td>-2.374531</td>\n",
       "      <td>2.967723</td>\n",
       "      <td>178.043993</td>\n",
       "      <td>31</td>\n",
       "    </tr>\n",
       "    <tr>\n",
       "      <th>2</th>\n",
       "      <td>0.060559</td>\n",
       "      <td>112</td>\n",
       "      <td>0</td>\n",
       "      <td>1.283468</td>\n",
       "      <td>-2.384009</td>\n",
       "      <td>2.998484</td>\n",
       "      <td>1407.014528</td>\n",
       "      <td>6</td>\n",
       "    </tr>\n",
       "    <tr>\n",
       "      <th>3</th>\n",
       "      <td>0.011077</td>\n",
       "      <td>28</td>\n",
       "      <td>1</td>\n",
       "      <td>3.432360</td>\n",
       "      <td>-2.732865</td>\n",
       "      <td>2.817023</td>\n",
       "      <td>299.600719</td>\n",
       "      <td>6</td>\n",
       "    </tr>\n",
       "    <tr>\n",
       "      <th>4</th>\n",
       "      <td>0.085077</td>\n",
       "      <td>28</td>\n",
       "      <td>1</td>\n",
       "      <td>3.173678</td>\n",
       "      <td>-2.792354</td>\n",
       "      <td>2.774474</td>\n",
       "      <td>342.162600</td>\n",
       "      <td>20</td>\n",
       "    </tr>\n",
       "  </tbody>\n",
       "</table>\n",
       "</div>"
      ],
      "text/plain": [
       "   deltaE_Hull(eV)  Num_atoms  Band Presence   DeltaE(eV)   \n",
       "0         0.098255         28               1    1.001032  \\\n",
       "1         0.064183         14               1    1.375044   \n",
       "2         0.060559        112               0    1.283468   \n",
       "3         0.011077         28               1    3.432360   \n",
       "4         0.085077         28               1    3.173678   \n",
       "\n",
       "   Formation Energy (eV)  Material Density(gm/cc)  Unit Volume    \n",
       "0              -2.592542                 3.326740    312.132638  \\\n",
       "1              -2.374531                 2.967723    178.043993   \n",
       "2              -2.384009                 2.998484   1407.014528   \n",
       "3              -2.732865                 2.817023    299.600719   \n",
       "4              -2.792354                 2.774474    342.162600   \n",
       "\n",
       "   symmetry group  \n",
       "0              16  \n",
       "1              31  \n",
       "2               6  \n",
       "3               6  \n",
       "4              20  "
      ]
     },
     "execution_count": 8,
     "metadata": {},
     "output_type": "execute_result"
    }
   ],
   "source": [
    "features = pd.read_csv(\"features.csv\")\n",
    "features.head()"
   ]
  },
  {
   "cell_type": "code",
   "execution_count": 9,
   "id": "75e304e1-4250-45ad-82d6-a21e990d9647",
   "metadata": {
    "tags": []
   },
   "outputs": [
    {
     "data": {
      "text/html": [
       "<div>\n",
       "<style scoped>\n",
       "    .dataframe tbody tr th:only-of-type {\n",
       "        vertical-align: middle;\n",
       "    }\n",
       "\n",
       "    .dataframe tbody tr th {\n",
       "        vertical-align: top;\n",
       "    }\n",
       "\n",
       "    .dataframe thead th {\n",
       "        text-align: right;\n",
       "    }\n",
       "</style>\n",
       "<table border=\"1\" class=\"dataframe\">\n",
       "  <thead>\n",
       "    <tr style=\"text-align: right;\">\n",
       "      <th></th>\n",
       "      <th>Type of Material</th>\n",
       "    </tr>\n",
       "  </thead>\n",
       "  <tbody>\n",
       "    <tr>\n",
       "      <th>0</th>\n",
       "      <td>C</td>\n",
       "    </tr>\n",
       "    <tr>\n",
       "      <th>1</th>\n",
       "      <td>A</td>\n",
       "    </tr>\n",
       "    <tr>\n",
       "      <th>2</th>\n",
       "      <td>A</td>\n",
       "    </tr>\n",
       "    <tr>\n",
       "      <th>3</th>\n",
       "      <td>A</td>\n",
       "    </tr>\n",
       "    <tr>\n",
       "      <th>4</th>\n",
       "      <td>A</td>\n",
       "    </tr>\n",
       "  </tbody>\n",
       "</table>\n",
       "</div>"
      ],
      "text/plain": [
       "  Type of Material\n",
       "0                C\n",
       "1                A\n",
       "2                A\n",
       "3                A\n",
       "4                A"
      ]
     },
     "execution_count": 9,
     "metadata": {},
     "output_type": "execute_result"
    }
   ],
   "source": [
    "target = pd.read_csv(\"target.csv\")\n",
    "target.head()"
   ]
  },
  {
   "cell_type": "code",
   "execution_count": 10,
   "id": "3a7ce5df-2b92-48c4-952b-1b32adc96e08",
   "metadata": {
    "tags": []
   },
   "outputs": [
    {
     "data": {
      "text/html": [
       "<div>\n",
       "<style scoped>\n",
       "    .dataframe tbody tr th:only-of-type {\n",
       "        vertical-align: middle;\n",
       "    }\n",
       "\n",
       "    .dataframe tbody tr th {\n",
       "        vertical-align: top;\n",
       "    }\n",
       "\n",
       "    .dataframe thead th {\n",
       "        text-align: right;\n",
       "    }\n",
       "</style>\n",
       "<table border=\"1\" class=\"dataframe\">\n",
       "  <thead>\n",
       "    <tr style=\"text-align: right;\">\n",
       "      <th></th>\n",
       "      <th>Type of Material</th>\n",
       "    </tr>\n",
       "  </thead>\n",
       "  <tbody>\n",
       "    <tr>\n",
       "      <th>0</th>\n",
       "      <td>2</td>\n",
       "    </tr>\n",
       "    <tr>\n",
       "      <th>1</th>\n",
       "      <td>0</td>\n",
       "    </tr>\n",
       "    <tr>\n",
       "      <th>2</th>\n",
       "      <td>0</td>\n",
       "    </tr>\n",
       "    <tr>\n",
       "      <th>3</th>\n",
       "      <td>0</td>\n",
       "    </tr>\n",
       "    <tr>\n",
       "      <th>4</th>\n",
       "      <td>0</td>\n",
       "    </tr>\n",
       "  </tbody>\n",
       "</table>\n",
       "</div>"
      ],
      "text/plain": [
       "   Type of Material\n",
       "0                 2\n",
       "1                 0\n",
       "2                 0\n",
       "3                 0\n",
       "4                 0"
      ]
     },
     "execution_count": 10,
     "metadata": {},
     "output_type": "execute_result"
    }
   ],
   "source": [
    "# Target is categorical and we need it numerical\n",
    "# Import label encoder \n",
    "from sklearn import preprocessing \n",
    "  \n",
    "# label_encoder \n",
    "label_encoder = preprocessing.LabelEncoder() \n",
    "  \n",
    "# Encode labels in column 'species'. \n",
    "target['Type of Material']= label_encoder.fit_transform(target['Type of Material']) \n",
    "  \n",
    "target.head()"
   ]
  },
  {
   "cell_type": "code",
   "execution_count": 11,
   "id": "ef86b1ff-830b-4c43-8da9-0a8f07bed08f",
   "metadata": {
    "tags": []
   },
   "outputs": [
    {
     "data": {
      "text/plain": [
       "array([2, 0, 1])"
      ]
     },
     "execution_count": 11,
     "metadata": {},
     "output_type": "execute_result"
    }
   ],
   "source": [
    "target['Type of Material'].unique()"
   ]
  },
  {
   "cell_type": "code",
   "execution_count": 12,
   "id": "571eb5ac-7eec-43ad-86ed-cfdb15c8aebd",
   "metadata": {
    "tags": []
   },
   "outputs": [
    {
     "data": {
      "text/plain": [
       "(339, 8)"
      ]
     },
     "execution_count": 12,
     "metadata": {},
     "output_type": "execute_result"
    }
   ],
   "source": [
    "features.shape"
   ]
  },
  {
   "cell_type": "code",
   "execution_count": 13,
   "id": "55486ca2-89d6-4e66-8d38-2f9a8143314d",
   "metadata": {
    "tags": []
   },
   "outputs": [
    {
     "name": "stdout",
     "output_type": "stream",
     "text": [
      "deltaE_Hull(eV)            0\n",
      "Num_atoms                  0\n",
      "Band Presence              0\n",
      "DeltaE(eV)                 0\n",
      "Formation Energy (eV)      0\n",
      "Material Density(gm/cc)    0\n",
      "Unit Volume                0\n",
      "symmetry group             0\n",
      "dtype: int64\n"
     ]
    }
   ],
   "source": [
    "# Creating a boolean series marking True for NaN values in the \"Team\" column\n",
    "bool_series = pd.isnull(features)\n",
    " \n",
    "# Counting missing values in the \"Team\" column\n",
    "missing_values_count = bool_series.sum()\n",
    "print(missing_values_count)"
   ]
  },
  {
   "cell_type": "markdown",
   "id": "8948072d-948f-4542-9af2-c82162bc9787",
   "metadata": {
    "tags": []
   },
   "source": [
    "1.Data Visualization and Unsupervised Classification : Visualize the data and implement PCA and K-means to see if you can separate different classes. Report your findings."
   ]
  },
  {
   "cell_type": "markdown",
   "id": "77005cfa-37f8-4fef-a44c-96019441ac43",
   "metadata": {},
   "source": [
    "1.1 Data Visualisation"
   ]
  },
  {
   "cell_type": "code",
   "execution_count": 14,
   "id": "b65ed91d-1a59-47e5-902c-1d34c296f0a0",
   "metadata": {
    "tags": []
   },
   "outputs": [
    {
     "data": {
      "text/html": [
       "<div>\n",
       "<style scoped>\n",
       "    .dataframe tbody tr th:only-of-type {\n",
       "        vertical-align: middle;\n",
       "    }\n",
       "\n",
       "    .dataframe tbody tr th {\n",
       "        vertical-align: top;\n",
       "    }\n",
       "\n",
       "    .dataframe thead th {\n",
       "        text-align: right;\n",
       "    }\n",
       "</style>\n",
       "<table border=\"1\" class=\"dataframe\">\n",
       "  <thead>\n",
       "    <tr style=\"text-align: right;\">\n",
       "      <th></th>\n",
       "      <th>Type of Material</th>\n",
       "    </tr>\n",
       "  </thead>\n",
       "  <tbody>\n",
       "    <tr>\n",
       "      <th>0</th>\n",
       "      <td>2</td>\n",
       "    </tr>\n",
       "    <tr>\n",
       "      <th>1</th>\n",
       "      <td>0</td>\n",
       "    </tr>\n",
       "    <tr>\n",
       "      <th>2</th>\n",
       "      <td>0</td>\n",
       "    </tr>\n",
       "    <tr>\n",
       "      <th>3</th>\n",
       "      <td>0</td>\n",
       "    </tr>\n",
       "    <tr>\n",
       "      <th>4</th>\n",
       "      <td>0</td>\n",
       "    </tr>\n",
       "  </tbody>\n",
       "</table>\n",
       "</div>"
      ],
      "text/plain": [
       "   Type of Material\n",
       "0                 2\n",
       "1                 0\n",
       "2                 0\n",
       "3                 0\n",
       "4                 0"
      ]
     },
     "execution_count": 14,
     "metadata": {},
     "output_type": "execute_result"
    }
   ],
   "source": [
    "target.head()"
   ]
  },
  {
   "cell_type": "markdown",
   "id": "0891570e-769c-4f7b-a23a-49efb4539703",
   "metadata": {},
   "source": [
    "#Unsupervised Classification"
   ]
  },
  {
   "cell_type": "markdown",
   "id": "cc84e533-3300-4e7f-883b-93322ecf2b1f",
   "metadata": {},
   "source": [
    "#### Data Preparation"
   ]
  },
  {
   "cell_type": "code",
   "execution_count": 15,
   "id": "df1b5569-37cc-4d50-84ba-aa8d572da153",
   "metadata": {
    "tags": []
   },
   "outputs": [],
   "source": [
    "# Define X and y\n",
    "X = features\n",
    "y = target['Type of Material']"
   ]
  },
  {
   "cell_type": "code",
   "execution_count": 16,
   "id": "634d1926-b733-44f9-9787-39838891a6f2",
   "metadata": {
    "tags": []
   },
   "outputs": [],
   "source": [
    "#Test and Train data\n",
    "X_train, X_test , y_train, y_test = train_test_split(X, y, test_size=0.20,random_state=42)\n"
   ]
  },
  {
   "cell_type": "code",
   "execution_count": 17,
   "id": "751d8800-1f90-4e7d-b106-b6d90e4aed67",
   "metadata": {
    "tags": []
   },
   "outputs": [],
   "source": [
    "#recheck\n",
    "# Standard Scaling\n",
    "\n",
    "from sklearn.preprocessing import StandardScaler\n",
    "scaler = StandardScaler()\n",
    "X_train_scaled = scaler.fit_transform(X_train)\n",
    "X_test_scaled = scaler.transform(X_test)"
   ]
  },
  {
   "cell_type": "markdown",
   "id": "4ed8678f-beb6-424a-85ad-8174b4af99c9",
   "metadata": {},
   "source": [
    "1.2 PCA"
   ]
  },
  {
   "cell_type": "code",
   "execution_count": 18,
   "id": "ce767e9b-5c5a-46bf-afe4-8979238b67ca",
   "metadata": {
    "tags": []
   },
   "outputs": [],
   "source": [
    "#applying PCA on the training data \n",
    "from sklearn.decomposition import PCA \n",
    "\n",
    "pca = PCA(n_components=4)\n",
    "X_train_pca = pca.fit_transform(X_train_scaled)\n",
    "X_test_pca = pca.transform(X_test_scaled)"
   ]
  },
  {
   "cell_type": "code",
   "execution_count": 19,
   "id": "8352964f-d275-4507-968a-b3d4e906f550",
   "metadata": {
    "tags": []
   },
   "outputs": [
    {
     "data": {
      "text/plain": [
       "Text(0, 0.5, 'PC2')"
      ]
     },
     "execution_count": 19,
     "metadata": {},
     "output_type": "execute_result"
    },
    {
     "data": {
      "image/png": "[encoded data removed]",
      "text/plain": [
       "<Figure size 800x800 with 1 Axes>"
      ]
     },
     "metadata": {},
     "output_type": "display_data"
    }
   ],
   "source": [
    "#recheck\n",
    "plt.figure(figsize=(8,8))\n",
    "scatter=plt.scatter(X_train_pca[:,0],X_train_pca[:,1],c =y_train)\n",
    "plt.legend(handles=scatter.legend_elements()[0], labels=['0','1','2'], title=\"Material Classes\")\n",
    "plt.xlabel(\"PC1\")\n",
    "plt.ylabel(\"PC2\")"
   ]
  },
  {
   "cell_type": "code",
   "execution_count": 20,
   "id": "d1a7dbd4-5e77-4347-ac15-6a077a00483e",
   "metadata": {
    "tags": []
   },
   "outputs": [
    {
     "data": {
      "text/plain": [
       "array([0.34332714, 0.22701258, 0.14348093, 0.10665821])"
      ]
     },
     "execution_count": 20,
     "metadata": {},
     "output_type": "execute_result"
    }
   ],
   "source": [
    "pca.explained_variance_ratio_"
   ]
  },
  {
   "cell_type": "markdown",
   "id": "9d39cea2-25d4-4d67-b6e2-4d4a0cfc6275",
   "metadata": {},
   "source": [
    "1.3 K-Means"
   ]
  },
  {
   "cell_type": "code",
   "execution_count": 21,
   "id": "49a1160f-92b4-4c89-9bd3-b187cdecbadf",
   "metadata": {
    "tags": []
   },
   "outputs": [],
   "source": [
    "#Scaling\n",
    "scaler = StandardScaler()\n",
    "scaler.fit(X)\n",
    "X_scaled = scaler.transform(X)"
   ]
  },
  {
   "cell_type": "code",
   "execution_count": 22,
   "id": "ea69aa77-1581-4828-b674-aeaecc9548a3",
   "metadata": {
    "tags": []
   },
   "outputs": [
    {
     "data": {
      "text/plain": [
       "Text(0, 0.5, 'feature2')"
      ]
     },
     "execution_count": 22,
     "metadata": {},
     "output_type": "execute_result"
    },
    {
     "data": {
      "image/png": "[encoded data removed]",
      "text/plain": [
       "<Figure size 800x800 with 1 Axes>"
      ]
     },
     "metadata": {},
     "output_type": "display_data"
    }
   ],
   "source": [
    "#using kmeans for feature engineering\n",
    "X_train, X_test , y_train, y_test = train_test_split(X_scaled, y, test_size=0.20,random_state=42)\n",
    "#Kmeans module\n",
    "kmeans = KMeans(n_clusters =3,n_init=10, random_state=42)\n",
    "kmeans.fit(X_train)\n",
    "#Predict by kmeans\n",
    "y_pred = kmeans.predict(X_train)\n",
    "plt.figure(figsize=(8,8))\n",
    "plt.scatter(X_train[:,0],X_train[:,1], c=y_pred)\n",
    "plt.xlabel('feature1')\n",
    "plt.ylabel('feature2')\n"
   ]
  },
  {
   "cell_type": "markdown",
   "id": "af284275-9632-40c9-a5dd-5ec31cf4f9c7",
   "metadata": {},
   "source": [
    "2.   **Classification of materials**: Implement Decision tree classifier, Random Forest (RF) and KNN classifier on the dataset and estimate the accuracies, F-1 score and confusion matrix. Report which classifier performs the best. Also use the features from the pca and k-means implementation in (1) to see if that improves the classification results. (20)"
   ]
  },
  {
   "cell_type": "markdown",
   "id": "c19d92a9-79da-499b-b79e-b379276d48ea",
   "metadata": {},
   "source": [
    "2.1 Decision tree classifier on the dataset and estimate the accuracies, F-1 score and confusion matrix"
   ]
  },
  {
   "cell_type": "code",
   "execution_count": 23,
   "id": "e53d56d6-0698-44f6-852c-3aa3718f6fc5",
   "metadata": {
    "tags": []
   },
   "outputs": [],
   "source": [
    "# Decision Tree classifier\n",
    "from sklearn.tree import DecisionTreeClassifier\n",
    "tree_clf = DecisionTreeClassifier(max_depth=4, random_state=42)\n",
    "tree_clf.fit(X_train, y_train)\n",
    "# Predict y values\n",
    "y_predictions = tree_clf.predict(X_test)"
   ]
  },
  {
   "cell_type": "code",
   "execution_count": 24,
   "id": "5f7b4771-e77c-4eb6-bc37-793d6b05d77a",
   "metadata": {
    "tags": []
   },
   "outputs": [],
   "source": [
    "# CHECKING ACCURACY"
   ]
  },
  {
   "cell_type": "code",
   "execution_count": 25,
   "id": "0d5e724b-a4b8-478b-99c8-14c3bb254759",
   "metadata": {
    "tags": []
   },
   "outputs": [
    {
     "name": "stdout",
     "output_type": "stream",
     "text": [
      "training set score is : 0.963\n",
      "test set score is : 0.897\n"
     ]
    }
   ],
   "source": [
    "# printing the test accuracy\n",
    "\n",
    "print(\"training set score is : {:.3f}\" .format(tree_clf.score(X_train,y_train)))\n",
    "print(\"test set score is : {:.3f}\" .format(tree_clf.score(X_test,y_test)))"
   ]
  },
  {
   "cell_type": "code",
   "execution_count": 26,
   "id": "6351fbd6-9f5e-40dd-9c29-d8fe264c63db",
   "metadata": {
    "tags": []
   },
   "outputs": [
    {
     "name": "stdout",
     "output_type": "stream",
     "text": [
      "F1_score:0.8956312879543189\n",
      "Precision:0.9142156862745099,Recall:0.8970588235294118\n"
     ]
    }
   ],
   "source": [
    "#F1 score\n",
    "from sklearn.metrics import precision_score, recall_score, f1_score\n",
    "\n",
    "precision = precision_score(y_test,y_predictions, average='weighted')\n",
    "recall = recall_score(y_test,y_predictions, average='weighted')\n",
    "f1_score_value = f1_score(y_test,y_predictions, average='weighted')\n",
    "print(f'F1_score:{f1_score_value}')\n",
    "print(f'Precision:{precision},Recall:{recall}')"
   ]
  },
  {
   "cell_type": "code",
   "execution_count": 27,
   "id": "7febef46-e63f-4232-813d-7191b56b6a53",
   "metadata": {
    "tags": []
   },
   "outputs": [],
   "source": [
    "### Confusion Matrix\n",
    "from sklearn import metrics\n",
    "from sklearn.metrics import ConfusionMatrixDisplay"
   ]
  },
  {
   "cell_type": "code",
   "execution_count": 28,
   "id": "1d79dc03-58d5-44b3-bee9-2fff7d592dfa",
   "metadata": {
    "tags": []
   },
   "outputs": [
    {
     "data": {
      "text/plain": [
       "<sklearn.metrics._plot.confusion_matrix.ConfusionMatrixDisplay at 0x7f31f167bcd0>"
      ]
     },
     "execution_count": 28,
     "metadata": {},
     "output_type": "execute_result"
    },
    {
     "data": {
      "image/png": "[encoded data removed]",
      "text/plain": [
       "<Figure size 640x480 with 2 Axes>"
      ]
     },
     "metadata": {},
     "output_type": "display_data"
    }
   ],
   "source": [
    "ConfusionMatrixDisplay.from_predictions(y_test,y_predictions)"
   ]
  },
  {
   "cell_type": "markdown",
   "id": "f7816541-bb19-447d-807d-c810ae59123f",
   "metadata": {
    "tags": []
   },
   "source": [
    "2.2 Random Forest (RF) and estimate the accuracies, F-1 score and confusion matrix"
   ]
  },
  {
   "cell_type": "code",
   "execution_count": 29,
   "id": "6e7e4bb6-1497-45ff-a932-f0e61e6ee065",
   "metadata": {
    "tags": []
   },
   "outputs": [],
   "source": [
    "\n",
    "# Recheck\n",
    "#Random Forest \n",
    "#feature importance\n",
    "from sklearn.ensemble import RandomForestClassifier\n",
    "rnd_clf = RandomForestClassifier(n_estimators=50, random_state=42)\n",
    "rnd_clf.fit(X_train, y_train)\n",
    "# Predict y values\n",
    "y_predictions = rnd_clf.predict(X_test)"
   ]
  },
  {
   "cell_type": "code",
   "execution_count": 30,
   "id": "b5964c79-0aeb-4291-878e-d0391e5bc707",
   "metadata": {
    "tags": []
   },
   "outputs": [
    {
     "name": "stdout",
     "output_type": "stream",
     "text": [
      "training set score is : 1.000\n",
      "test set score is : 0.912\n"
     ]
    }
   ],
   "source": [
    "# printing the test accuracy\n",
    "\n",
    "print(\"training set score is : {:.3f}\" .format(rnd_clf.score(X_train,y_train)))\n",
    "print(\"test set score is : {:.3f}\" .format(rnd_clf.score(X_test,y_test)))"
   ]
  },
  {
   "cell_type": "code",
   "execution_count": 31,
   "id": "d169b59a-dd6d-4b48-ab61-6f1990f6f4f8",
   "metadata": {
    "tags": []
   },
   "outputs": [
    {
     "name": "stdout",
     "output_type": "stream",
     "text": [
      "F1_score:0.9110453272217978\n",
      "Precision:0.9253565062388591,Recall:0.9117647058823529\n"
     ]
    }
   ],
   "source": [
    "#F1 score\n",
    "from sklearn.metrics import precision_score, recall_score, f1_score\n",
    "\n",
    "precision = precision_score(y_test,y_predictions, average='weighted')\n",
    "recall = recall_score(y_test,y_predictions, average='weighted')\n",
    "f1_score_value = f1_score(y_test,y_predictions, average='weighted')\n",
    "print(f'F1_score:{f1_score_value}')\n",
    "print(f'Precision:{precision},Recall:{recall}')"
   ]
  },
  {
   "cell_type": "code",
   "execution_count": 32,
   "id": "4105912a-3fac-4ff8-b770-b8c682cb5923",
   "metadata": {
    "tags": []
   },
   "outputs": [
    {
     "data": {
      "text/plain": [
       "<sklearn.metrics._plot.confusion_matrix.ConfusionMatrixDisplay at 0x7f31f167bcd0>"
      ]
     },
     "execution_count": 32,
     "metadata": {},
     "output_type": "execute_result"
    },
    {
     "data": {
      "image/png": "[encoded data removed]",
      "text/plain": [
       "<Figure size 640x480 with 2 Axes>"
      ]
     },
     "metadata": {},
     "output_type": "display_data"
    }
   ],
   "source": [
    "### Confusion Matrix\n",
    "ConfusionMatrixDisplay.from_predictions(y_test,y_predictions)"
   ]
  },
  {
   "cell_type": "markdown",
   "id": "d7fdb4d4-ea4a-411c-b8a6-79431deff527",
   "metadata": {
    "tags": []
   },
   "source": [
    "2.3 KNN classifier on the dataset and estimate the accuracies, F-1 score and confusion matrix"
   ]
  },
  {
   "cell_type": "code",
   "execution_count": 33,
   "id": "a29bd397-6782-454a-af72-f3e6e276aab9",
   "metadata": {
    "tags": []
   },
   "outputs": [],
   "source": [
    "#KNN Classifier\n",
    "from sklearn.neighbors import KNeighborsClassifier\n",
    "neigh = KNeighborsClassifier(n_neighbors=3)\n",
    "#Model fitting\n",
    "neigh.fit(X_train, y_train)\n",
    "# Predict y values\n",
    "y_predictions = neigh.predict(X_test)"
   ]
  },
  {
   "cell_type": "code",
   "execution_count": 34,
   "id": "d5fba920-41b4-44ef-aae8-1de97c32b65b",
   "metadata": {
    "tags": []
   },
   "outputs": [
    {
     "name": "stdout",
     "output_type": "stream",
     "text": [
      "training set score is : 0.823\n",
      "test set score is : 0.647\n"
     ]
    }
   ],
   "source": [
    "# printing the test accuracy\n",
    "\n",
    "print(\"training set score is : {:.3f}\" .format(neigh.score(X_train,y_train)))\n",
    "print(\"test set score is : {:.3f}\" .format(neigh.score(X_test,y_test)))"
   ]
  },
  {
   "cell_type": "code",
   "execution_count": 35,
   "id": "89d098bd-bf91-480f-9bd8-58310f6bbbbe",
   "metadata": {
    "tags": []
   },
   "outputs": [
    {
     "name": "stdout",
     "output_type": "stream",
     "text": [
      "F1_score:0.6484517789016059\n",
      "Precision:0.6501696832579186,Recall:0.6470588235294118\n"
     ]
    }
   ],
   "source": [
    "#F1 score\n",
    "from sklearn.metrics import precision_score, recall_score, f1_score\n",
    "\n",
    "precision = precision_score(y_test,y_predictions, average='weighted')\n",
    "recall = recall_score(y_test,y_predictions, average='weighted')\n",
    "f1_score_value = f1_score(y_test,y_predictions, average='weighted')\n",
    "print(f'F1_score:{f1_score_value}')\n",
    "print(f'Precision:{precision},Recall:{recall}')"
   ]
  },
  {
   "cell_type": "code",
   "execution_count": 36,
   "id": "121f1329-a38e-4c00-9cb6-7dca43e8cd05",
   "metadata": {},
   "outputs": [
    {
     "data": {
      "text/plain": [
       "<sklearn.metrics._plot.confusion_matrix.ConfusionMatrixDisplay at 0x7f31f0116bf0>"
      ]
     },
     "execution_count": 36,
     "metadata": {},
     "output_type": "execute_result"
    },
    {
     "data": {
      "image/png": "[encoded data removed]",
      "text/plain": [
       "<Figure size 640x480 with 2 Axes>"
      ]
     },
     "metadata": {},
     "output_type": "display_data"
    }
   ],
   "source": [
    "### Confusion Matrix\n",
    "ConfusionMatrixDisplay.from_predictions(y_test,y_predictions)"
   ]
  },
  {
   "cell_type": "markdown",
   "id": "7a425647-c3f5-4b54-8d14-3fdc2e0925ce",
   "metadata": {},
   "source": [
    "2.4 which classifier performs the best?"
   ]
  },
  {
   "cell_type": "markdown",
   "id": "75fcf030-b35b-4d80-8287-e13fb5ad8559",
   "metadata": {},
   "source": [
    "Random tree Forest Classifier is the best"
   ]
  },
  {
   "cell_type": "markdown",
   "id": "ae34daeb-c5ee-43a6-9837-6d231923b13b",
   "metadata": {},
   "source": [
    "2.5 use the features from the pca and k-means implementation in (1) to see if that improves the classification results"
   ]
  },
  {
   "cell_type": "markdown",
   "id": "9ca5f034-bf7a-4cc8-93f9-b054aaf586cc",
   "metadata": {},
   "source": [
    "3.   **Hyper-parameter tuning**: Implement hyperparameter tuning on random forest and KNN algorithms. Report the best performing model and the respective hyperparameters with highest accuracy. (20)"
   ]
  },
  {
   "cell_type": "markdown",
   "id": "31e9c352-4ddd-4900-8808-b3c5e110c089",
   "metadata": {},
   "source": [
    "3.1 Implement hyperparameter tuning on random forest"
   ]
  },
  {
   "cell_type": "markdown",
   "id": "d7e85aa3-7a04-46f5-a483-b7b03cf26584",
   "metadata": {},
   "source": [
    "Most important hyperparameters of Random Forest:\n",
    "\n",
    "n_estimators = n of trees\n",
    "\n",
    "max_features = max number of features considered for splitting a node\n",
    "\n",
    "max_depth = max number of levels in each decision tree\n",
    "\n",
    "min_samples_split = min number of data points placed in a node before the node is split\n",
    "\n",
    "min_samples_leaf = min number of data points allowed in a leaf node\n",
    "\n",
    "bootstrap = method for sampling data points (with or without replacement)"
   ]
  },
  {
   "cell_type": "code",
   "execution_count": 37,
   "id": "6cd06c23-bc02-4c6f-92ee-62d87d01424a",
   "metadata": {
    "tags": []
   },
   "outputs": [
    {
     "name": "stdout",
     "output_type": "stream",
     "text": [
      "Fitting 3 folds for each of 243 candidates, totalling 729 fits\n",
      "[CV] END bootstrap=True, max_depth=25, max_features=2, min_samples_leaf=3, min_samples_split=5, n_estimators=25; total time=   0.1s\n",
      "[CV] END bootstrap=True, max_depth=25, max_features=2, min_samples_leaf=3, min_samples_split=5, n_estimators=25; total time=   0.1s\n",
      "[CV] END bootstrap=True, max_depth=25, max_features=2, min_samples_leaf=3, min_samples_split=5, n_estimators=50; total time=   0.1s\n",
      "[CV] END bootstrap=True, max_depth=25, max_features=2, min_samples_leaf=3, min_samples_split=5, n_estimators=50; total time=   0.1s\n",
      "[CV] END bootstrap=True, max_depth=25, max_features=2, min_samples_leaf=3, min_samples_split=5, n_estimators=100; total time=   0.2s\n",
      "[CV] END bootstrap=True, max_depth=25, max_features=2, min_samples_leaf=3, min_samples_split=10, n_estimators=25; total time=   0.1s\n",
      "[CV] END bootstrap=True, max_depth=25, max_features=2, min_samples_leaf=3, min_samples_split=10, n_estimators=25; total time=   0.1s\n",
      "[CV] END bootstrap=True, max_depth=25, max_features=2, min_samples_leaf=3, min_samples_split=10, n_estimators=25; total time=   0.0s\n",
      "[CV] END bootstrap=True, max_depth=25, max_features=2, min_samples_leaf=3, min_samples_split=10, n_estimators=50; total time=   0.1s\n",
      "[CV] END bootstrap=True, max_depth=25, max_features=2, min_samples_leaf=3, min_samples_split=10, n_estimators=50; total time=   0.1s\n",
      "[CV] END bootstrap=True, max_depth=25, max_features=2, min_samples_leaf=3, min_samples_split=10, n_estimators=100; total time=   0.2s\n",
      "[CV] END bootstrap=True, max_depth=25, max_features=2, min_samples_leaf=3, min_samples_split=15, n_estimators=25; total time=   0.0s\n",
      "[CV] END bootstrap=True, max_depth=25, max_features=2, min_samples_leaf=3, min_samples_split=15, n_estimators=25; total time=   0.1s\n",
      "[CV] END bootstrap=True, max_depth=25, max_features=2, min_samples_leaf=3, min_samples_split=15, n_estimators=50; total time=   0.1s\n",
      "[CV] END bootstrap=True, max_depth=25, max_features=2, min_samples_leaf=3, min_samples_split=15, n_estimators=50; total time=   0.1s\n",
      "[CV] END bootstrap=True, max_depth=25, max_features=2, min_samples_leaf=3, min_samples_split=15, n_estimators=100; total time=   0.2s\n",
      "[CV] END bootstrap=True, max_depth=25, max_features=2, min_samples_leaf=4, min_samples_split=5, n_estimators=25; total time=   0.0s\n",
      "[CV] END bootstrap=True, max_depth=25, max_features=2, min_samples_leaf=4, min_samples_split=5, n_estimators=25; total time=   0.1s\n",
      "[CV] END bootstrap=True, max_depth=25, max_features=2, min_samples_leaf=4, min_samples_split=5, n_estimators=50; total time=   0.1s\n",
      "[CV] END bootstrap=True, max_depth=25, max_features=2, min_samples_leaf=4, min_samples_split=5, n_estimators=50; total time=   0.1s\n",
      "[CV] END bootstrap=True, max_depth=25, max_features=2, min_samples_leaf=4, min_samples_split=5, n_estimators=100; total time=   0.2s\n",
      "[CV] END bootstrap=True, max_depth=25, max_features=2, min_samples_leaf=4, min_samples_split=10, n_estimators=25; total time=   0.1s\n",
      "[CV] END bootstrap=True, max_depth=25, max_features=2, min_samples_leaf=4, min_samples_split=10, n_estimators=25; total time=   0.0s\n",
      "[CV] END bootstrap=True, max_depth=25, max_features=2, min_samples_leaf=4, min_samples_split=10, n_estimators=25; total time=   0.1s\n",
      "[CV] END bootstrap=True, max_depth=25, max_features=2, min_samples_leaf=4, min_samples_split=10, n_estimators=50; total time=   0.1s\n",
      "[CV] END bootstrap=True, max_depth=25, max_features=2, min_samples_leaf=4, min_samples_split=10, n_estimators=100; total time=   0.2s\n",
      "[CV] END bootstrap=True, max_depth=25, max_features=2, min_samples_leaf=4, min_samples_split=10, n_estimators=100; total time=   0.2s\n",
      "[CV] END bootstrap=True, max_depth=25, max_features=2, min_samples_leaf=4, min_samples_split=15, n_estimators=50; total time=   0.1s\n",
      "[CV] END bootstrap=True, max_depth=25, max_features=2, min_samples_leaf=4, min_samples_split=15, n_estimators=50; total time=   0.1s\n",
      "[CV] END bootstrap=True, max_depth=25, max_features=2, min_samples_leaf=4, min_samples_split=15, n_estimators=100; total time=   0.2s\n",
      "[CV] END bootstrap=True, max_depth=25, max_features=2, min_samples_leaf=4, min_samples_split=15, n_estimators=100; total time=   0.2s\n",
      "[CV] END bootstrap=True, max_depth=25, max_features=2, min_samples_leaf=5, min_samples_split=5, n_estimators=100; total time=   0.2s\n",
      "[CV] END bootstrap=True, max_depth=25, max_features=2, min_samples_leaf=5, min_samples_split=5, n_estimators=100; total time=   0.2s\n",
      "[CV] END bootstrap=True, max_depth=25, max_features=2, min_samples_leaf=5, min_samples_split=10, n_estimators=50; total time=   0.1s\n",
      "[CV] END bootstrap=True, max_depth=25, max_features=2, min_samples_leaf=5, min_samples_split=10, n_estimators=50; total time=   0.1s\n",
      "[CV] END bootstrap=True, max_depth=25, max_features=2, min_samples_leaf=5, min_samples_split=10, n_estimators=100; total time=   0.2s\n",
      "[CV] END bootstrap=True, max_depth=25, max_features=2, min_samples_leaf=5, min_samples_split=10, n_estimators=100; total time=   0.2s\n",
      "[CV] END bootstrap=True, max_depth=25, max_features=2, min_samples_leaf=5, min_samples_split=15, n_estimators=50; total time=   0.1s\n",
      "[CV] END bootstrap=True, max_depth=25, max_features=2, min_samples_leaf=5, min_samples_split=15, n_estimators=50; total time=   0.1s\n",
      "[CV] END bootstrap=True, max_depth=25, max_features=2, min_samples_leaf=5, min_samples_split=15, n_estimators=100; total time=   0.2s\n",
      "[CV] END bootstrap=True, max_depth=25, max_features=3, min_samples_leaf=3, min_samples_split=5, n_estimators=25; total time=   0.1s\n",
      "[CV] END bootstrap=True, max_depth=25, max_features=3, min_samples_leaf=3, min_samples_split=5, n_estimators=25; total time=   0.1s\n",
      "[CV] END bootstrap=True, max_depth=25, max_features=3, min_samples_leaf=3, min_samples_split=5, n_estimators=25; total time=   0.1s\n",
      "[CV] END bootstrap=True, max_depth=25, max_features=3, min_samples_leaf=3, min_samples_split=5, n_estimators=50; total time=   0.1s\n",
      "[CV] END bootstrap=True, max_depth=25, max_features=3, min_samples_leaf=3, min_samples_split=5, n_estimators=100; total time=   0.2s\n",
      "[CV] END bootstrap=True, max_depth=25, max_features=3, min_samples_leaf=3, min_samples_split=10, n_estimators=25; total time=   0.0s\n",
      "[CV] END bootstrap=True, max_depth=25, max_features=3, min_samples_leaf=3, min_samples_split=10, n_estimators=25; total time=   0.0s\n",
      "[CV] END bootstrap=True, max_depth=25, max_features=3, min_samples_leaf=3, min_samples_split=10, n_estimators=25; total time=   0.0s\n",
      "[CV] END bootstrap=True, max_depth=25, max_features=3, min_samples_leaf=3, min_samples_split=10, n_estimators=50; total time=   0.1s\n",
      "[CV] END bootstrap=True, max_depth=25, max_features=3, min_samples_leaf=3, min_samples_split=10, n_estimators=50; total time=   0.1s\n",
      "[CV] END bootstrap=True, max_depth=25, max_features=3, min_samples_leaf=3, min_samples_split=10, n_estimators=50; total time=   0.1s\n",
      "[CV] END bootstrap=True, max_depth=25, max_features=3, min_samples_leaf=3, min_samples_split=10, n_estimators=100; total time=   0.2s\n",
      "[CV] END bootstrap=True, max_depth=25, max_features=3, min_samples_leaf=3, min_samples_split=15, n_estimators=25; total time=   0.1s\n",
      "[CV] END bootstrap=True, max_depth=25, max_features=3, min_samples_leaf=3, min_samples_split=15, n_estimators=50; total time=   0.1s\n",
      "[CV] END bootstrap=True, max_depth=25, max_features=3, min_samples_leaf=3, min_samples_split=15, n_estimators=50; total time=   0.1s\n",
      "[CV] END bootstrap=True, max_depth=25, max_features=3, min_samples_leaf=3, min_samples_split=15, n_estimators=100; total time=   0.2s\n",
      "[CV] END bootstrap=True, max_depth=25, max_features=3, min_samples_leaf=3, min_samples_split=15, n_estimators=100; total time=   0.2s\n",
      "[CV] END bootstrap=True, max_depth=25, max_features=3, min_samples_leaf=4, min_samples_split=5, n_estimators=100; total time=   0.2s\n",
      "[CV] END bootstrap=True, max_depth=25, max_features=3, min_samples_leaf=4, min_samples_split=5, n_estimators=100; total time=   0.2s\n",
      "[CV] END bootstrap=True, max_depth=25, max_features=3, min_samples_leaf=4, min_samples_split=10, n_estimators=25; total time=   0.0s\n",
      "[CV] END bootstrap=True, max_depth=25, max_features=3, min_samples_leaf=4, min_samples_split=10, n_estimators=25; total time=   0.0s\n",
      "[CV] END bootstrap=True, max_depth=25, max_features=2, min_samples_leaf=3, min_samples_split=5, n_estimators=25; total time=   0.1s\n",
      "[CV] END bootstrap=True, max_depth=25, max_features=2, min_samples_leaf=3, min_samples_split=5, n_estimators=50; total time=   0.1s\n",
      "[CV] END bootstrap=True, max_depth=25, max_features=2, min_samples_leaf=3, min_samples_split=5, n_estimators=100; total time=   0.2s\n",
      "[CV] END bootstrap=True, max_depth=25, max_features=2, min_samples_leaf=3, min_samples_split=5, n_estimators=100; total time=   0.2s\n",
      "[CV] END bootstrap=True, max_depth=25, max_features=2, min_samples_leaf=3, min_samples_split=10, n_estimators=50; total time=   0.1s\n",
      "[CV] END bootstrap=True, max_depth=25, max_features=2, min_samples_leaf=3, min_samples_split=10, n_estimators=100; total time=   0.2s\n",
      "[CV] END bootstrap=True, max_depth=25, max_features=2, min_samples_leaf=3, min_samples_split=10, n_estimators=100; total time=   0.2s\n",
      "[CV] END bootstrap=True, max_depth=25, max_features=2, min_samples_leaf=3, min_samples_split=15, n_estimators=25; total time=   0.0s\n",
      "[CV] END bootstrap=True, max_depth=25, max_features=2, min_samples_leaf=3, min_samples_split=15, n_estimators=50; total time=   0.1s\n",
      "[CV] END bootstrap=True, max_depth=25, max_features=2, min_samples_leaf=3, min_samples_split=15, n_estimators=100; total time=   0.2s\n",
      "[CV] END bootstrap=True, max_depth=25, max_features=2, min_samples_leaf=3, min_samples_split=15, n_estimators=100; total time=   0.2s\n",
      "[CV] END bootstrap=True, max_depth=25, max_features=2, min_samples_leaf=4, min_samples_split=5, n_estimators=25; total time=   0.1s\n",
      "[CV] END bootstrap=True, max_depth=25, max_features=2, min_samples_leaf=4, min_samples_split=5, n_estimators=50; total time=   0.1s\n",
      "[CV] END bootstrap=True, max_depth=25, max_features=2, min_samples_leaf=4, min_samples_split=5, n_estimators=100; total time=   0.2s\n",
      "[CV] END bootstrap=True, max_depth=25, max_features=2, min_samples_leaf=4, min_samples_split=5, n_estimators=100; total time=   0.2s\n",
      "[CV] END bootstrap=True, max_depth=25, max_features=2, min_samples_leaf=4, min_samples_split=10, n_estimators=50; total time=   0.1s\n",
      "[CV] END bootstrap=True, max_depth=25, max_features=2, min_samples_leaf=4, min_samples_split=10, n_estimators=50; total time=   0.1s\n",
      "[CV] END bootstrap=True, max_depth=25, max_features=2, min_samples_leaf=4, min_samples_split=10, n_estimators=100; total time=   0.2s\n",
      "[CV] END bootstrap=True, max_depth=25, max_features=2, min_samples_leaf=4, min_samples_split=15, n_estimators=25; total time=   0.0s\n",
      "[CV] END bootstrap=True, max_depth=25, max_features=2, min_samples_leaf=4, min_samples_split=15, n_estimators=25; total time=   0.0s\n",
      "[CV] END bootstrap=True, max_depth=25, max_features=2, min_samples_leaf=4, min_samples_split=15, n_estimators=25; total time=   0.0s\n",
      "[CV] END bootstrap=True, max_depth=25, max_features=2, min_samples_leaf=4, min_samples_split=15, n_estimators=50; total time=   0.1s\n",
      "[CV] END bootstrap=True, max_depth=25, max_features=2, min_samples_leaf=4, min_samples_split=15, n_estimators=100; total time=   0.2s\n",
      "[CV] END bootstrap=True, max_depth=25, max_features=2, min_samples_leaf=5, min_samples_split=5, n_estimators=25; total time=   0.0s\n",
      "[CV] END bootstrap=True, max_depth=25, max_features=2, min_samples_leaf=5, min_samples_split=5, n_estimators=25; total time=   0.1s\n",
      "[CV] END bootstrap=True, max_depth=25, max_features=2, min_samples_leaf=5, min_samples_split=5, n_estimators=25; total time=   0.0s\n",
      "[CV] END bootstrap=True, max_depth=25, max_features=2, min_samples_leaf=5, min_samples_split=5, n_estimators=50; total time=   0.1s\n",
      "[CV] END bootstrap=True, max_depth=25, max_features=2, min_samples_leaf=5, min_samples_split=5, n_estimators=50; total time=   0.1s\n",
      "[CV] END bootstrap=True, max_depth=25, max_features=2, min_samples_leaf=5, min_samples_split=5, n_estimators=50; total time=   0.1s\n",
      "[CV] END bootstrap=True, max_depth=25, max_features=2, min_samples_leaf=5, min_samples_split=5, n_estimators=100; total time=   0.2s\n",
      "[CV] END bootstrap=True, max_depth=25, max_features=2, min_samples_leaf=5, min_samples_split=10, n_estimators=25; total time=   0.0s\n",
      "[CV] END bootstrap=True, max_depth=25, max_features=2, min_samples_leaf=5, min_samples_split=10, n_estimators=25; total time=   0.0s\n",
      "[CV] END bootstrap=True, max_depth=25, max_features=2, min_samples_leaf=5, min_samples_split=10, n_estimators=25; total time=   0.0s\n",
      "[CV] END bootstrap=True, max_depth=25, max_features=2, min_samples_leaf=5, min_samples_split=10, n_estimators=50; total time=   0.1s\n",
      "[CV] END bootstrap=True, max_depth=25, max_features=2, min_samples_leaf=5, min_samples_split=10, n_estimators=100; total time=   0.2s\n",
      "[CV] END bootstrap=True, max_depth=25, max_features=2, min_samples_leaf=5, min_samples_split=15, n_estimators=25; total time=   0.0s\n",
      "[CV] END bootstrap=True, max_depth=25, max_features=2, min_samples_leaf=5, min_samples_split=15, n_estimators=25; total time=   0.0s\n",
      "[CV] END bootstrap=True, max_depth=25, max_features=2, min_samples_leaf=5, min_samples_split=15, n_estimators=25; total time=   0.0s\n",
      "[CV] END bootstrap=True, max_depth=25, max_features=2, min_samples_leaf=5, min_samples_split=15, n_estimators=50; total time=   0.1s\n",
      "[CV] END bootstrap=True, max_depth=25, max_features=2, min_samples_leaf=5, min_samples_split=15, n_estimators=100; total time=   0.2s\n",
      "[CV] END bootstrap=True, max_depth=25, max_features=2, min_samples_leaf=5, min_samples_split=15, n_estimators=100; total time=   0.2s\n",
      "[CV] END bootstrap=True, max_depth=25, max_features=3, min_samples_leaf=3, min_samples_split=5, n_estimators=50; total time=   0.1s\n",
      "[CV] END bootstrap=True, max_depth=25, max_features=3, min_samples_leaf=3, min_samples_split=5, n_estimators=50; total time=   0.1s\n",
      "[CV] END bootstrap=True, max_depth=25, max_features=3, min_samples_leaf=3, min_samples_split=5, n_estimators=100; total time=   0.2s\n",
      "[CV] END bootstrap=True, max_depth=25, max_features=3, min_samples_leaf=3, min_samples_split=5, n_estimators=100; total time=   0.2s\n",
      "[CV] END bootstrap=True, max_depth=25, max_features=3, min_samples_leaf=3, min_samples_split=10, n_estimators=100; total time=   0.2s\n",
      "[CV] END bootstrap=True, max_depth=25, max_features=3, min_samples_leaf=3, min_samples_split=10, n_estimators=100; total time=   0.2s\n",
      "[CV] END bootstrap=True, max_depth=25, max_features=3, min_samples_leaf=3, min_samples_split=15, n_estimators=25; total time=   0.0s\n",
      "[CV] END bootstrap=True, max_depth=25, max_features=3, min_samples_leaf=3, min_samples_split=15, n_estimators=25; total time=   0.0s\n",
      "[CV] END bootstrap=True, max_depth=25, max_features=3, min_samples_leaf=3, min_samples_split=15, n_estimators=50; total time=   0.1s\n",
      "[CV] END bootstrap=True, max_depth=25, max_features=3, min_samples_leaf=3, min_samples_split=15, n_estimators=100; total time=   0.2s\n",
      "[CV] END bootstrap=True, max_depth=25, max_features=3, min_samples_leaf=4, min_samples_split=5, n_estimators=25; total time=   0.0s\n",
      "[CV] END bootstrap=True, max_depth=25, max_features=3, min_samples_leaf=4, min_samples_split=5, n_estimators=25; total time=   0.0s\n",
      "[CV] END bootstrap=True, max_depth=25, max_features=3, min_samples_leaf=4, min_samples_split=5, n_estimators=25; total time=   0.0s\n",
      "[CV] END bootstrap=True, max_depth=25, max_features=3, min_samples_leaf=4, min_samples_split=5, n_estimators=50; total time=   0.1s\n",
      "[CV] END bootstrap=True, max_depth=25, max_features=3, min_samples_leaf=4, min_samples_split=5, n_estimators=50; total time=   0.1s\n",
      "[CV] END bootstrap=True, max_depth=25, max_features=3, min_samples_leaf=4, min_samples_split=5, n_estimators=50; total time=   0.1s\n",
      "[CV] END bootstrap=True, max_depth=25, max_features=3, min_samples_leaf=4, min_samples_split=5, n_estimators=100; total time=   0.2s\n",
      "[CV] END bootstrap=True, max_depth=25, max_features=3, min_samples_leaf=4, min_samples_split=10, n_estimators=25; total time=   0.0s\n",
      "[CV] END bootstrap=True, max_depth=25, max_features=3, min_samples_leaf=4, min_samples_split=10, n_estimators=50; total time=   0.1s\n",
      "[CV] END bootstrap=True, max_depth=25, max_features=3, min_samples_leaf=4, min_samples_split=10, n_estimators=50; total time=   0.1s\n",
      "[CV] END bootstrap=True, max_depth=25, max_features=3, min_samples_leaf=4, min_samples_split=10, n_estimators=50; total time=   0.1s\n",
      "[CV] END bootstrap=True, max_depth=25, max_features=3, min_samples_leaf=4, min_samples_split=10, n_estimators=100; total time=   0.2s\n",
      "[CV] END bootstrap=True, max_depth=25, max_features=3, min_samples_leaf=4, min_samples_split=15, n_estimators=25; total time=   0.0s\n",
      "[CV] END bootstrap=True, max_depth=25, max_features=3, min_samples_leaf=4, min_samples_split=15, n_estimators=25; total time=   0.0s\n",
      "[CV] END bootstrap=True, max_depth=25, max_features=3, min_samples_leaf=4, min_samples_split=15, n_estimators=25; total time=   0.1s\n",
      "[CV] END bootstrap=True, max_depth=25, max_features=3, min_samples_leaf=4, min_samples_split=15, n_estimators=50; total time=   0.1s\n",
      "[CV] END bootstrap=True, max_depth=25, max_features=3, min_samples_leaf=4, min_samples_split=15, n_estimators=50; total time=   0.1s\n",
      "[CV] END bootstrap=True, max_depth=25, max_features=3, min_samples_leaf=4, min_samples_split=15, n_estimators=50; total time=   0.1s\n",
      "[CV] END bootstrap=True, max_depth=25, max_features=3, min_samples_leaf=4, min_samples_split=15, n_estimators=100; total time=   0.2s\n",
      "[CV] END bootstrap=True, max_depth=25, max_features=3, min_samples_leaf=5, min_samples_split=5, n_estimators=25; total time=   0.0s\n",
      "[CV] END bootstrap=True, max_depth=25, max_features=3, min_samples_leaf=5, min_samples_split=5, n_estimators=50; total time=   0.1s\n",
      "[CV] END bootstrap=True, max_depth=25, max_features=3, min_samples_leaf=5, min_samples_split=5, n_estimators=50; total time=   0.1s\n",
      "[CV] END bootstrap=True, max_depth=25, max_features=3, min_samples_leaf=5, min_samples_split=5, n_estimators=100; total time=   0.2s\n",
      "[CV] END bootstrap=True, max_depth=25, max_features=3, min_samples_leaf=5, min_samples_split=5, n_estimators=100; total time=   0.2s\n",
      "[CV] END bootstrap=True, max_depth=25, max_features=3, min_samples_leaf=5, min_samples_split=10, n_estimators=50; total time=   0.1s\n",
      "[CV] END bootstrap=True, max_depth=25, max_features=3, min_samples_leaf=5, min_samples_split=10, n_estimators=50; total time=   0.1s\n",
      "[CV] END bootstrap=True, max_depth=25, max_features=3, min_samples_leaf=5, min_samples_split=10, n_estimators=100; total time=   0.2s\n",
      "[CV] END bootstrap=True, max_depth=25, max_features=3, min_samples_leaf=5, min_samples_split=15, n_estimators=25; total time=   0.0s\n",
      "[CV] END bootstrap=True, max_depth=25, max_features=3, min_samples_leaf=5, min_samples_split=15, n_estimators=25; total time=   0.0s\n",
      "[CV] END bootstrap=True, max_depth=25, max_features=3, min_samples_leaf=5, min_samples_split=15, n_estimators=25; total time=   0.0s\n",
      "[CV] END bootstrap=True, max_depth=25, max_features=3, min_samples_leaf=5, min_samples_split=15, n_estimators=50; total time=   0.2s\n",
      "[CV] END bootstrap=True, max_depth=25, max_features=3, min_samples_leaf=5, min_samples_split=15, n_estimators=100; total time=   0.2s\n",
      "[CV] END bootstrap=True, max_depth=25, max_features=4, min_samples_leaf=3, min_samples_split=5, n_estimators=25; total time=   0.0s\n",
      "[CV] END bootstrap=True, max_depth=25, max_features=4, min_samples_leaf=3, min_samples_split=5, n_estimators=25; total time=   0.0s\n",
      "[CV] END bootstrap=True, max_depth=25, max_features=4, min_samples_leaf=3, min_samples_split=5, n_estimators=25; total time=   0.1s\n",
      "[CV] END bootstrap=True, max_depth=25, max_features=4, min_samples_leaf=3, min_samples_split=5, n_estimators=50; total time=   0.1s\n",
      "[CV] END bootstrap=True, max_depth=25, max_features=4, min_samples_leaf=3, min_samples_split=5, n_estimators=100; total time=   0.2s\n",
      "[CV] END bootstrap=True, max_depth=25, max_features=4, min_samples_leaf=3, min_samples_split=5, n_estimators=100; total time=   0.2s\n",
      "[CV] END bootstrap=True, max_depth=25, max_features=4, min_samples_leaf=3, min_samples_split=10, n_estimators=25; total time=   0.0s\n",
      "[CV] END bootstrap=True, max_depth=25, max_features=4, min_samples_leaf=3, min_samples_split=10, n_estimators=25; total time=   0.0s\n",
      "[CV] END bootstrap=True, max_depth=25, max_features=4, min_samples_leaf=3, min_samples_split=10, n_estimators=50; total time=   0.1s\n",
      "[CV] END bootstrap=True, max_depth=25, max_features=4, min_samples_leaf=3, min_samples_split=10, n_estimators=100; total time=   0.2s\n",
      "[CV] END bootstrap=True, max_depth=25, max_features=4, min_samples_leaf=3, min_samples_split=15, n_estimators=25; total time=   0.1s\n",
      "[CV] END bootstrap=True, max_depth=25, max_features=4, min_samples_leaf=3, min_samples_split=15, n_estimators=25; total time=   0.1s\n",
      "[CV] END bootstrap=True, max_depth=25, max_features=4, min_samples_leaf=3, min_samples_split=15, n_estimators=25; total time=   0.0s\n",
      "[CV] END bootstrap=True, max_depth=25, max_features=4, min_samples_leaf=3, min_samples_split=15, n_estimators=50; total time=   0.1s\n",
      "[CV] END bootstrap=True, max_depth=25, max_features=4, min_samples_leaf=3, min_samples_split=15, n_estimators=100; total time=   0.2s\n",
      "[CV] END bootstrap=True, max_depth=25, max_features=4, min_samples_leaf=3, min_samples_split=15, n_estimators=100; total time=   0.2s\n",
      "[CV] END bootstrap=True, max_depth=25, max_features=4, min_samples_leaf=4, min_samples_split=5, n_estimators=50; total time=   0.1s\n",
      "[CV] END bootstrap=True, max_depth=25, max_features=4, min_samples_leaf=4, min_samples_split=5, n_estimators=50; total time=   0.1s\n",
      "[CV] END bootstrap=True, max_depth=25, max_features=4, min_samples_leaf=4, min_samples_split=5, n_estimators=100; total time=   0.2s\n",
      "[CV] END bootstrap=True, max_depth=25, max_features=4, min_samples_leaf=4, min_samples_split=5, n_estimators=100; total time=   0.2s\n",
      "[CV] END bootstrap=True, max_depth=25, max_features=4, min_samples_leaf=4, min_samples_split=10, n_estimators=100; total time=   0.2s\n",
      "[CV] END bootstrap=True, max_depth=25, max_features=4, min_samples_leaf=4, min_samples_split=10, n_estimators=100; total time=   0.2s\n",
      "[CV] END bootstrap=True, max_depth=25, max_features=4, min_samples_leaf=4, min_samples_split=15, n_estimators=25; total time=   0.0s\n",
      "[CV] END bootstrap=True, max_depth=25, max_features=4, min_samples_leaf=4, min_samples_split=15, n_estimators=25; total time=   0.0s\n",
      "[CV] END bootstrap=True, max_depth=25, max_features=4, min_samples_leaf=4, min_samples_split=15, n_estimators=50; total time=   0.1s\n",
      "[CV] END bootstrap=True, max_depth=25, max_features=4, min_samples_leaf=4, min_samples_split=15, n_estimators=100; total time=   0.2s\n",
      "[CV] END bootstrap=True, max_depth=25, max_features=4, min_samples_leaf=5, min_samples_split=5, n_estimators=25; total time=   0.0s\n",
      "[CV] END bootstrap=True, max_depth=25, max_features=4, min_samples_leaf=5, min_samples_split=5, n_estimators=25; total time=   0.0s\n",
      "[CV] END bootstrap=True, max_depth=25, max_features=4, min_samples_leaf=5, min_samples_split=5, n_estimators=25; total time=   0.0s\n",
      "[CV] END bootstrap=True, max_depth=25, max_features=4, min_samples_leaf=5, min_samples_split=5, n_estimators=50; total time=   0.1s\n",
      "[CV] END bootstrap=True, max_depth=25, max_features=4, min_samples_leaf=5, min_samples_split=5, n_estimators=100; total time=   0.2s\n",
      "[CV] END bootstrap=True, max_depth=25, max_features=4, min_samples_leaf=5, min_samples_split=5, n_estimators=100; total time=   0.2s\n",
      "[CV] END bootstrap=True, max_depth=25, max_features=4, min_samples_leaf=5, min_samples_split=10, n_estimators=50; total time=   0.1s\n",
      "[CV] END bootstrap=True, max_depth=25, max_features=4, min_samples_leaf=5, min_samples_split=10, n_estimators=50; total time=   0.1s\n",
      "[CV] END bootstrap=True, max_depth=25, max_features=4, min_samples_leaf=5, min_samples_split=10, n_estimators=100; total time=   0.2s\n",
      "[CV] END bootstrap=True, max_depth=25, max_features=4, min_samples_leaf=5, min_samples_split=10, n_estimators=100; total time=   0.2s\n",
      "[CV] END bootstrap=True, max_depth=25, max_features=4, min_samples_leaf=5, min_samples_split=15, n_estimators=50; total time=   0.1s\n",
      "[CV] END bootstrap=True, max_depth=25, max_features=4, min_samples_leaf=5, min_samples_split=15, n_estimators=50; total time=   0.1s\n",
      "[CV] END bootstrap=True, max_depth=25, max_features=4, min_samples_leaf=5, min_samples_split=15, n_estimators=100; total time=   0.2s\n",
      "[CV] END bootstrap=True, max_depth=25, max_features=3, min_samples_leaf=4, min_samples_split=10, n_estimators=100; total time=   0.2s\n",
      "[CV] END bootstrap=True, max_depth=25, max_features=3, min_samples_leaf=4, min_samples_split=10, n_estimators=100; total time=   0.2s\n",
      "[CV] END bootstrap=True, max_depth=25, max_features=3, min_samples_leaf=4, min_samples_split=15, n_estimators=100; total time=   0.2s\n",
      "[CV] END bootstrap=True, max_depth=25, max_features=3, min_samples_leaf=4, min_samples_split=15, n_estimators=100; total time=   0.2s\n",
      "[CV] END bootstrap=True, max_depth=25, max_features=3, min_samples_leaf=5, min_samples_split=5, n_estimators=25; total time=   0.1s\n",
      "[CV] END bootstrap=True, max_depth=25, max_features=3, min_samples_leaf=5, min_samples_split=5, n_estimators=25; total time=   0.0s\n",
      "[CV] END bootstrap=True, max_depth=25, max_features=3, min_samples_leaf=5, min_samples_split=5, n_estimators=50; total time=   0.1s\n",
      "[CV] END bootstrap=True, max_depth=25, max_features=3, min_samples_leaf=5, min_samples_split=5, n_estimators=100; total time=   0.2s\n",
      "[CV] END bootstrap=True, max_depth=25, max_features=3, min_samples_leaf=5, min_samples_split=10, n_estimators=25; total time=   0.1s\n",
      "[CV] END bootstrap=True, max_depth=25, max_features=3, min_samples_leaf=5, min_samples_split=10, n_estimators=25; total time=   0.0s\n",
      "[CV] END bootstrap=True, max_depth=25, max_features=3, min_samples_leaf=5, min_samples_split=10, n_estimators=25; total time=   0.0s\n",
      "[CV] END bootstrap=True, max_depth=25, max_features=3, min_samples_leaf=5, min_samples_split=10, n_estimators=50; total time=   0.1s\n",
      "[CV] END bootstrap=True, max_depth=25, max_features=3, min_samples_leaf=5, min_samples_split=10, n_estimators=100; total time=   0.2s\n",
      "[CV] END bootstrap=True, max_depth=25, max_features=3, min_samples_leaf=5, min_samples_split=10, n_estimators=100; total time=   0.2s\n",
      "[CV] END bootstrap=True, max_depth=25, max_features=3, min_samples_leaf=5, min_samples_split=15, n_estimators=50; total time=   0.1s\n",
      "[CV] END bootstrap=True, max_depth=25, max_features=3, min_samples_leaf=5, min_samples_split=15, n_estimators=50; total time=   0.1s\n",
      "[CV] END bootstrap=True, max_depth=25, max_features=3, min_samples_leaf=5, min_samples_split=15, n_estimators=100; total time=   0.2s\n",
      "[CV] END bootstrap=True, max_depth=25, max_features=3, min_samples_leaf=5, min_samples_split=15, n_estimators=100; total time=   0.2s\n",
      "[CV] END bootstrap=True, max_depth=25, max_features=4, min_samples_leaf=3, min_samples_split=5, n_estimators=50; total time=   0.1s\n",
      "[CV] END bootstrap=True, max_depth=25, max_features=4, min_samples_leaf=3, min_samples_split=5, n_estimators=50; total time=   0.1s\n",
      "[CV] END bootstrap=True, max_depth=25, max_features=4, min_samples_leaf=3, min_samples_split=5, n_estimators=100; total time=   0.2s\n",
      "[CV] END bootstrap=True, max_depth=25, max_features=4, min_samples_leaf=3, min_samples_split=10, n_estimators=25; total time=   0.0s\n",
      "[CV] END bootstrap=True, max_depth=25, max_features=4, min_samples_leaf=3, min_samples_split=10, n_estimators=50; total time=   0.1s\n",
      "[CV] END bootstrap=True, max_depth=25, max_features=4, min_samples_leaf=3, min_samples_split=10, n_estimators=50; total time=   0.1s\n",
      "[CV] END bootstrap=True, max_depth=25, max_features=4, min_samples_leaf=3, min_samples_split=10, n_estimators=100; total time=   0.2s\n",
      "[CV] END bootstrap=True, max_depth=25, max_features=4, min_samples_leaf=3, min_samples_split=10, n_estimators=100; total time=   0.2s\n",
      "[CV] END bootstrap=True, max_depth=25, max_features=4, min_samples_leaf=3, min_samples_split=15, n_estimators=50; total time=   0.1s\n",
      "[CV] END bootstrap=True, max_depth=25, max_features=4, min_samples_leaf=3, min_samples_split=15, n_estimators=50; total time=   0.1s\n",
      "[CV] END bootstrap=True, max_depth=25, max_features=4, min_samples_leaf=3, min_samples_split=15, n_estimators=100; total time=   0.2s\n",
      "[CV] END bootstrap=True, max_depth=25, max_features=4, min_samples_leaf=4, min_samples_split=5, n_estimators=25; total time=   0.0s\n",
      "[CV] END bootstrap=True, max_depth=25, max_features=4, min_samples_leaf=4, min_samples_split=5, n_estimators=25; total time=   0.1s\n",
      "[CV] END bootstrap=True, max_depth=25, max_features=4, min_samples_leaf=4, min_samples_split=5, n_estimators=25; total time=   0.0s\n",
      "[CV] END bootstrap=True, max_depth=25, max_features=4, min_samples_leaf=4, min_samples_split=5, n_estimators=50; total time=   0.1s\n",
      "[CV] END bootstrap=True, max_depth=25, max_features=4, min_samples_leaf=4, min_samples_split=5, n_estimators=100; total time=   0.2s\n",
      "[CV] END bootstrap=True, max_depth=25, max_features=4, min_samples_leaf=4, min_samples_split=10, n_estimators=25; total time=   0.0s\n",
      "[CV] END bootstrap=True, max_depth=25, max_features=4, min_samples_leaf=4, min_samples_split=10, n_estimators=25; total time=   0.0s\n",
      "[CV] END bootstrap=True, max_depth=25, max_features=4, min_samples_leaf=4, min_samples_split=10, n_estimators=25; total time=   0.1s\n",
      "[CV] END bootstrap=True, max_depth=25, max_features=4, min_samples_leaf=4, min_samples_split=10, n_estimators=50; total time=   0.1s\n",
      "[CV] END bootstrap=True, max_depth=25, max_features=4, min_samples_leaf=4, min_samples_split=10, n_estimators=50; total time=   0.1s\n",
      "[CV] END bootstrap=True, max_depth=25, max_features=4, min_samples_leaf=4, min_samples_split=10, n_estimators=50; total time=   0.1s\n",
      "[CV] END bootstrap=True, max_depth=25, max_features=4, min_samples_leaf=4, min_samples_split=10, n_estimators=100; total time=   0.2s\n",
      "[CV] END bootstrap=True, max_depth=25, max_features=4, min_samples_leaf=4, min_samples_split=15, n_estimators=25; total time=   0.0s\n",
      "[CV] END bootstrap=True, max_depth=25, max_features=4, min_samples_leaf=4, min_samples_split=15, n_estimators=50; total time=   0.1s\n",
      "[CV] END bootstrap=True, max_depth=25, max_features=4, min_samples_leaf=4, min_samples_split=15, n_estimators=50; total time=   0.1s\n",
      "[CV] END bootstrap=True, max_depth=25, max_features=4, min_samples_leaf=4, min_samples_split=15, n_estimators=100; total time=   0.2s\n",
      "[CV] END bootstrap=True, max_depth=25, max_features=4, min_samples_leaf=4, min_samples_split=15, n_estimators=100; total time=   0.2s\n",
      "[CV] END bootstrap=True, max_depth=25, max_features=4, min_samples_leaf=5, min_samples_split=5, n_estimators=50; total time=   0.1s\n",
      "[CV] END bootstrap=True, max_depth=25, max_features=4, min_samples_leaf=5, min_samples_split=5, n_estimators=50; total time=   0.1s\n",
      "[CV] END bootstrap=True, max_depth=25, max_features=4, min_samples_leaf=5, min_samples_split=5, n_estimators=100; total time=   0.2s\n",
      "[CV] END bootstrap=True, max_depth=25, max_features=4, min_samples_leaf=5, min_samples_split=10, n_estimators=25; total time=   0.0s\n",
      "[CV] END bootstrap=True, max_depth=25, max_features=4, min_samples_leaf=5, min_samples_split=10, n_estimators=25; total time=   0.1s\n",
      "[CV] END bootstrap=True, max_depth=25, max_features=4, min_samples_leaf=5, min_samples_split=10, n_estimators=25; total time=   0.0s\n",
      "[CV] END bootstrap=True, max_depth=25, max_features=4, min_samples_leaf=5, min_samples_split=10, n_estimators=50; total time=   0.1s\n",
      "[CV] END bootstrap=True, max_depth=25, max_features=4, min_samples_leaf=5, min_samples_split=10, n_estimators=100; total time=   0.2s\n",
      "[CV] END bootstrap=True, max_depth=25, max_features=4, min_samples_leaf=5, min_samples_split=15, n_estimators=25; total time=   0.0s\n",
      "[CV] END bootstrap=True, max_depth=25, max_features=4, min_samples_leaf=5, min_samples_split=15, n_estimators=25; total time=   0.1s\n",
      "[CV] END bootstrap=True, max_depth=25, max_features=4, min_samples_leaf=5, min_samples_split=15, n_estimators=25; total time=   0.0s\n",
      "[CV] END bootstrap=True, max_depth=25, max_features=4, min_samples_leaf=5, min_samples_split=15, n_estimators=50; total time=   0.1s\n",
      "[CV] END bootstrap=True, max_depth=25, max_features=4, min_samples_leaf=5, min_samples_split=15, n_estimators=100; total time=   0.2s\n",
      "[CV] END bootstrap=True, max_depth=25, max_features=4, min_samples_leaf=5, min_samples_split=15, n_estimators=100; total time=   0.2s\n",
      "[CV] END bootstrap=True, max_depth=50, max_features=2, min_samples_leaf=3, min_samples_split=5, n_estimators=25; total time=   0.0s\n",
      "[CV] END bootstrap=True, max_depth=50, max_features=2, min_samples_leaf=3, min_samples_split=5, n_estimators=25; total time=   0.0s\n",
      "[CV] END bootstrap=True, max_depth=50, max_features=2, min_samples_leaf=3, min_samples_split=5, n_estimators=50; total time=   0.1s\n",
      "[CV] END bootstrap=True, max_depth=50, max_features=2, min_samples_leaf=3, min_samples_split=5, n_estimators=50; total time=   0.1s\n",
      "[CV] END bootstrap=True, max_depth=50, max_features=2, min_samples_leaf=3, min_samples_split=5, n_estimators=100; total time=   0.2s\n",
      "[CV] END bootstrap=True, max_depth=50, max_features=2, min_samples_leaf=3, min_samples_split=5, n_estimators=100; total time=   0.2s\n",
      "[CV] END bootstrap=True, max_depth=50, max_features=2, min_samples_leaf=3, min_samples_split=10, n_estimators=100; total time=   0.2s\n",
      "[CV] END bootstrap=True, max_depth=50, max_features=2, min_samples_leaf=3, min_samples_split=10, n_estimators=100; total time=   0.2s\n",
      "[CV] END bootstrap=True, max_depth=50, max_features=2, min_samples_leaf=3, min_samples_split=15, n_estimators=50; total time=   0.1s\n",
      "[CV] END bootstrap=True, max_depth=50, max_features=2, min_samples_leaf=3, min_samples_split=15, n_estimators=50; total time=   0.1s\n",
      "[CV] END bootstrap=True, max_depth=50, max_features=2, min_samples_leaf=3, min_samples_split=15, n_estimators=100; total time=   0.2s\n",
      "[CV] END bootstrap=True, max_depth=50, max_features=2, min_samples_leaf=3, min_samples_split=15, n_estimators=100; total time=   0.2s\n",
      "[CV] END bootstrap=True, max_depth=50, max_features=2, min_samples_leaf=4, min_samples_split=5, n_estimators=50; total time=   0.1s\n",
      "[CV] END bootstrap=True, max_depth=50, max_features=2, min_samples_leaf=4, min_samples_split=5, n_estimators=50; total time=   0.1s\n",
      "[CV] END bootstrap=True, max_depth=50, max_features=2, min_samples_leaf=4, min_samples_split=5, n_estimators=100; total time=   0.2s\n",
      "[CV] END bootstrap=True, max_depth=50, max_features=2, min_samples_leaf=4, min_samples_split=10, n_estimators=25; total time=   0.1s\n",
      "[CV] END bootstrap=True, max_depth=50, max_features=2, min_samples_leaf=4, min_samples_split=10, n_estimators=50; total time=   0.1s\n",
      "[CV] END bootstrap=True, max_depth=50, max_features=2, min_samples_leaf=4, min_samples_split=10, n_estimators=50; total time=   0.1s\n",
      "[CV] END bootstrap=True, max_depth=50, max_features=2, min_samples_leaf=4, min_samples_split=10, n_estimators=100; total time=   0.2s\n",
      "[CV] END bootstrap=True, max_depth=50, max_features=2, min_samples_leaf=4, min_samples_split=10, n_estimators=100; total time=   0.2s\n",
      "[CV] END bootstrap=True, max_depth=50, max_features=2, min_samples_leaf=4, min_samples_split=15, n_estimators=50; total time=   0.1s\n",
      "[CV] END bootstrap=True, max_depth=50, max_features=2, min_samples_leaf=4, min_samples_split=15, n_estimators=50; total time=   0.1s\n",
      "[CV] END bootstrap=True, max_depth=50, max_features=2, min_samples_leaf=4, min_samples_split=15, n_estimators=100; total time=   0.2s\n",
      "[CV] END bootstrap=True, max_depth=50, max_features=2, min_samples_leaf=5, min_samples_split=5, n_estimators=25; total time=   0.0s\n",
      "[CV] END bootstrap=True, max_depth=50, max_features=2, min_samples_leaf=5, min_samples_split=5, n_estimators=25; total time=   0.0s\n",
      "[CV] END bootstrap=True, max_depth=50, max_features=2, min_samples_leaf=5, min_samples_split=5, n_estimators=25; total time=   0.0s\n",
      "[CV] END bootstrap=True, max_depth=50, max_features=2, min_samples_leaf=5, min_samples_split=5, n_estimators=50; total time=   0.1s\n",
      "[CV] END bootstrap=True, max_depth=50, max_features=2, min_samples_leaf=5, min_samples_split=5, n_estimators=100; total time=   0.2s\n",
      "[CV] END bootstrap=True, max_depth=50, max_features=2, min_samples_leaf=5, min_samples_split=10, n_estimators=25; total time=   0.0s\n",
      "[CV] END bootstrap=True, max_depth=50, max_features=2, min_samples_leaf=5, min_samples_split=10, n_estimators=25; total time=   0.0s\n",
      "[CV] END bootstrap=True, max_depth=50, max_features=2, min_samples_leaf=5, min_samples_split=10, n_estimators=25; total time=   0.0s\n",
      "[CV] END bootstrap=True, max_depth=50, max_features=2, min_samples_leaf=5, min_samples_split=10, n_estimators=50; total time=   0.1s\n",
      "[CV] END bootstrap=True, max_depth=50, max_features=2, min_samples_leaf=5, min_samples_split=10, n_estimators=100; total time=   0.2s\n",
      "[CV] END bootstrap=True, max_depth=50, max_features=2, min_samples_leaf=5, min_samples_split=10, n_estimators=100; total time=   0.2s\n",
      "[CV] END bootstrap=True, max_depth=50, max_features=2, min_samples_leaf=5, min_samples_split=15, n_estimators=25; total time=   0.0s\n",
      "[CV] END bootstrap=True, max_depth=50, max_features=2, min_samples_leaf=5, min_samples_split=15, n_estimators=25; total time=   0.0s\n",
      "[CV] END bootstrap=True, max_depth=50, max_features=2, min_samples_leaf=5, min_samples_split=15, n_estimators=50; total time=   0.1s\n",
      "[CV] END bootstrap=True, max_depth=50, max_features=2, min_samples_leaf=5, min_samples_split=15, n_estimators=100; total time=   0.2s\n",
      "[CV] END bootstrap=True, max_depth=50, max_features=3, min_samples_leaf=3, min_samples_split=5, n_estimators=25; total time=   0.0s\n",
      "[CV] END bootstrap=True, max_depth=50, max_features=3, min_samples_leaf=3, min_samples_split=5, n_estimators=25; total time=   0.0s\n",
      "[CV] END bootstrap=True, max_depth=50, max_features=3, min_samples_leaf=3, min_samples_split=5, n_estimators=25; total time=   0.0s\n",
      "[CV] END bootstrap=True, max_depth=50, max_features=3, min_samples_leaf=3, min_samples_split=5, n_estimators=50; total time=   0.1s\n",
      "[CV] END bootstrap=True, max_depth=50, max_features=3, min_samples_leaf=3, min_samples_split=5, n_estimators=100; total time=   0.2s\n",
      "[CV] END bootstrap=True, max_depth=50, max_features=3, min_samples_leaf=3, min_samples_split=5, n_estimators=100; total time=   0.2s\n",
      "[CV] END bootstrap=True, max_depth=50, max_features=3, min_samples_leaf=3, min_samples_split=10, n_estimators=25; total time=   0.0s\n",
      "[CV] END bootstrap=True, max_depth=50, max_features=3, min_samples_leaf=3, min_samples_split=10, n_estimators=25; total time=   0.0s\n",
      "[CV] END bootstrap=True, max_depth=50, max_features=3, min_samples_leaf=3, min_samples_split=10, n_estimators=50; total time=   0.1s\n",
      "[CV] END bootstrap=True, max_depth=50, max_features=3, min_samples_leaf=3, min_samples_split=10, n_estimators=100; total time=   0.2s\n",
      "[CV] END bootstrap=True, max_depth=50, max_features=3, min_samples_leaf=3, min_samples_split=15, n_estimators=25; total time=   0.0s\n",
      "[CV] END bootstrap=True, max_depth=50, max_features=3, min_samples_leaf=3, min_samples_split=15, n_estimators=25; total time=   0.0s\n",
      "[CV] END bootstrap=True, max_depth=50, max_features=3, min_samples_leaf=3, min_samples_split=15, n_estimators=25; total time=   0.0s\n",
      "[CV] END bootstrap=True, max_depth=50, max_features=3, min_samples_leaf=3, min_samples_split=15, n_estimators=50; total time=   0.1s\n",
      "[CV] END bootstrap=True, max_depth=50, max_features=3, min_samples_leaf=3, min_samples_split=15, n_estimators=100; total time=   0.2s\n",
      "[CV] END bootstrap=True, max_depth=50, max_features=3, min_samples_leaf=3, min_samples_split=15, n_estimators=100; total time=   0.2s\n",
      "[CV] END bootstrap=True, max_depth=50, max_features=3, min_samples_leaf=4, min_samples_split=5, n_estimators=25; total time=   0.0s\n",
      "[CV] END bootstrap=True, max_depth=50, max_features=3, min_samples_leaf=4, min_samples_split=5, n_estimators=25; total time=   0.0s\n",
      "[CV] END bootstrap=True, max_depth=50, max_features=3, min_samples_leaf=4, min_samples_split=5, n_estimators=50; total time=   0.1s\n",
      "[CV] END bootstrap=True, max_depth=50, max_features=3, min_samples_leaf=4, min_samples_split=5, n_estimators=100; total time=   0.2s\n",
      "[CV] END bootstrap=True, max_depth=50, max_features=3, min_samples_leaf=4, min_samples_split=10, n_estimators=25; total time=   0.0s\n",
      "[CV] END bootstrap=True, max_depth=50, max_features=3, min_samples_leaf=4, min_samples_split=10, n_estimators=25; total time=   0.0s\n",
      "[CV] END bootstrap=True, max_depth=50, max_features=3, min_samples_leaf=4, min_samples_split=10, n_estimators=25; total time=   0.0s\n",
      "[CV] END bootstrap=True, max_depth=50, max_features=3, min_samples_leaf=4, min_samples_split=10, n_estimators=50; total time=   0.1s\n",
      "[CV] END bootstrap=True, max_depth=50, max_features=2, min_samples_leaf=3, min_samples_split=5, n_estimators=25; total time=   0.0s\n",
      "[CV] END bootstrap=True, max_depth=50, max_features=2, min_samples_leaf=3, min_samples_split=5, n_estimators=50; total time=   0.1s\n",
      "[CV] END bootstrap=True, max_depth=50, max_features=2, min_samples_leaf=3, min_samples_split=5, n_estimators=100; total time=   0.2s\n",
      "[CV] END bootstrap=True, max_depth=50, max_features=2, min_samples_leaf=3, min_samples_split=10, n_estimators=25; total time=   0.0s\n",
      "[CV] END bootstrap=True, max_depth=50, max_features=2, min_samples_leaf=3, min_samples_split=10, n_estimators=25; total time=   0.0s\n",
      "[CV] END bootstrap=True, max_depth=50, max_features=2, min_samples_leaf=3, min_samples_split=10, n_estimators=25; total time=   0.0s\n",
      "[CV] END bootstrap=True, max_depth=50, max_features=2, min_samples_leaf=3, min_samples_split=10, n_estimators=50; total time=   0.1s\n",
      "[CV] END bootstrap=True, max_depth=50, max_features=2, min_samples_leaf=3, min_samples_split=10, n_estimators=50; total time=   0.1s\n",
      "[CV] END bootstrap=True, max_depth=50, max_features=2, min_samples_leaf=3, min_samples_split=10, n_estimators=50; total time=   0.1s\n",
      "[CV] END bootstrap=True, max_depth=50, max_features=2, min_samples_leaf=3, min_samples_split=10, n_estimators=100; total time=   0.2s\n",
      "[CV] END bootstrap=True, max_depth=50, max_features=2, min_samples_leaf=3, min_samples_split=15, n_estimators=25; total time=   0.1s\n",
      "[CV] END bootstrap=True, max_depth=50, max_features=2, min_samples_leaf=3, min_samples_split=15, n_estimators=25; total time=   0.0s\n",
      "[CV] END bootstrap=True, max_depth=50, max_features=2, min_samples_leaf=3, min_samples_split=15, n_estimators=25; total time=   0.0s\n",
      "[CV] END bootstrap=True, max_depth=50, max_features=2, min_samples_leaf=3, min_samples_split=15, n_estimators=50; total time=   0.1s\n",
      "[CV] END bootstrap=True, max_depth=50, max_features=2, min_samples_leaf=3, min_samples_split=15, n_estimators=100; total time=   0.2s\n",
      "[CV] END bootstrap=True, max_depth=50, max_features=2, min_samples_leaf=4, min_samples_split=5, n_estimators=25; total time=   0.0s\n",
      "[CV] END bootstrap=True, max_depth=50, max_features=2, min_samples_leaf=4, min_samples_split=5, n_estimators=25; total time=   0.0s\n",
      "[CV] END bootstrap=True, max_depth=50, max_features=2, min_samples_leaf=4, min_samples_split=5, n_estimators=25; total time=   0.0s\n",
      "[CV] END bootstrap=True, max_depth=50, max_features=2, min_samples_leaf=4, min_samples_split=5, n_estimators=50; total time=   0.1s\n",
      "[CV] END bootstrap=True, max_depth=50, max_features=2, min_samples_leaf=4, min_samples_split=5, n_estimators=100; total time=   0.2s\n",
      "[CV] END bootstrap=True, max_depth=50, max_features=2, min_samples_leaf=4, min_samples_split=5, n_estimators=100; total time=   0.2s\n",
      "[CV] END bootstrap=True, max_depth=50, max_features=2, min_samples_leaf=4, min_samples_split=10, n_estimators=25; total time=   0.0s\n",
      "[CV] END bootstrap=True, max_depth=50, max_features=2, min_samples_leaf=4, min_samples_split=10, n_estimators=25; total time=   0.1s\n",
      "[CV] END bootstrap=True, max_depth=50, max_features=2, min_samples_leaf=4, min_samples_split=10, n_estimators=50; total time=   0.1s\n",
      "[CV] END bootstrap=True, max_depth=50, max_features=2, min_samples_leaf=4, min_samples_split=10, n_estimators=100; total time=   0.2s\n",
      "[CV] END bootstrap=True, max_depth=50, max_features=2, min_samples_leaf=4, min_samples_split=15, n_estimators=25; total time=   0.1s\n",
      "[CV] END bootstrap=True, max_depth=50, max_features=2, min_samples_leaf=4, min_samples_split=15, n_estimators=25; total time=   0.0s\n",
      "[CV] END bootstrap=True, max_depth=50, max_features=2, min_samples_leaf=4, min_samples_split=15, n_estimators=25; total time=   0.0s\n",
      "[CV] END bootstrap=True, max_depth=50, max_features=2, min_samples_leaf=4, min_samples_split=15, n_estimators=50; total time=   0.1s\n",
      "[CV] END bootstrap=True, max_depth=50, max_features=2, min_samples_leaf=4, min_samples_split=15, n_estimators=100; total time=   0.2s\n",
      "[CV] END bootstrap=True, max_depth=50, max_features=2, min_samples_leaf=4, min_samples_split=15, n_estimators=100; total time=   0.2s\n",
      "[CV] END bootstrap=True, max_depth=50, max_features=2, min_samples_leaf=5, min_samples_split=5, n_estimators=50; total time=   0.1s\n",
      "[CV] END bootstrap=True, max_depth=50, max_features=2, min_samples_leaf=5, min_samples_split=5, n_estimators=50; total time=   0.1s\n",
      "[CV] END bootstrap=True, max_depth=50, max_features=2, min_samples_leaf=5, min_samples_split=5, n_estimators=100; total time=   0.2s\n",
      "[CV] END bootstrap=True, max_depth=50, max_features=2, min_samples_leaf=5, min_samples_split=5, n_estimators=100; total time=   0.2s\n",
      "[CV] END bootstrap=True, max_depth=50, max_features=2, min_samples_leaf=5, min_samples_split=10, n_estimators=50; total time=   0.1s\n",
      "[CV] END bootstrap=True, max_depth=50, max_features=2, min_samples_leaf=5, min_samples_split=10, n_estimators=50; total time=   0.1s\n",
      "[CV] END bootstrap=True, max_depth=50, max_features=2, min_samples_leaf=5, min_samples_split=10, n_estimators=100; total time=   0.2s\n",
      "[CV] END bootstrap=True, max_depth=50, max_features=2, min_samples_leaf=5, min_samples_split=15, n_estimators=25; total time=   0.0s\n",
      "[CV] END bootstrap=True, max_depth=50, max_features=2, min_samples_leaf=5, min_samples_split=15, n_estimators=50; total time=   0.1s\n",
      "[CV] END bootstrap=True, max_depth=50, max_features=2, min_samples_leaf=5, min_samples_split=15, n_estimators=50; total time=   0.1s\n",
      "[CV] END bootstrap=True, max_depth=50, max_features=2, min_samples_leaf=5, min_samples_split=15, n_estimators=100; total time=   0.2s\n",
      "[CV] END bootstrap=True, max_depth=50, max_features=2, min_samples_leaf=5, min_samples_split=15, n_estimators=100; total time=   0.2s\n",
      "[CV] END bootstrap=True, max_depth=50, max_features=3, min_samples_leaf=3, min_samples_split=5, n_estimators=50; total time=   0.1s\n",
      "[CV] END bootstrap=True, max_depth=50, max_features=3, min_samples_leaf=3, min_samples_split=5, n_estimators=50; total time=   0.1s\n",
      "[CV] END bootstrap=True, max_depth=50, max_features=3, min_samples_leaf=3, min_samples_split=5, n_estimators=100; total time=   0.2s\n",
      "[CV] END bootstrap=True, max_depth=50, max_features=3, min_samples_leaf=3, min_samples_split=10, n_estimators=25; total time=   0.0s\n",
      "[CV] END bootstrap=True, max_depth=50, max_features=3, min_samples_leaf=3, min_samples_split=10, n_estimators=50; total time=   0.1s\n",
      "[CV] END bootstrap=True, max_depth=50, max_features=3, min_samples_leaf=3, min_samples_split=10, n_estimators=50; total time=   0.1s\n",
      "[CV] END bootstrap=True, max_depth=50, max_features=3, min_samples_leaf=3, min_samples_split=10, n_estimators=100; total time=   0.2s\n",
      "[CV] END bootstrap=True, max_depth=50, max_features=3, min_samples_leaf=3, min_samples_split=10, n_estimators=100; total time=   0.2s\n",
      "[CV] END bootstrap=True, max_depth=50, max_features=3, min_samples_leaf=3, min_samples_split=15, n_estimators=50; total time=   0.1s\n",
      "[CV] END bootstrap=True, max_depth=50, max_features=3, min_samples_leaf=3, min_samples_split=15, n_estimators=50; total time=   0.1s\n",
      "[CV] END bootstrap=True, max_depth=50, max_features=3, min_samples_leaf=3, min_samples_split=15, n_estimators=100; total time=   0.2s\n",
      "[CV] END bootstrap=True, max_depth=50, max_features=3, min_samples_leaf=4, min_samples_split=5, n_estimators=25; total time=   0.0s\n",
      "[CV] END bootstrap=True, max_depth=50, max_features=3, min_samples_leaf=4, min_samples_split=5, n_estimators=50; total time=   0.1s\n",
      "[CV] END bootstrap=True, max_depth=50, max_features=3, min_samples_leaf=4, min_samples_split=5, n_estimators=50; total time=   0.1s\n",
      "[CV] END bootstrap=True, max_depth=50, max_features=3, min_samples_leaf=4, min_samples_split=5, n_estimators=100; total time=   0.2s\n",
      "[CV] END bootstrap=True, max_depth=50, max_features=3, min_samples_leaf=4, min_samples_split=5, n_estimators=100; total time=   0.2s\n",
      "[CV] END bootstrap=True, max_depth=50, max_features=3, min_samples_leaf=4, min_samples_split=10, n_estimators=50; total time=   0.1s\n",
      "[CV] END bootstrap=True, max_depth=50, max_features=3, min_samples_leaf=4, min_samples_split=10, n_estimators=50; total time=   0.1s\n",
      "[CV] END bootstrap=True, max_depth=50, max_features=3, min_samples_leaf=4, min_samples_split=10, n_estimators=100; total time=   0.2s\n",
      "[CV] END bootstrap=True, max_depth=50, max_features=3, min_samples_leaf=4, min_samples_split=15, n_estimators=25; total time=   0.0s\n",
      "[CV] END bootstrap=True, max_depth=50, max_features=3, min_samples_leaf=4, min_samples_split=15, n_estimators=25; total time=   0.0s\n",
      "[CV] END bootstrap=True, max_depth=50, max_features=3, min_samples_leaf=4, min_samples_split=15, n_estimators=25; total time=   0.0s\n",
      "[CV] END bootstrap=True, max_depth=50, max_features=3, min_samples_leaf=4, min_samples_split=15, n_estimators=50; total time=   0.1s\n",
      "[CV] END bootstrap=True, max_depth=50, max_features=3, min_samples_leaf=4, min_samples_split=15, n_estimators=100; total time=   0.2s\n",
      "[CV] END bootstrap=True, max_depth=50, max_features=3, min_samples_leaf=5, min_samples_split=5, n_estimators=25; total time=   0.0s\n",
      "[CV] END bootstrap=True, max_depth=50, max_features=3, min_samples_leaf=5, min_samples_split=5, n_estimators=25; total time=   0.0s\n",
      "[CV] END bootstrap=True, max_depth=50, max_features=3, min_samples_leaf=5, min_samples_split=5, n_estimators=25; total time=   0.0s\n",
      "[CV] END bootstrap=True, max_depth=50, max_features=3, min_samples_leaf=5, min_samples_split=5, n_estimators=50; total time=   0.1s\n",
      "[CV] END bootstrap=True, max_depth=50, max_features=3, min_samples_leaf=5, min_samples_split=5, n_estimators=50; total time=   0.1s\n",
      "[CV] END bootstrap=True, max_depth=50, max_features=3, min_samples_leaf=5, min_samples_split=5, n_estimators=50; total time=   0.1s\n",
      "[CV] END bootstrap=True, max_depth=50, max_features=3, min_samples_leaf=5, min_samples_split=5, n_estimators=100; total time=   0.2s\n",
      "[CV] END bootstrap=True, max_depth=50, max_features=3, min_samples_leaf=5, min_samples_split=10, n_estimators=25; total time=   0.0s\n",
      "[CV] END bootstrap=True, max_depth=50, max_features=3, min_samples_leaf=5, min_samples_split=10, n_estimators=50; total time=   0.1s\n",
      "[CV] END bootstrap=True, max_depth=50, max_features=3, min_samples_leaf=5, min_samples_split=10, n_estimators=50; total time=   0.1s\n",
      "[CV] END bootstrap=True, max_depth=50, max_features=3, min_samples_leaf=5, min_samples_split=10, n_estimators=100; total time=   0.2s\n",
      "[CV] END bootstrap=True, max_depth=50, max_features=3, min_samples_leaf=5, min_samples_split=10, n_estimators=100; total time=   0.2s\n",
      "[CV] END bootstrap=True, max_depth=50, max_features=3, min_samples_leaf=5, min_samples_split=15, n_estimators=100; total time=   0.2s\n",
      "[CV] END bootstrap=True, max_depth=50, max_features=3, min_samples_leaf=5, min_samples_split=15, n_estimators=100; total time=   0.2s\n",
      "[CV] END bootstrap=True, max_depth=50, max_features=4, min_samples_leaf=3, min_samples_split=5, n_estimators=50; total time=   0.1s\n",
      "[CV] END bootstrap=True, max_depth=50, max_features=4, min_samples_leaf=3, min_samples_split=5, n_estimators=50; total time=   0.1s\n",
      "[CV] END bootstrap=True, max_depth=50, max_features=4, min_samples_leaf=3, min_samples_split=5, n_estimators=100; total time=   0.2s\n",
      "[CV] END bootstrap=True, max_depth=50, max_features=4, min_samples_leaf=3, min_samples_split=5, n_estimators=100; total time=   0.2s\n",
      "[CV] END bootstrap=True, max_depth=50, max_features=4, min_samples_leaf=3, min_samples_split=10, n_estimators=50; total time=   0.1s\n",
      "[CV] END bootstrap=True, max_depth=50, max_features=4, min_samples_leaf=3, min_samples_split=10, n_estimators=50; total time=   0.1s\n",
      "[CV] END bootstrap=True, max_depth=50, max_features=4, min_samples_leaf=3, min_samples_split=10, n_estimators=100; total time=   0.2s\n",
      "[CV] END bootstrap=True, max_depth=50, max_features=4, min_samples_leaf=3, min_samples_split=15, n_estimators=25; total time=   0.0s\n",
      "[CV] END bootstrap=True, max_depth=50, max_features=4, min_samples_leaf=3, min_samples_split=15, n_estimators=25; total time=   0.1s\n",
      "[CV] END bootstrap=True, max_depth=50, max_features=4, min_samples_leaf=3, min_samples_split=15, n_estimators=25; total time=   0.0s\n",
      "[CV] END bootstrap=True, max_depth=50, max_features=4, min_samples_leaf=3, min_samples_split=15, n_estimators=50; total time=   0.1s\n",
      "[CV] END bootstrap=True, max_depth=50, max_features=4, min_samples_leaf=3, min_samples_split=15, n_estimators=100; total time=   0.2s\n",
      "[CV] END bootstrap=True, max_depth=50, max_features=4, min_samples_leaf=4, min_samples_split=5, n_estimators=25; total time=   0.1s\n",
      "[CV] END bootstrap=True, max_depth=50, max_features=4, min_samples_leaf=4, min_samples_split=5, n_estimators=25; total time=   0.0s\n",
      "[CV] END bootstrap=True, max_depth=50, max_features=4, min_samples_leaf=4, min_samples_split=5, n_estimators=25; total time=   0.0s\n",
      "[CV] END bootstrap=True, max_depth=50, max_features=4, min_samples_leaf=4, min_samples_split=5, n_estimators=50; total time=   0.1s\n",
      "[CV] END bootstrap=True, max_depth=50, max_features=4, min_samples_leaf=4, min_samples_split=5, n_estimators=50; total time=   0.1s\n",
      "[CV] END bootstrap=True, max_depth=50, max_features=4, min_samples_leaf=4, min_samples_split=5, n_estimators=50; total time=   0.1s\n",
      "[CV] END bootstrap=True, max_depth=50, max_features=4, min_samples_leaf=4, min_samples_split=5, n_estimators=100; total time=   0.2s\n",
      "[CV] END bootstrap=True, max_depth=50, max_features=4, min_samples_leaf=4, min_samples_split=10, n_estimators=25; total time=   0.1s\n",
      "[CV] END bootstrap=True, max_depth=50, max_features=4, min_samples_leaf=4, min_samples_split=10, n_estimators=25; total time=   0.1s\n",
      "[CV] END bootstrap=True, max_depth=50, max_features=4, min_samples_leaf=4, min_samples_split=10, n_estimators=25; total time=   0.1s\n",
      "[CV] END bootstrap=True, max_depth=50, max_features=4, min_samples_leaf=4, min_samples_split=10, n_estimators=50; total time=   0.1s\n",
      "[CV] END bootstrap=True, max_depth=50, max_features=4, min_samples_leaf=4, min_samples_split=10, n_estimators=100; total time=   0.2s\n",
      "[CV] END bootstrap=True, max_depth=50, max_features=4, min_samples_leaf=4, min_samples_split=15, n_estimators=25; total time=   0.0s\n",
      "[CV] END bootstrap=True, max_depth=50, max_features=4, min_samples_leaf=4, min_samples_split=15, n_estimators=25; total time=   0.0s\n",
      "[CV] END bootstrap=True, max_depth=50, max_features=4, min_samples_leaf=4, min_samples_split=15, n_estimators=25; total time=   0.0s\n",
      "[CV] END bootstrap=True, max_depth=50, max_features=4, min_samples_leaf=4, min_samples_split=15, n_estimators=50; total time=   0.1s\n",
      "[CV] END bootstrap=True, max_depth=50, max_features=4, min_samples_leaf=4, min_samples_split=15, n_estimators=100; total time=   0.2s\n",
      "[CV] END bootstrap=True, max_depth=50, max_features=4, min_samples_leaf=4, min_samples_split=15, n_estimators=100; total time=   0.2s\n",
      "[CV] END bootstrap=True, max_depth=50, max_features=4, min_samples_leaf=5, min_samples_split=5, n_estimators=25; total time=   0.0s\n",
      "[CV] END bootstrap=True, max_depth=50, max_features=4, min_samples_leaf=5, min_samples_split=5, n_estimators=25; total time=   0.0s\n",
      "[CV] END bootstrap=True, max_depth=50, max_features=4, min_samples_leaf=5, min_samples_split=5, n_estimators=50; total time=   0.1s\n",
      "[CV] END bootstrap=True, max_depth=50, max_features=4, min_samples_leaf=5, min_samples_split=5, n_estimators=100; total time=   0.2s\n",
      "[CV] END bootstrap=True, max_depth=50, max_features=4, min_samples_leaf=5, min_samples_split=10, n_estimators=25; total time=   0.1s\n",
      "[CV] END bootstrap=True, max_depth=50, max_features=4, min_samples_leaf=5, min_samples_split=10, n_estimators=25; total time=   0.0s\n",
      "[CV] END bootstrap=True, max_depth=50, max_features=4, min_samples_leaf=5, min_samples_split=10, n_estimators=25; total time=   0.0s\n",
      "[CV] END bootstrap=True, max_depth=50, max_features=4, min_samples_leaf=5, min_samples_split=10, n_estimators=50; total time=   0.2s\n",
      "[CV] END bootstrap=True, max_depth=50, max_features=4, min_samples_leaf=5, min_samples_split=10, n_estimators=100; total time=   0.2s\n",
      "[CV] END bootstrap=True, max_depth=50, max_features=4, min_samples_leaf=5, min_samples_split=10, n_estimators=100; total time=   0.2s\n",
      "[CV] END bootstrap=True, max_depth=50, max_features=4, min_samples_leaf=5, min_samples_split=15, n_estimators=25; total time=   0.0s\n",
      "[CV] END bootstrap=True, max_depth=50, max_features=3, min_samples_leaf=4, min_samples_split=10, n_estimators=100; total time=   0.2s\n",
      "[CV] END bootstrap=True, max_depth=50, max_features=3, min_samples_leaf=4, min_samples_split=10, n_estimators=100; total time=   0.2s\n",
      "[CV] END bootstrap=True, max_depth=50, max_features=3, min_samples_leaf=4, min_samples_split=15, n_estimators=50; total time=   0.1s\n",
      "[CV] END bootstrap=True, max_depth=50, max_features=3, min_samples_leaf=4, min_samples_split=15, n_estimators=50; total time=   0.1s\n",
      "[CV] END bootstrap=True, max_depth=50, max_features=3, min_samples_leaf=4, min_samples_split=15, n_estimators=100; total time=   0.2s\n",
      "[CV] END bootstrap=True, max_depth=50, max_features=3, min_samples_leaf=4, min_samples_split=15, n_estimators=100; total time=   0.2s\n",
      "[CV] END bootstrap=True, max_depth=50, max_features=3, min_samples_leaf=5, min_samples_split=5, n_estimators=100; total time=   0.2s\n",
      "[CV] END bootstrap=True, max_depth=50, max_features=3, min_samples_leaf=5, min_samples_split=5, n_estimators=100; total time=   0.2s\n",
      "[CV] END bootstrap=True, max_depth=50, max_features=3, min_samples_leaf=5, min_samples_split=10, n_estimators=25; total time=   0.0s\n",
      "[CV] END bootstrap=True, max_depth=50, max_features=3, min_samples_leaf=5, min_samples_split=10, n_estimators=25; total time=   0.0s\n",
      "[CV] END bootstrap=True, max_depth=50, max_features=3, min_samples_leaf=5, min_samples_split=10, n_estimators=50; total time=   0.1s\n",
      "[CV] END bootstrap=True, max_depth=50, max_features=3, min_samples_leaf=5, min_samples_split=10, n_estimators=100; total time=   0.2s\n",
      "[CV] END bootstrap=True, max_depth=50, max_features=3, min_samples_leaf=5, min_samples_split=15, n_estimators=25; total time=   0.0s\n",
      "[CV] END bootstrap=True, max_depth=50, max_features=3, min_samples_leaf=5, min_samples_split=15, n_estimators=25; total time=   0.0s\n",
      "[CV] END bootstrap=True, max_depth=50, max_features=3, min_samples_leaf=5, min_samples_split=15, n_estimators=25; total time=   0.1s\n",
      "[CV] END bootstrap=True, max_depth=50, max_features=3, min_samples_leaf=5, min_samples_split=15, n_estimators=50; total time=   0.1s\n",
      "[CV] END bootstrap=True, max_depth=50, max_features=3, min_samples_leaf=5, min_samples_split=15, n_estimators=50; total time=   0.1s\n",
      "[CV] END bootstrap=True, max_depth=50, max_features=3, min_samples_leaf=5, min_samples_split=15, n_estimators=50; total time=   0.1s\n",
      "[CV] END bootstrap=True, max_depth=50, max_features=3, min_samples_leaf=5, min_samples_split=15, n_estimators=100; total time=   0.2s\n",
      "[CV] END bootstrap=True, max_depth=50, max_features=4, min_samples_leaf=3, min_samples_split=5, n_estimators=25; total time=   0.0s\n",
      "[CV] END bootstrap=True, max_depth=50, max_features=4, min_samples_leaf=3, min_samples_split=5, n_estimators=25; total time=   0.1s\n",
      "[CV] END bootstrap=True, max_depth=50, max_features=4, min_samples_leaf=3, min_samples_split=5, n_estimators=25; total time=   0.1s\n",
      "[CV] END bootstrap=True, max_depth=50, max_features=4, min_samples_leaf=3, min_samples_split=5, n_estimators=50; total time=   0.1s\n",
      "[CV] END bootstrap=True, max_depth=50, max_features=4, min_samples_leaf=3, min_samples_split=5, n_estimators=100; total time=   0.2s\n",
      "[CV] END bootstrap=True, max_depth=50, max_features=4, min_samples_leaf=3, min_samples_split=10, n_estimators=25; total time=   0.0s\n",
      "[CV] END bootstrap=True, max_depth=50, max_features=4, min_samples_leaf=3, min_samples_split=10, n_estimators=25; total time=   0.0s\n",
      "[CV] END bootstrap=True, max_depth=50, max_features=4, min_samples_leaf=3, min_samples_split=10, n_estimators=25; total time=   0.0s\n",
      "[CV] END bootstrap=True, max_depth=50, max_features=4, min_samples_leaf=3, min_samples_split=10, n_estimators=50; total time=   0.1s\n",
      "[CV] END bootstrap=True, max_depth=50, max_features=4, min_samples_leaf=3, min_samples_split=10, n_estimators=100; total time=   0.2s\n",
      "[CV] END bootstrap=True, max_depth=50, max_features=4, min_samples_leaf=3, min_samples_split=10, n_estimators=100; total time=   0.2s\n",
      "[CV] END bootstrap=True, max_depth=50, max_features=4, min_samples_leaf=3, min_samples_split=15, n_estimators=50; total time=   0.1s\n",
      "[CV] END bootstrap=True, max_depth=50, max_features=4, min_samples_leaf=3, min_samples_split=15, n_estimators=50; total time=   0.1s\n",
      "[CV] END bootstrap=True, max_depth=50, max_features=4, min_samples_leaf=3, min_samples_split=15, n_estimators=100; total time=   0.2s\n",
      "[CV] END bootstrap=True, max_depth=50, max_features=4, min_samples_leaf=3, min_samples_split=15, n_estimators=100; total time=   0.2s\n",
      "[CV] END bootstrap=True, max_depth=50, max_features=4, min_samples_leaf=4, min_samples_split=5, n_estimators=100; total time=   0.2s\n",
      "[CV] END bootstrap=True, max_depth=50, max_features=4, min_samples_leaf=4, min_samples_split=5, n_estimators=100; total time=   0.2s\n",
      "[CV] END bootstrap=True, max_depth=50, max_features=4, min_samples_leaf=4, min_samples_split=10, n_estimators=50; total time=   0.1s\n",
      "[CV] END bootstrap=True, max_depth=50, max_features=4, min_samples_leaf=4, min_samples_split=10, n_estimators=50; total time=   0.1s\n",
      "[CV] END bootstrap=True, max_depth=50, max_features=4, min_samples_leaf=4, min_samples_split=10, n_estimators=100; total time=   0.2s\n",
      "[CV] END bootstrap=True, max_depth=50, max_features=4, min_samples_leaf=4, min_samples_split=10, n_estimators=100; total time=   0.2s\n",
      "[CV] END bootstrap=True, max_depth=50, max_features=4, min_samples_leaf=4, min_samples_split=15, n_estimators=50; total time=   0.1s\n",
      "[CV] END bootstrap=True, max_depth=50, max_features=4, min_samples_leaf=4, min_samples_split=15, n_estimators=50; total time=   0.1s\n",
      "[CV] END bootstrap=True, max_depth=50, max_features=4, min_samples_leaf=4, min_samples_split=15, n_estimators=100; total time=   0.2s\n",
      "[CV] END bootstrap=True, max_depth=50, max_features=4, min_samples_leaf=5, min_samples_split=5, n_estimators=25; total time=   0.0s\n",
      "[CV] END bootstrap=True, max_depth=50, max_features=4, min_samples_leaf=5, min_samples_split=5, n_estimators=50; total time=   0.1s\n",
      "[CV] END bootstrap=True, max_depth=50, max_features=4, min_samples_leaf=5, min_samples_split=5, n_estimators=50; total time=   0.1s\n",
      "[CV] END bootstrap=True, max_depth=50, max_features=4, min_samples_leaf=5, min_samples_split=5, n_estimators=100; total time=   0.2s\n",
      "[CV] END bootstrap=True, max_depth=50, max_features=4, min_samples_leaf=5, min_samples_split=5, n_estimators=100; total time=   0.3s\n",
      "[CV] END bootstrap=True, max_depth=50, max_features=4, min_samples_leaf=5, min_samples_split=10, n_estimators=50; total time=   0.1s\n",
      "[CV] END bootstrap=True, max_depth=50, max_features=4, min_samples_leaf=5, min_samples_split=10, n_estimators=50; total time=   0.1s\n",
      "[CV] END bootstrap=True, max_depth=50, max_features=4, min_samples_leaf=5, min_samples_split=10, n_estimators=100; total time=   0.2s\n",
      "[CV] END bootstrap=True, max_depth=50, max_features=4, min_samples_leaf=5, min_samples_split=15, n_estimators=25; total time=   0.0s\n",
      "[CV] END bootstrap=True, max_depth=50, max_features=4, min_samples_leaf=5, min_samples_split=15, n_estimators=50; total time=   0.1s\n",
      "[CV] END bootstrap=True, max_depth=50, max_features=4, min_samples_leaf=5, min_samples_split=15, n_estimators=50; total time=   0.1s\n",
      "[CV] END bootstrap=True, max_depth=50, max_features=4, min_samples_leaf=5, min_samples_split=15, n_estimators=100; total time=   0.2s\n",
      "[CV] END bootstrap=True, max_depth=50, max_features=4, min_samples_leaf=5, min_samples_split=15, n_estimators=100; total time=   0.2s\n",
      "[CV] END bootstrap=True, max_depth=100, max_features=2, min_samples_leaf=3, min_samples_split=5, n_estimators=50; total time=   0.1s\n",
      "[CV] END bootstrap=True, max_depth=100, max_features=2, min_samples_leaf=3, min_samples_split=5, n_estimators=50; total time=   0.1s\n",
      "[CV] END bootstrap=True, max_depth=100, max_features=2, min_samples_leaf=3, min_samples_split=5, n_estimators=100; total time=   0.2s\n",
      "[CV] END bootstrap=True, max_depth=100, max_features=2, min_samples_leaf=3, min_samples_split=10, n_estimators=25; total time=   0.0s\n",
      "[CV] END bootstrap=True, max_depth=100, max_features=2, min_samples_leaf=3, min_samples_split=10, n_estimators=25; total time=   0.0s\n",
      "[CV] END bootstrap=True, max_depth=50, max_features=4, min_samples_leaf=5, min_samples_split=15, n_estimators=25; total time=   0.0s\n",
      "[CV] END bootstrap=True, max_depth=50, max_features=4, min_samples_leaf=5, min_samples_split=15, n_estimators=50; total time=   0.1s\n",
      "[CV] END bootstrap=True, max_depth=50, max_features=4, min_samples_leaf=5, min_samples_split=15, n_estimators=100; total time=   0.2s\n",
      "[CV] END bootstrap=True, max_depth=100, max_features=2, min_samples_leaf=3, min_samples_split=5, n_estimators=25; total time=   0.0s\n",
      "[CV] END bootstrap=True, max_depth=100, max_features=2, min_samples_leaf=3, min_samples_split=5, n_estimators=25; total time=   0.0s\n",
      "[CV] END bootstrap=True, max_depth=100, max_features=2, min_samples_leaf=3, min_samples_split=5, n_estimators=25; total time=   0.0s\n",
      "[CV] END bootstrap=True, max_depth=100, max_features=2, min_samples_leaf=3, min_samples_split=5, n_estimators=50; total time=   0.1s\n",
      "[CV] END bootstrap=True, max_depth=100, max_features=2, min_samples_leaf=3, min_samples_split=5, n_estimators=100; total time=   0.2s\n",
      "[CV] END bootstrap=True, max_depth=100, max_features=2, min_samples_leaf=3, min_samples_split=5, n_estimators=100; total time=   0.2s\n",
      "[CV] END bootstrap=True, max_depth=100, max_features=2, min_samples_leaf=3, min_samples_split=10, n_estimators=50; total time=   0.1s\n",
      "[CV] END bootstrap=True, max_depth=100, max_features=2, min_samples_leaf=3, min_samples_split=10, n_estimators=50; total time=   0.1s\n",
      "[CV] END bootstrap=True, max_depth=100, max_features=2, min_samples_leaf=3, min_samples_split=10, n_estimators=100; total time=   0.2s\n",
      "[CV] END bootstrap=True, max_depth=100, max_features=2, min_samples_leaf=3, min_samples_split=10, n_estimators=100; total time=   0.2s\n",
      "[CV] END bootstrap=True, max_depth=100, max_features=2, min_samples_leaf=3, min_samples_split=15, n_estimators=50; total time=   0.1s\n",
      "[CV] END bootstrap=True, max_depth=100, max_features=2, min_samples_leaf=3, min_samples_split=15, n_estimators=50; total time=   0.1s\n",
      "[CV] END bootstrap=True, max_depth=100, max_features=2, min_samples_leaf=3, min_samples_split=15, n_estimators=100; total time=   0.2s\n",
      "[CV] END bootstrap=True, max_depth=100, max_features=2, min_samples_leaf=4, min_samples_split=5, n_estimators=25; total time=   0.0s\n",
      "[CV] END bootstrap=True, max_depth=100, max_features=2, min_samples_leaf=4, min_samples_split=5, n_estimators=25; total time=   0.0s\n",
      "[CV] END bootstrap=True, max_depth=100, max_features=2, min_samples_leaf=4, min_samples_split=5, n_estimators=25; total time=   0.0s\n",
      "[CV] END bootstrap=True, max_depth=100, max_features=2, min_samples_leaf=4, min_samples_split=5, n_estimators=50; total time=   0.1s\n",
      "[CV] END bootstrap=True, max_depth=100, max_features=2, min_samples_leaf=4, min_samples_split=5, n_estimators=100; total time=   0.2s\n",
      "[CV] END bootstrap=True, max_depth=100, max_features=2, min_samples_leaf=4, min_samples_split=10, n_estimators=25; total time=   0.0s\n",
      "[CV] END bootstrap=True, max_depth=100, max_features=2, min_samples_leaf=4, min_samples_split=10, n_estimators=25; total time=   0.0s\n",
      "[CV] END bootstrap=True, max_depth=100, max_features=2, min_samples_leaf=4, min_samples_split=10, n_estimators=25; total time=   0.0s\n",
      "[CV] END bootstrap=True, max_depth=100, max_features=2, min_samples_leaf=4, min_samples_split=10, n_estimators=50; total time=   0.1s\n",
      "[CV] END bootstrap=True, max_depth=100, max_features=2, min_samples_leaf=4, min_samples_split=10, n_estimators=50; total time=   0.1s\n",
      "[CV] END bootstrap=True, max_depth=100, max_features=2, min_samples_leaf=4, min_samples_split=10, n_estimators=50; total time=   0.1s\n",
      "[CV] END bootstrap=True, max_depth=100, max_features=2, min_samples_leaf=4, min_samples_split=10, n_estimators=100; total time=   0.2s\n",
      "[CV] END bootstrap=True, max_depth=100, max_features=2, min_samples_leaf=4, min_samples_split=15, n_estimators=25; total time=   0.1s\n",
      "[CV] END bootstrap=True, max_depth=100, max_features=2, min_samples_leaf=4, min_samples_split=15, n_estimators=50; total time=   0.1s\n",
      "[CV] END bootstrap=True, max_depth=100, max_features=2, min_samples_leaf=4, min_samples_split=15, n_estimators=50; total time=   0.1s\n",
      "[CV] END bootstrap=True, max_depth=100, max_features=2, min_samples_leaf=4, min_samples_split=15, n_estimators=100; total time=   0.2s\n",
      "[CV] END bootstrap=True, max_depth=100, max_features=2, min_samples_leaf=4, min_samples_split=15, n_estimators=100; total time=   0.2s\n",
      "[CV] END bootstrap=True, max_depth=100, max_features=2, min_samples_leaf=5, min_samples_split=5, n_estimators=100; total time=   0.2s\n",
      "[CV] END bootstrap=True, max_depth=100, max_features=2, min_samples_leaf=5, min_samples_split=5, n_estimators=100; total time=   0.2s\n",
      "[CV] END bootstrap=True, max_depth=100, max_features=2, min_samples_leaf=5, min_samples_split=10, n_estimators=25; total time=   0.1s\n",
      "[CV] END bootstrap=True, max_depth=100, max_features=2, min_samples_leaf=5, min_samples_split=10, n_estimators=25; total time=   0.0s\n",
      "[CV] END bootstrap=True, max_depth=100, max_features=2, min_samples_leaf=5, min_samples_split=10, n_estimators=50; total time=   0.1s\n",
      "[CV] END bootstrap=True, max_depth=100, max_features=2, min_samples_leaf=5, min_samples_split=10, n_estimators=100; total time=   0.2s\n",
      "[CV] END bootstrap=True, max_depth=100, max_features=2, min_samples_leaf=5, min_samples_split=15, n_estimators=25; total time=   0.0s\n",
      "[CV] END bootstrap=True, max_depth=100, max_features=2, min_samples_leaf=5, min_samples_split=15, n_estimators=25; total time=   0.1s\n",
      "[CV] END bootstrap=True, max_depth=100, max_features=2, min_samples_leaf=5, min_samples_split=15, n_estimators=25; total time=   0.0s\n",
      "[CV] END bootstrap=True, max_depth=100, max_features=2, min_samples_leaf=5, min_samples_split=15, n_estimators=50; total time=   0.1s\n",
      "[CV] END bootstrap=True, max_depth=100, max_features=2, min_samples_leaf=5, min_samples_split=15, n_estimators=100; total time=   0.2s\n",
      "[CV] END bootstrap=True, max_depth=100, max_features=2, min_samples_leaf=5, min_samples_split=15, n_estimators=100; total time=   0.2s\n",
      "[CV] END bootstrap=True, max_depth=100, max_features=3, min_samples_leaf=3, min_samples_split=5, n_estimators=50; total time=   0.1s\n",
      "[CV] END bootstrap=True, max_depth=100, max_features=3, min_samples_leaf=3, min_samples_split=5, n_estimators=50; total time=   0.1s\n",
      "[CV] END bootstrap=True, max_depth=100, max_features=3, min_samples_leaf=3, min_samples_split=5, n_estimators=100; total time=   0.2s\n",
      "[CV] END bootstrap=True, max_depth=100, max_features=3, min_samples_leaf=3, min_samples_split=5, n_estimators=100; total time=   0.2s\n",
      "[CV] END bootstrap=True, max_depth=100, max_features=3, min_samples_leaf=3, min_samples_split=10, n_estimators=50; total time=   0.1s\n",
      "[CV] END bootstrap=True, max_depth=100, max_features=3, min_samples_leaf=3, min_samples_split=10, n_estimators=50; total time=   0.1s\n",
      "[CV] END bootstrap=True, max_depth=100, max_features=3, min_samples_leaf=3, min_samples_split=10, n_estimators=100; total time=   0.2s\n",
      "[CV] END bootstrap=True, max_depth=100, max_features=3, min_samples_leaf=3, min_samples_split=15, n_estimators=25; total time=   0.0s\n",
      "[CV] END bootstrap=True, max_depth=100, max_features=3, min_samples_leaf=3, min_samples_split=15, n_estimators=50; total time=   0.1s\n",
      "[CV] END bootstrap=True, max_depth=100, max_features=3, min_samples_leaf=3, min_samples_split=15, n_estimators=50; total time=   0.1s\n",
      "[CV] END bootstrap=True, max_depth=100, max_features=3, min_samples_leaf=3, min_samples_split=15, n_estimators=100; total time=   0.2s\n",
      "[CV] END bootstrap=True, max_depth=100, max_features=3, min_samples_leaf=3, min_samples_split=15, n_estimators=100; total time=   0.2s\n",
      "[CV] END bootstrap=True, max_depth=100, max_features=3, min_samples_leaf=4, min_samples_split=5, n_estimators=50; total time=   0.1s\n",
      "[CV] END bootstrap=True, max_depth=100, max_features=3, min_samples_leaf=4, min_samples_split=5, n_estimators=50; total time=   0.1s\n",
      "[CV] END bootstrap=True, max_depth=100, max_features=3, min_samples_leaf=4, min_samples_split=5, n_estimators=100; total time=   0.2s\n",
      "[CV] END bootstrap=True, max_depth=100, max_features=3, min_samples_leaf=4, min_samples_split=10, n_estimators=25; total time=   0.0s\n",
      "[CV] END bootstrap=True, max_depth=100, max_features=2, min_samples_leaf=3, min_samples_split=10, n_estimators=25; total time=   0.0s\n",
      "[CV] END bootstrap=True, max_depth=100, max_features=2, min_samples_leaf=3, min_samples_split=10, n_estimators=50; total time=   0.1s\n",
      "[CV] END bootstrap=True, max_depth=100, max_features=2, min_samples_leaf=3, min_samples_split=10, n_estimators=100; total time=   0.2s\n",
      "[CV] END bootstrap=True, max_depth=100, max_features=2, min_samples_leaf=3, min_samples_split=15, n_estimators=25; total time=   0.0s\n",
      "[CV] END bootstrap=True, max_depth=100, max_features=2, min_samples_leaf=3, min_samples_split=15, n_estimators=25; total time=   0.0s\n",
      "[CV] END bootstrap=True, max_depth=100, max_features=2, min_samples_leaf=3, min_samples_split=15, n_estimators=25; total time=   0.0s\n",
      "[CV] END bootstrap=True, max_depth=100, max_features=2, min_samples_leaf=3, min_samples_split=15, n_estimators=50; total time=   0.1s\n",
      "[CV] END bootstrap=True, max_depth=100, max_features=2, min_samples_leaf=3, min_samples_split=15, n_estimators=100; total time=   0.2s\n",
      "[CV] END bootstrap=True, max_depth=100, max_features=2, min_samples_leaf=3, min_samples_split=15, n_estimators=100; total time=   0.2s\n",
      "[CV] END bootstrap=True, max_depth=100, max_features=2, min_samples_leaf=4, min_samples_split=5, n_estimators=50; total time=   0.1s\n",
      "[CV] END bootstrap=True, max_depth=100, max_features=2, min_samples_leaf=4, min_samples_split=5, n_estimators=50; total time=   0.1s\n",
      "[CV] END bootstrap=True, max_depth=100, max_features=2, min_samples_leaf=4, min_samples_split=5, n_estimators=100; total time=   0.2s\n",
      "[CV] END bootstrap=True, max_depth=100, max_features=2, min_samples_leaf=4, min_samples_split=5, n_estimators=100; total time=   0.2s\n",
      "[CV] END bootstrap=True, max_depth=100, max_features=2, min_samples_leaf=4, min_samples_split=10, n_estimators=100; total time=   0.2s\n",
      "[CV] END bootstrap=True, max_depth=100, max_features=2, min_samples_leaf=4, min_samples_split=10, n_estimators=100; total time=   0.2s\n",
      "[CV] END bootstrap=True, max_depth=100, max_features=2, min_samples_leaf=4, min_samples_split=15, n_estimators=25; total time=   0.0s\n",
      "[CV] END bootstrap=True, max_depth=100, max_features=2, min_samples_leaf=4, min_samples_split=15, n_estimators=25; total time=   0.0s\n",
      "[CV] END bootstrap=True, max_depth=100, max_features=2, min_samples_leaf=4, min_samples_split=15, n_estimators=50; total time=   0.1s\n",
      "[CV] END bootstrap=True, max_depth=100, max_features=2, min_samples_leaf=4, min_samples_split=15, n_estimators=100; total time=   0.2s\n",
      "[CV] END bootstrap=True, max_depth=100, max_features=2, min_samples_leaf=5, min_samples_split=5, n_estimators=25; total time=   0.0s\n",
      "[CV] END bootstrap=True, max_depth=100, max_features=2, min_samples_leaf=5, min_samples_split=5, n_estimators=25; total time=   0.0s\n",
      "[CV] END bootstrap=True, max_depth=100, max_features=2, min_samples_leaf=5, min_samples_split=5, n_estimators=25; total time=   0.0s\n",
      "[CV] END bootstrap=True, max_depth=100, max_features=2, min_samples_leaf=5, min_samples_split=5, n_estimators=50; total time=   0.1s\n",
      "[CV] END bootstrap=True, max_depth=100, max_features=2, min_samples_leaf=5, min_samples_split=5, n_estimators=50; total time=   0.1s\n",
      "[CV] END bootstrap=True, max_depth=100, max_features=2, min_samples_leaf=5, min_samples_split=5, n_estimators=50; total time=   0.1s\n",
      "[CV] END bootstrap=True, max_depth=100, max_features=2, min_samples_leaf=5, min_samples_split=5, n_estimators=100; total time=   0.2s\n",
      "[CV] END bootstrap=True, max_depth=100, max_features=2, min_samples_leaf=5, min_samples_split=10, n_estimators=25; total time=   0.0s\n",
      "[CV] END bootstrap=True, max_depth=100, max_features=2, min_samples_leaf=5, min_samples_split=10, n_estimators=50; total time=   0.1s\n",
      "[CV] END bootstrap=True, max_depth=100, max_features=2, min_samples_leaf=5, min_samples_split=10, n_estimators=50; total time=   0.1s\n",
      "[CV] END bootstrap=True, max_depth=100, max_features=2, min_samples_leaf=5, min_samples_split=10, n_estimators=100; total time=   0.2s\n",
      "[CV] END bootstrap=True, max_depth=100, max_features=2, min_samples_leaf=5, min_samples_split=10, n_estimators=100; total time=   0.2s\n",
      "[CV] END bootstrap=True, max_depth=100, max_features=2, min_samples_leaf=5, min_samples_split=15, n_estimators=50; total time=   0.1s\n",
      "[CV] END bootstrap=True, max_depth=100, max_features=2, min_samples_leaf=5, min_samples_split=15, n_estimators=50; total time=   0.1s\n",
      "[CV] END bootstrap=True, max_depth=100, max_features=2, min_samples_leaf=5, min_samples_split=15, n_estimators=100; total time=   0.2s\n",
      "[CV] END bootstrap=True, max_depth=100, max_features=3, min_samples_leaf=3, min_samples_split=5, n_estimators=25; total time=   0.0s\n",
      "[CV] END bootstrap=True, max_depth=100, max_features=3, min_samples_leaf=3, min_samples_split=5, n_estimators=25; total time=   0.0s\n",
      "[CV] END bootstrap=True, max_depth=100, max_features=3, min_samples_leaf=3, min_samples_split=5, n_estimators=25; total time=   0.0s\n",
      "[CV] END bootstrap=True, max_depth=100, max_features=3, min_samples_leaf=3, min_samples_split=5, n_estimators=50; total time=   0.1s\n",
      "[CV] END bootstrap=True, max_depth=100, max_features=3, min_samples_leaf=3, min_samples_split=5, n_estimators=100; total time=   0.2s\n",
      "[CV] END bootstrap=True, max_depth=100, max_features=3, min_samples_leaf=3, min_samples_split=10, n_estimators=25; total time=   0.0s\n",
      "[CV] END bootstrap=True, max_depth=100, max_features=3, min_samples_leaf=3, min_samples_split=10, n_estimators=25; total time=   0.0s\n",
      "[CV] END bootstrap=True, max_depth=100, max_features=3, min_samples_leaf=3, min_samples_split=10, n_estimators=25; total time=   0.0s\n",
      "[CV] END bootstrap=True, max_depth=100, max_features=3, min_samples_leaf=3, min_samples_split=10, n_estimators=50; total time=   0.1s\n",
      "[CV] END bootstrap=True, max_depth=100, max_features=3, min_samples_leaf=3, min_samples_split=10, n_estimators=100; total time=   0.2s\n",
      "[CV] END bootstrap=True, max_depth=100, max_features=3, min_samples_leaf=3, min_samples_split=10, n_estimators=100; total time=   0.2s\n",
      "[CV] END bootstrap=True, max_depth=100, max_features=3, min_samples_leaf=3, min_samples_split=15, n_estimators=25; total time=   0.1s\n",
      "[CV] END bootstrap=True, max_depth=100, max_features=3, min_samples_leaf=3, min_samples_split=15, n_estimators=25; total time=   0.1s\n",
      "[CV] END bootstrap=True, max_depth=100, max_features=3, min_samples_leaf=3, min_samples_split=15, n_estimators=50; total time=   0.1s\n",
      "[CV] END bootstrap=True, max_depth=100, max_features=3, min_samples_leaf=3, min_samples_split=15, n_estimators=100; total time=   0.2s\n",
      "[CV] END bootstrap=True, max_depth=100, max_features=3, min_samples_leaf=4, min_samples_split=5, n_estimators=25; total time=   0.0s\n",
      "[CV] END bootstrap=True, max_depth=100, max_features=3, min_samples_leaf=4, min_samples_split=5, n_estimators=25; total time=   0.0s\n",
      "[CV] END bootstrap=True, max_depth=100, max_features=3, min_samples_leaf=4, min_samples_split=5, n_estimators=25; total time=   0.0s\n",
      "[CV] END bootstrap=True, max_depth=100, max_features=3, min_samples_leaf=4, min_samples_split=5, n_estimators=50; total time=   0.1s\n",
      "[CV] END bootstrap=True, max_depth=100, max_features=3, min_samples_leaf=4, min_samples_split=5, n_estimators=100; total time=   0.2s\n",
      "[CV] END bootstrap=True, max_depth=100, max_features=3, min_samples_leaf=4, min_samples_split=5, n_estimators=100; total time=   0.2s\n",
      "[CV] END bootstrap=True, max_depth=100, max_features=3, min_samples_leaf=4, min_samples_split=10, n_estimators=25; total time=   0.0s\n",
      "[CV] END bootstrap=True, max_depth=100, max_features=3, min_samples_leaf=4, min_samples_split=10, n_estimators=25; total time=   0.0s\n",
      "[CV] END bootstrap=True, max_depth=100, max_features=3, min_samples_leaf=4, min_samples_split=10, n_estimators=50; total time=   0.1s\n",
      "[CV] END bootstrap=True, max_depth=100, max_features=3, min_samples_leaf=4, min_samples_split=10, n_estimators=100; total time=   0.2s\n",
      "[CV] END bootstrap=True, max_depth=100, max_features=3, min_samples_leaf=4, min_samples_split=15, n_estimators=25; total time=   0.1s\n",
      "[CV] END bootstrap=True, max_depth=100, max_features=3, min_samples_leaf=4, min_samples_split=15, n_estimators=25; total time=   0.1s\n",
      "[CV] END bootstrap=True, max_depth=100, max_features=3, min_samples_leaf=4, min_samples_split=10, n_estimators=50; total time=   0.1s\n",
      "[CV] END bootstrap=True, max_depth=100, max_features=3, min_samples_leaf=4, min_samples_split=10, n_estimators=50; total time=   0.1s\n",
      "[CV] END bootstrap=True, max_depth=100, max_features=3, min_samples_leaf=4, min_samples_split=10, n_estimators=100; total time=   0.2s\n",
      "[CV] END bootstrap=True, max_depth=100, max_features=3, min_samples_leaf=4, min_samples_split=10, n_estimators=100; total time=   0.2s\n",
      "[CV] END bootstrap=True, max_depth=100, max_features=3, min_samples_leaf=4, min_samples_split=15, n_estimators=50; total time=   0.1s\n",
      "[CV] END bootstrap=True, max_depth=100, max_features=3, min_samples_leaf=4, min_samples_split=15, n_estimators=50; total time=   0.1s\n",
      "[CV] END bootstrap=True, max_depth=100, max_features=3, min_samples_leaf=4, min_samples_split=15, n_estimators=100; total time=   0.2s\n",
      "[CV] END bootstrap=True, max_depth=100, max_features=3, min_samples_leaf=5, min_samples_split=5, n_estimators=25; total time=   0.0s\n",
      "[CV] END bootstrap=True, max_depth=100, max_features=3, min_samples_leaf=5, min_samples_split=5, n_estimators=25; total time=   0.0s\n",
      "[CV] END bootstrap=True, max_depth=100, max_features=3, min_samples_leaf=5, min_samples_split=5, n_estimators=25; total time=   0.0s\n",
      "[CV] END bootstrap=True, max_depth=100, max_features=3, min_samples_leaf=5, min_samples_split=5, n_estimators=50; total time=   0.1s\n",
      "[CV] END bootstrap=True, max_depth=100, max_features=3, min_samples_leaf=5, min_samples_split=5, n_estimators=100; total time=   0.2s\n",
      "[CV] END bootstrap=True, max_depth=100, max_features=3, min_samples_leaf=5, min_samples_split=10, n_estimators=25; total time=   0.1s\n",
      "[CV] END bootstrap=True, max_depth=100, max_features=3, min_samples_leaf=5, min_samples_split=10, n_estimators=25; total time=   0.0s\n",
      "[CV] END bootstrap=True, max_depth=100, max_features=3, min_samples_leaf=5, min_samples_split=10, n_estimators=25; total time=   0.0s\n",
      "[CV] END bootstrap=True, max_depth=100, max_features=3, min_samples_leaf=5, min_samples_split=10, n_estimators=50; total time=   0.1s\n",
      "[CV] END bootstrap=True, max_depth=100, max_features=3, min_samples_leaf=5, min_samples_split=10, n_estimators=100; total time=   0.2s\n",
      "[CV] END bootstrap=True, max_depth=100, max_features=3, min_samples_leaf=5, min_samples_split=10, n_estimators=100; total time=   0.2s\n",
      "[CV] END bootstrap=True, max_depth=100, max_features=3, min_samples_leaf=5, min_samples_split=15, n_estimators=50; total time=   0.1s\n",
      "[CV] END bootstrap=True, max_depth=100, max_features=3, min_samples_leaf=5, min_samples_split=15, n_estimators=50; total time=   0.1s\n",
      "[CV] END bootstrap=True, max_depth=100, max_features=3, min_samples_leaf=5, min_samples_split=15, n_estimators=100; total time=   0.2s\n",
      "[CV] END bootstrap=True, max_depth=100, max_features=3, min_samples_leaf=5, min_samples_split=15, n_estimators=100; total time=   0.2s\n",
      "[CV] END bootstrap=True, max_depth=100, max_features=4, min_samples_leaf=3, min_samples_split=5, n_estimators=50; total time=   0.1s\n",
      "[CV] END bootstrap=True, max_depth=100, max_features=4, min_samples_leaf=3, min_samples_split=5, n_estimators=50; total time=   0.1s\n",
      "[CV] END bootstrap=True, max_depth=100, max_features=4, min_samples_leaf=3, min_samples_split=5, n_estimators=100; total time=   0.2s\n",
      "[CV] END bootstrap=True, max_depth=100, max_features=4, min_samples_leaf=3, min_samples_split=10, n_estimators=25; total time=   0.0s\n",
      "[CV] END bootstrap=True, max_depth=100, max_features=4, min_samples_leaf=3, min_samples_split=10, n_estimators=50; total time=   0.1s\n",
      "[CV] END bootstrap=True, max_depth=100, max_features=4, min_samples_leaf=3, min_samples_split=10, n_estimators=50; total time=   0.1s\n",
      "[CV] END bootstrap=True, max_depth=100, max_features=4, min_samples_leaf=3, min_samples_split=10, n_estimators=100; total time=   0.2s\n",
      "[CV] END bootstrap=True, max_depth=100, max_features=4, min_samples_leaf=3, min_samples_split=10, n_estimators=100; total time=   0.2s\n",
      "[CV] END bootstrap=True, max_depth=100, max_features=4, min_samples_leaf=3, min_samples_split=15, n_estimators=100; total time=   0.2s\n",
      "[CV] END bootstrap=True, max_depth=100, max_features=4, min_samples_leaf=3, min_samples_split=15, n_estimators=100; total time=   0.2s\n",
      "[CV] END bootstrap=True, max_depth=100, max_features=4, min_samples_leaf=4, min_samples_split=5, n_estimators=25; total time=   0.0s\n",
      "[CV] END bootstrap=True, max_depth=100, max_features=4, min_samples_leaf=4, min_samples_split=5, n_estimators=25; total time=   0.0s\n",
      "[CV] END bootstrap=True, max_depth=100, max_features=4, min_samples_leaf=4, min_samples_split=5, n_estimators=50; total time=   0.1s\n",
      "[CV] END bootstrap=True, max_depth=100, max_features=4, min_samples_leaf=4, min_samples_split=5, n_estimators=100; total time=   0.2s\n",
      "[CV] END bootstrap=True, max_depth=100, max_features=4, min_samples_leaf=4, min_samples_split=10, n_estimators=25; total time=   0.0s\n",
      "[CV] END bootstrap=True, max_depth=100, max_features=4, min_samples_leaf=4, min_samples_split=10, n_estimators=25; total time=   0.0s\n",
      "[CV] END bootstrap=True, max_depth=100, max_features=4, min_samples_leaf=4, min_samples_split=10, n_estimators=25; total time=   0.0s\n",
      "[CV] END bootstrap=True, max_depth=100, max_features=4, min_samples_leaf=4, min_samples_split=10, n_estimators=50; total time=   0.1s\n",
      "[CV] END bootstrap=True, max_depth=100, max_features=4, min_samples_leaf=4, min_samples_split=10, n_estimators=100; total time=   0.2s\n",
      "[CV] END bootstrap=True, max_depth=100, max_features=4, min_samples_leaf=4, min_samples_split=10, n_estimators=100; total time=   0.2s\n",
      "[CV] END bootstrap=True, max_depth=100, max_features=4, min_samples_leaf=4, min_samples_split=15, n_estimators=25; total time=   0.0s\n",
      "[CV] END bootstrap=True, max_depth=100, max_features=4, min_samples_leaf=4, min_samples_split=15, n_estimators=25; total time=   0.0s\n",
      "[CV] END bootstrap=True, max_depth=100, max_features=4, min_samples_leaf=4, min_samples_split=15, n_estimators=50; total time=   0.1s\n",
      "[CV] END bootstrap=True, max_depth=100, max_features=4, min_samples_leaf=4, min_samples_split=15, n_estimators=100; total time=   0.2s\n",
      "[CV] END bootstrap=True, max_depth=100, max_features=4, min_samples_leaf=5, min_samples_split=5, n_estimators=25; total time=   0.0s\n",
      "[CV] END bootstrap=True, max_depth=100, max_features=4, min_samples_leaf=5, min_samples_split=5, n_estimators=25; total time=   0.0s\n",
      "[CV] END bootstrap=True, max_depth=100, max_features=4, min_samples_leaf=5, min_samples_split=5, n_estimators=25; total time=   0.0s\n",
      "[CV] END bootstrap=True, max_depth=100, max_features=4, min_samples_leaf=5, min_samples_split=5, n_estimators=50; total time=   0.1s\n",
      "[CV] END bootstrap=True, max_depth=100, max_features=4, min_samples_leaf=5, min_samples_split=5, n_estimators=100; total time=   0.2s\n",
      "[CV] END bootstrap=True, max_depth=100, max_features=4, min_samples_leaf=5, min_samples_split=5, n_estimators=100; total time=   0.2s\n",
      "[CV] END bootstrap=True, max_depth=100, max_features=4, min_samples_leaf=5, min_samples_split=10, n_estimators=25; total time=   0.0s\n",
      "[CV] END bootstrap=True, max_depth=100, max_features=4, min_samples_leaf=5, min_samples_split=10, n_estimators=25; total time=   0.0s\n",
      "[CV] END bootstrap=True, max_depth=100, max_features=4, min_samples_leaf=5, min_samples_split=10, n_estimators=50; total time=   0.1s\n",
      "[CV] END bootstrap=True, max_depth=100, max_features=4, min_samples_leaf=5, min_samples_split=10, n_estimators=100; total time=   0.2s\n",
      "[CV] END bootstrap=True, max_depth=100, max_features=4, min_samples_leaf=5, min_samples_split=15, n_estimators=25; total time=   0.0s\n",
      "[CV] END bootstrap=True, max_depth=100, max_features=4, min_samples_leaf=5, min_samples_split=15, n_estimators=25; total time=   0.0s\n",
      "[CV] END bootstrap=True, max_depth=100, max_features=4, min_samples_leaf=5, min_samples_split=15, n_estimators=25; total time=   0.0s\n",
      "[CV] END bootstrap=True, max_depth=100, max_features=4, min_samples_leaf=5, min_samples_split=15, n_estimators=50; total time=   0.1s\n",
      "[CV] END bootstrap=True, max_depth=100, max_features=4, min_samples_leaf=5, min_samples_split=15, n_estimators=100; total time=   0.2s\n"
     ]
    },
    {
     "data": {
      "text/html": [
       "<style>#sk-container-id-1 {color: black;background-color: white;}#sk-container-id-1 pre{padding: 0;}#sk-container-id-1 div.sk-toggleable {background-color: white;}#sk-container-id-1 label.sk-toggleable__label {cursor: pointer;display: block;width: 100%;margin-bottom: 0;padding: 0.3em;box-sizing: border-box;text-align: center;}#sk-container-id-1 label.sk-toggleable__label-arrow:before {content: \"▸\";float: left;margin-right: 0.25em;color: #696969;}#sk-container-id-1 label.sk-toggleable__label-arrow:hover:before {color: black;}#sk-container-id-1 div.sk-estimator:hover label.sk-toggleable__label-arrow:before {color: black;}#sk-container-id-1 div.sk-toggleable__content {max-height: 0;max-width: 0;overflow: hidden;text-align: left;background-color: #f0f8ff;}#sk-container-id-1 div.sk-toggleable__content pre {margin: 0.2em;color: black;border-radius: 0.25em;background-color: #f0f8ff;}#sk-container-id-1 input.sk-toggleable__control:checked~div.sk-toggleable__content {max-height: 200px;max-width: 100%;overflow: auto;}#sk-container-id-1 input.sk-toggleable__control:checked~label.sk-toggleable__label-arrow:before {content: \"▾\";}#sk-container-id-1 div.sk-estimator input.sk-toggleable__control:checked~label.sk-toggleable__label {background-color: #d4ebff;}#sk-container-id-1 div.sk-label input.sk-toggleable__control:checked~label.sk-toggleable__label {background-color: #d4ebff;}#sk-container-id-1 input.sk-hidden--visually {border: 0;clip: rect(1px 1px 1px 1px);clip: rect(1px, 1px, 1px, 1px);height: 1px;margin: -1px;overflow: hidden;padding: 0;position: absolute;width: 1px;}#sk-container-id-1 div.sk-estimator {font-family: monospace;background-color: #f0f8ff;border: 1px dotted black;border-radius: 0.25em;box-sizing: border-box;margin-bottom: 0.5em;}#sk-container-id-1 div.sk-estimator:hover {background-color: #d4ebff;}#sk-container-id-1 div.sk-parallel-item::after {content: \"\";width: 100%;border-bottom: 1px solid gray;flex-grow: 1;}#sk-container-id-1 div.sk-label:hover label.sk-toggleable__label {background-color: #d4ebff;}#sk-container-id-1 div.sk-serial::before {content: \"\";position: absolute;border-left: 1px solid gray;box-sizing: border-box;top: 0;bottom: 0;left: 50%;z-index: 0;}#sk-container-id-1 div.sk-serial {display: flex;flex-direction: column;align-items: center;background-color: white;padding-right: 0.2em;padding-left: 0.2em;position: relative;}#sk-container-id-1 div.sk-item {position: relative;z-index: 1;}#sk-container-id-1 div.sk-parallel {display: flex;align-items: stretch;justify-content: center;background-color: white;position: relative;}#sk-container-id-1 div.sk-item::before, #sk-container-id-1 div.sk-parallel-item::before {content: \"\";position: absolute;border-left: 1px solid gray;box-sizing: border-box;top: 0;bottom: 0;left: 50%;z-index: -1;}#sk-container-id-1 div.sk-parallel-item {display: flex;flex-direction: column;z-index: 1;position: relative;background-color: white;}#sk-container-id-1 div.sk-parallel-item:first-child::after {align-self: flex-end;width: 50%;}#sk-container-id-1 div.sk-parallel-item:last-child::after {align-self: flex-start;width: 50%;}#sk-container-id-1 div.sk-parallel-item:only-child::after {width: 0;}#sk-container-id-1 div.sk-dashed-wrapped {border: 1px dashed gray;margin: 0 0.4em 0.5em 0.4em;box-sizing: border-box;padding-bottom: 0.4em;background-color: white;}#sk-container-id-1 div.sk-label label {font-family: monospace;font-weight: bold;display: inline-block;line-height: 1.2em;}#sk-container-id-1 div.sk-label-container {text-align: center;}#sk-container-id-1 div.sk-container {/* jupyter's `normalize.less` sets `[hidden] { display: none; }` but bootstrap.min.css set `[hidden] { display: none !important; }` so we also need the `!important` here to be able to override the default hidden behavior on the sphinx rendered scikit-learn.org. See: https://github.com/scikit-learn/scikit-learn/issues/21755 */display: inline-block !important;position: relative;}#sk-container-id-1 div.sk-text-repr-fallback {display: none;}</style><div id=\"sk-container-id-1\" class=\"sk-top-container\"><div class=\"sk-text-repr-fallback\"><pre>GridSearchCV(cv=3, estimator=RandomForestClassifier(), n_jobs=-1,\n",
       "             param_grid={&#x27;bootstrap&#x27;: [True], &#x27;max_depth&#x27;: [25, 50, 100],\n",
       "                         &#x27;max_features&#x27;: [2, 3, 4],\n",
       "                         &#x27;min_samples_leaf&#x27;: [3, 4, 5],\n",
       "                         &#x27;min_samples_split&#x27;: [5, 10, 15],\n",
       "                         &#x27;n_estimators&#x27;: [25, 50, 100]},\n",
       "             verbose=2)</pre><b>In a Jupyter environment, please rerun this cell to show the HTML representation or trust the notebook. <br />On GitHub, the HTML representation is unable to render, please try loading this page with nbviewer.org.</b></div><div class=\"sk-container\" hidden><div class=\"sk-item sk-dashed-wrapped\"><div class=\"sk-label-container\"><div class=\"sk-label sk-toggleable\"><input class=\"sk-toggleable__control sk-hidden--visually\" id=\"sk-estimator-id-1\" type=\"checkbox\" ><label for=\"sk-estimator-id-1\" class=\"sk-toggleable__label sk-toggleable__label-arrow\">GridSearchCV</label><div class=\"sk-toggleable__content\"><pre>GridSearchCV(cv=3, estimator=RandomForestClassifier(), n_jobs=-1,\n",
       "             param_grid={&#x27;bootstrap&#x27;: [True], &#x27;max_depth&#x27;: [25, 50, 100],\n",
       "                         &#x27;max_features&#x27;: [2, 3, 4],\n",
       "                         &#x27;min_samples_leaf&#x27;: [3, 4, 5],\n",
       "                         &#x27;min_samples_split&#x27;: [5, 10, 15],\n",
       "                         &#x27;n_estimators&#x27;: [25, 50, 100]},\n",
       "             verbose=2)</pre></div></div></div><div class=\"sk-parallel\"><div class=\"sk-parallel-item\"><div class=\"sk-item\"><div class=\"sk-label-container\"><div class=\"sk-label sk-toggleable\"><input class=\"sk-toggleable__control sk-hidden--visually\" id=\"sk-estimator-id-2\" type=\"checkbox\" ><label for=\"sk-estimator-id-2\" class=\"sk-toggleable__label sk-toggleable__label-arrow\">estimator: RandomForestClassifier</label><div class=\"sk-toggleable__content\"><pre>RandomForestClassifier()</pre></div></div></div><div class=\"sk-serial\"><div class=\"sk-item\"><div class=\"sk-estimator sk-toggleable\"><input class=\"sk-toggleable__control sk-hidden--visually\" id=\"sk-estimator-id-3\" type=\"checkbox\" ><label for=\"sk-estimator-id-3\" class=\"sk-toggleable__label sk-toggleable__label-arrow\">RandomForestClassifier</label><div class=\"sk-toggleable__content\"><pre>RandomForestClassifier()</pre></div></div></div></div></div></div></div></div></div></div>"
      ],
      "text/plain": [
       "GridSearchCV(cv=3, estimator=RandomForestClassifier(), n_jobs=-1,\n",
       "             param_grid={'bootstrap': [True], 'max_depth': [25, 50, 100],\n",
       "                         'max_features': [2, 3, 4],\n",
       "                         'min_samples_leaf': [3, 4, 5],\n",
       "                         'min_samples_split': [5, 10, 15],\n",
       "                         'n_estimators': [25, 50, 100]},\n",
       "             verbose=2)"
      ]
     },
     "execution_count": 37,
     "metadata": {},
     "output_type": "execute_result"
    }
   ],
   "source": [
    "from sklearn.model_selection import GridSearchCV\n",
    "# Create the parameter grid based on the results of random search \n",
    "param_grid = {\n",
    "    'bootstrap': [True],\n",
    "    'max_depth': [25,50, 100],\n",
    "    'max_features': [2, 3,4],\n",
    "    'min_samples_leaf': [3, 4, 5],\n",
    "    'min_samples_split': [5, 10, 15],\n",
    "    'n_estimators': [25,50,100]\n",
    "}\n",
    "# Create a based model\n",
    "rf = RandomForestClassifier()\n",
    "# Instantiate the grid search model\n",
    "grid_search = GridSearchCV(estimator = rf, param_grid = param_grid, \n",
    "                          cv = 3, n_jobs = -1, verbose = 2)\n",
    "#Fit\n",
    "grid_search.fit(X_train, y_train)"
   ]
  },
  {
   "cell_type": "code",
   "execution_count": 38,
   "id": "6be18a32-7991-4286-9053-686d232f16bf",
   "metadata": {
    "tags": []
   },
   "outputs": [
    {
     "name": "stdout",
     "output_type": "stream",
     "text": [
      "The best model was: RandomForestClassifier(max_depth=25, max_features=4, min_samples_leaf=4,\n",
      "                       min_samples_split=5, n_estimators=25)\n",
      "The best parameter values were: {'bootstrap': True, 'max_depth': 25, 'max_features': 4, 'min_samples_leaf': 4, 'min_samples_split': 5, 'n_estimators': 25}\n",
      "The best f1-score was: 0.9594220594220594\n"
     ]
    }
   ],
   "source": [
    "#Finding the best parameter\n",
    "best_model = grid_search.best_estimator_\n",
    "best_parameters = grid_search.best_params_\n",
    "best_f1 = grid_search.best_score_\n",
    "\n",
    "print('The best model was:', best_model)\n",
    "print('The best parameter values were:', best_parameters)\n",
    "print('The best f1-score was:', best_f1)"
   ]
  },
  {
   "cell_type": "code",
   "execution_count": 39,
   "id": "d25bd5a2-746e-463f-aa31-a3302b83d7dd",
   "metadata": {
    "tags": []
   },
   "outputs": [
    {
     "name": "stdout",
     "output_type": "stream",
     "text": [
      "The Accuracy on tuned Random Forest Classifier model is 0.9264705882352942\n"
     ]
    }
   ],
   "source": [
    "#Hyperparameter tuning on Random Forest Classifier\n",
    "best_rf = RandomForestClassifier(max_depth=100, max_features=4, min_samples_leaf=3,\n",
    "                       min_samples_split=5)\n",
    "best_rf.fit(X_train,y_train)\n",
    "print(f'The Accuracy on tuned Random Forest Classifier model is {best_rf.score(X_test,y_test)}')"
   ]
  },
  {
   "cell_type": "markdown",
   "id": "54f61463-fda4-4811-bf03-288b76c99181",
   "metadata": {},
   "source": [
    "3.2 Implement hyperparameter tuning on  KNN algorithms"
   ]
  },
  {
   "cell_type": "markdown",
   "id": "dc7a9d27-02e7-4311-b225-c52a40415138",
   "metadata": {},
   "source": [
    "We will use three hyperparamters- n-neighbors, weights and metric.\n",
    "\n",
    "> n_neighbors: Decide the best k based on the values\n",
    "\n",
    "> weights: Check whether adding weights to the data points is beneficial to the model or not. 'uniform' assigns no weight, while 'distance' weighs points by the inverse of their distances meaning nearer points will have more weight than the farther points.\n",
    "\n",
    "> metric: The distance metric to be used will calculating the similarity"
   ]
  },
  {
   "cell_type": "code",
   "execution_count": 40,
   "id": "c354804a-215a-4d86-9860-df5bfe93c5ef",
   "metadata": {
    "tags": []
   },
   "outputs": [
    {
     "name": "stdout",
     "output_type": "stream",
     "text": [
      "Fitting 3 folds for each of 60 candidates, totalling 180 fits\n"
     ]
    }
   ],
   "source": [
    "# Create the parameter grid based on the results of random search \n",
    "grid_params = { 'n_neighbors' : [1,2,3,4,5,7,9,11,13,15],\n",
    "               'weights' : ['uniform','distance'],\n",
    "               'metric' : ['minkowski','euclidean','manhattan']}\n",
    "\n",
    "# Instantiate the grid search model\n",
    "gs = GridSearchCV(KNeighborsClassifier(), grid_params, verbose = 1, cv=3, n_jobs = -1)\n",
    "\n",
    "#Fit\n",
    "# fit the model on our train set\n",
    "g_res = gs.fit(X_train, y_train)"
   ]
  },
  {
   "cell_type": "code",
   "execution_count": 41,
   "id": "44f83958-91c2-421b-8b3d-0e86273b9262",
   "metadata": {
    "tags": []
   },
   "outputs": [
    {
     "name": "stdout",
     "output_type": "stream",
     "text": [
      "The best model was: KNeighborsClassifier(metric='manhattan', n_neighbors=4, weights='distance')\n",
      "The best parameter values were: {'metric': 'manhattan', 'n_neighbors': 4, 'weights': 'distance'}\n",
      "The best f1-score was: 0.7084656084656085\n"
     ]
    }
   ],
   "source": [
    "#Finding the best parameter\n",
    "best_model = g_res.best_estimator_\n",
    "best_parameters = g_res.best_params_\n",
    "best_f1 = g_res.best_score_\n",
    "\n",
    "print('The best model was:', best_model)\n",
    "print('The best parameter values were:', best_parameters)\n",
    "print('The best f1-score was:', best_f1)"
   ]
  },
  {
   "cell_type": "code",
   "execution_count": 42,
   "id": "ac7ce4ce-b1fd-4b31-92db-c56997151d93",
   "metadata": {
    "tags": []
   },
   "outputs": [
    {
     "name": "stdout",
     "output_type": "stream",
     "text": [
      "The Accuracy on tuned KNN model is 0.7647058823529411\n"
     ]
    }
   ],
   "source": [
    "#Hyperparameter tuning on KNeighborsClassifier Classifier\n",
    "best_knn = KNeighborsClassifier(metric='manhattan', n_neighbors=4, weights='distance')\n",
    "best_knn.fit(X_train,y_train)\n",
    "print(f'The Accuracy on tuned KNN model is {best_knn.score(X_test,y_test)}')"
   ]
  },
  {
   "cell_type": "markdown",
   "id": "88ce3ac1-a14a-4ff2-a131-26f75bce27a7",
   "metadata": {},
   "source": [
    "3.3 Report the best performing model and the respective hyperparameters with highest accuracy"
   ]
  },
  {
   "cell_type": "markdown",
   "id": "64eb00c6-b8f2-4acb-b425-307552f13949",
   "metadata": {},
   "source": [
    "\n",
    "The best model among the two was: RandomForestClassifier(max_depth=100, max_features=4, min_samples_leaf=3,min_samples_split=5)\n",
    "\n",
    "Highest Accuracy with it is 0.9264705882352942"
   ]
  },
  {
   "cell_type": "markdown",
   "id": "83887479-7a00-4873-bafb-745e7cc81632",
   "metadata": {},
   "source": [
    "4. **Most important features**: Not all features contribute to the classification accuracy equally. Estimate the order of best performing features. Repeat the classification task with including different number of features in your RF classifier and report how accuracy is changing (10)"
   ]
  },
  {
   "cell_type": "markdown",
   "id": "0c290218-8ab0-4969-bb34-ac8ef52b0fbd",
   "metadata": {},
   "source": [
    "4.1 Estimate the order of best performing features. "
   ]
  },
  {
   "cell_type": "code",
   "execution_count": 43,
   "id": "73b65668-bd78-4859-9b36-8951e368b2c1",
   "metadata": {
    "tags": []
   },
   "outputs": [
    {
     "name": "stdout",
     "output_type": "stream",
     "text": [
      "0.03 deltaE_Hull(eV)\n",
      "0.07 Num_atoms\n",
      "0.0 Band Presence \n",
      "0.06 DeltaE(eV)\n",
      "0.04 Formation Energy (eV)\n",
      "0.04 Material Density(gm/cc)\n",
      "0.09 Unit Volume \n",
      "0.67 symmetry group\n"
     ]
    }
   ],
   "source": [
    "#recheck\n",
    "#feature importance\n",
    "best_rf.fit(X, y)\n",
    "for score, name in zip(best_rf.feature_importances_, X.columns):\n",
    "    print(round(score, 2), name)"
   ]
  },
  {
   "cell_type": "markdown",
   "id": "6400730d-315d-425c-8550-a75545f0875f",
   "metadata": {},
   "source": [
    "4.2 Repeat the classification task with including different number of features in your RF classifier,report how accuracy is changing "
   ]
  },
  {
   "cell_type": "code",
   "execution_count": null,
   "id": "ddec2d39-c3f3-4e3f-9069-5fcd7846207a",
   "metadata": {},
   "outputs": [],
   "source": [
    "\n",
    "for i in range(1,len(list(features.columns))):\n",
    "    best_rf1 = RandomForestClassifier(max_depth=100, max_features=i, min_samples_leaf=3, min_samples_split=5)\n",
    "    best_rf1.fit(X_train,y_train)\n",
    "    print(f'The Accuracy for {i} th feature is : {best_rf1.score(X_test,y_test)}')"
   ]
  },
  {
   "cell_type": "markdown",
   "id": "35379844-63cd-4fdf-bc28-9de4ae96fc7c",
   "metadata": {},
   "source": [
    "5. **XGBoost** : XGBoost is a python ML library that uses optimized gradient boosted trees and has been really successful in completing many ML tasks. Implement XGBoost on the data. Perform hyper-parameter tuning and report the highest accuracy you acheive. (20)"
   ]
  },
  {
   "cell_type": "markdown",
   "id": "0e995a50-d6f6-468f-af0a-7baeba3da6ab",
   "metadata": {},
   "source": [
    "5.1 Implement XGBoost on the data"
   ]
  },
  {
   "cell_type": "markdown",
   "id": "6a2a5f6a-6812-4c12-a237-011e1afffd2d",
   "metadata": {
    "tags": []
   },
   "source": [
    "# Install\n",
    "!pip install xgboost"
   ]
  },
  {
   "cell_type": "code",
   "execution_count": null,
   "id": "a07ab679-f643-4480-a483-877e2acd47fd",
   "metadata": {},
   "outputs": [],
   "source": [
    "# Import\n",
    "import xgboost as xgb\n",
    "from xgboost import XGBClassifier\n",
    "from sklearn.metrics import accuracy_score, classification_report"
   ]
  },
  {
   "cell_type": "code",
   "execution_count": 47,
   "id": "d143550b-8794-4dfb-bec4-725b83aebe75",
   "metadata": {
    "tags": []
   },
   "outputs": [
    {
     "name": "stdout",
     "output_type": "stream",
     "text": [
      "Accuracy: 1.0\n",
      "\n",
      "Classification Report:\n",
      "              precision    recall  f1-score   support\n",
      "\n",
      "           0       1.00      1.00      1.00        25\n",
      "           1       1.00      1.00      1.00        33\n",
      "           2       1.00      1.00      1.00        10\n",
      "\n",
      "    accuracy                           1.00        68\n",
      "   macro avg       1.00      1.00      1.00        68\n",
      "weighted avg       1.00      1.00      1.00        68\n",
      "\n"
     ]
    }
   ],
   "source": [
    "#Creating an XGBoost classifier\n",
    "model = xgb.XGBClassifier()\n",
    "\n",
    "#Training the model on the training data\n",
    "model.fit(X_train, y_train)\n",
    "\n",
    "#Making predictions on the test set\n",
    "predictions = model.predict(X_test)\n",
    "\n",
    "#Calculating accuracy\n",
    "accuracy = accuracy_score(y_test, predictions)\n",
    "\n",
    "print(\"Accuracy:\", accuracy)\n",
    "print(\"\\nClassification Report:\")\n",
    "print(classification_report(y_test, predictions))"
   ]
  },
  {
   "cell_type": "markdown",
   "id": "d12e842e-f901-4021-bac9-29a1a9082fe7",
   "metadata": {},
   "source": [
    "5.2 Perform hyper-parameter tuning "
   ]
  },
  {
   "cell_type": "markdown",
   "id": "c512a272-1ae1-482b-a248-ad1261e04a38",
   "metadata": {},
   "source": [
    "XGBoost hyperparameters \n",
    "Booster parameters:\n",
    "1.learning_rate:\n",
    "It is the step size shrinkage used in update to prevent overfitting.\n",
    "After each boosting step, we can directly get the weights of new features, and eta shrinks the feature weights to make the boosting process more conservative.\n",
    "\n",
    "2.max_depth [default=6]\n",
    "The maximum depth of a tree, same as GBM.\n",
    "It is used to control over-fitting as higher depth will allow model to learn relations very specific to a particular sample.\n",
    "Increasing this value will make the model more complex and more likely to overfit.\n",
    "We should be careful when setting large value of max_depth because XGBoost aggressively consumes memory when training a deep tree.\n",
    "\n",
    "3.subsample [default=1]\n",
    "\n",
    "It denotes the fraction of observations to be randomly samples for each tree.\n",
    "Subsample ratio of the training instances.\n",
    "Setting it to 0.5 means that XGBoost would randomly sample half of the training data prior to growing trees. - This will prevent overfitting.\n",
    "Subsampling will occur once in every boosting iteration.\n",
    "Lower values make the algorithm more conservative and prevents overfitting but too small values might lead to under-fitting.\n",
    "\n"
   ]
  },
  {
   "cell_type": "code",
   "execution_count": 58,
   "id": "d1ad6fd5-2cd4-433c-bc31-d9a5357e9312",
   "metadata": {
    "tags": []
   },
   "outputs": [
    {
     "name": "stdout",
     "output_type": "stream",
     "text": [
      "The best model was: XGBClassifier(base_score=None, booster=None, callbacks=None,\n",
      "              colsample_bylevel=None, colsample_bynode=None,\n",
      "              colsample_bytree=None, device=None, early_stopping_rounds=None,\n",
      "              enable_categorical=False, eval_metric=None, feature_types=None,\n",
      "              gamma=None, grow_policy=None, importance_type=None,\n",
      "              interaction_constraints=None, learning_rate=0.1, max_bin=None,\n",
      "              max_cat_threshold=None, max_cat_to_onehot=None,\n",
      "              max_delta_step=None, max_depth=3, max_leaves=None,\n",
      "              min_child_weight=None, missing=nan, monotone_constraints=None,\n",
      "              multi_strategy=None, n_estimators=None, n_jobs=None,\n",
      "              num_parallel_tree=None, objective='multi:softprob', ...)\n",
      "The best parameter values were: {'learning_rate': 0.1, 'max_depth': 3, 'subsample': 0.7}\n",
      "The best f1-score was: 0.9926599326599327\n"
     ]
    }
   ],
   "source": [
    "# Define the hyperparameter grid\n",
    "\n",
    "param_grid = {\n",
    "    'max_depth': [3, 5, 7,8],\n",
    "    'learning_rate': [0.1, 0.01, 0.001],\n",
    "    'subsample': [0.5, 0.7, 1],\n",
    "    \n",
    "}\n",
    "\n",
    "# Create the XGBoost model object\n",
    "xgb_model = xgb.XGBClassifier()\n",
    "\n",
    "# Create the GridSearchCV object\n",
    "grid_search = GridSearchCV(xgb_model, param_grid, cv=5, scoring='accuracy')\n",
    "\n",
    "# Fit the GridSearchCV object to the training data\n",
    "grid_search.fit(X_train, y_train)\n",
    "\n",
    "#Finding the best parameter\n",
    "best_model = grid_search.best_estimator_\n",
    "best_parameters = grid_search.best_params_\n",
    "best_f1 = grid_search.best_score_\n",
    "\n",
    "print('The best model was:', best_model)\n",
    "print('The best parameter values were:', best_parameters)\n",
    "print('The best f1-score was:', best_f1)"
   ]
  },
  {
   "cell_type": "markdown",
   "id": "06d39a5a-8666-45c7-9303-ca2a7ffa9696",
   "metadata": {},
   "source": [
    "5.3 report the highest accuracy you acheive"
   ]
  },
  {
   "cell_type": "code",
   "execution_count": 63,
   "id": "4cab3a89-c48b-4f7e-b8fd-b02643729351",
   "metadata": {
    "tags": []
   },
   "outputs": [
    {
     "name": "stdout",
     "output_type": "stream",
     "text": [
      "The Accuracy on tuned XGBoost model is 1.0\n"
     ]
    }
   ],
   "source": [
    "#Hyperparameter tuning on KNeighborsClassifier Classifier\n",
    "best_xgb = xgb.XGBClassifier(learning_rate= 0.1, max_depth= 3, subsample= 0.7)\n",
    "best_xgb.fit(X_train,y_train)\n",
    "print(f'The Accuracy on tuned XGBoost model is {best_xgb.score(X_test,y_test)}')"
   ]
  },
  {
   "cell_type": "markdown",
   "id": "f5e9adde-edfc-4f8f-a6cc-53aa0d03a050",
   "metadata": {},
   "source": [
    "6. **Neural Networks**: In the era of generative AI, which is powered by neural networks, lets see how neural nets perform compared to other ML classification models. Implement a neural network to predict the class (you can use keras, tensorflow or pytorch). Play with changing the number of layers and nodes per layers to see if you can increase the classification accuracy. (20)"
   ]
  },
  {
   "cell_type": "markdown",
   "id": "e3dcf95a-0ab9-405c-a76a-354cf43b2fac",
   "metadata": {},
   "source": [
    "6.1 Implement a neural network to predict the class (you can use keras, tensorflow or pytorch)"
   ]
  },
  {
   "cell_type": "code",
   "execution_count": 26,
   "id": "f8bf918a-acd4-47f1-ab93-25801b99b9e1",
   "metadata": {
    "tags": []
   },
   "outputs": [
    {
     "data": {
      "text/plain": [
       "(271, 8)"
      ]
     },
     "execution_count": 26,
     "metadata": {},
     "output_type": "execute_result"
    }
   ],
   "source": []
  },
  {
   "cell_type": "code",
   "execution_count": 19,
   "id": "a9d7c86b-d1ee-4e6f-9edd-32d4b73545d5",
   "metadata": {
    "tags": []
   },
   "outputs": [],
   "source": [
    "#Importing the libraries\n",
    "import keras\n",
    "from keras.models import Sequential\n",
    "from keras.layers import Dense\n",
    "from keras.wrappers.scikit_learn import KerasRegressor\n",
    "\n",
    "from sklearn.model_selection import cross_val_score\n",
    "from sklearn.model_selection import KFold\n",
    "from sklearn.preprocessing import StandardScaler"
   ]
  },
  {
   "cell_type": "code",
   "execution_count": 77,
   "id": "0fab975c-8f17-424b-ba8f-7af888ea8d1e",
   "metadata": {
    "tags": []
   },
   "outputs": [],
   "source": [
    "Neuralnetwork = pd.DataFrame(columns=['No', 'No of Hidden layers','No of nodes','Loss_train','accuracy_train','Loss_test','accuracy_test','No of epoch'])"
   ]
  },
  {
   "cell_type": "code",
   "execution_count": 78,
   "id": "8df3cd0e-6ff6-47bf-849f-d9af1aeb0929",
   "metadata": {
    "tags": []
   },
   "outputs": [
    {
     "name": "stdout",
     "output_type": "stream",
     "text": [
      "Epoch 1/10\n",
      "9/9 [==============================] - 0s 2ms/step - loss: 1.4664 - accuracy: 0.2620\n",
      "Epoch 2/10\n",
      "9/9 [==============================] - 0s 2ms/step - loss: 1.4433 - accuracy: 0.2583\n",
      "Epoch 3/10\n",
      "9/9 [==============================] - 0s 2ms/step - loss: 1.4217 - accuracy: 0.2731\n",
      "Epoch 4/10\n",
      "9/9 [==============================] - 0s 2ms/step - loss: 1.4014 - accuracy: 0.2768\n",
      "Epoch 5/10\n",
      "9/9 [==============================] - 0s 2ms/step - loss: 1.3805 - accuracy: 0.2878\n",
      "Epoch 6/10\n",
      "9/9 [==============================] - 0s 2ms/step - loss: 1.3613 - accuracy: 0.2952\n",
      "Epoch 7/10\n",
      "9/9 [==============================] - 0s 2ms/step - loss: 1.3437 - accuracy: 0.2989\n",
      "Epoch 8/10\n",
      "9/9 [==============================] - 0s 2ms/step - loss: 1.3256 - accuracy: 0.3173\n",
      "Epoch 9/10\n",
      "9/9 [==============================] - 0s 2ms/step - loss: 1.3078 - accuracy: 0.3247\n",
      "Epoch 10/10\n",
      "9/9 [==============================] - 0s 2ms/step - loss: 1.2920 - accuracy: 0.3210\n"
     ]
    },
    {
     "data": {
      "text/plain": [
       "<keras.callbacks.History at 0x7f91c4e06530>"
      ]
     },
     "execution_count": 78,
     "metadata": {},
     "output_type": "execute_result"
    }
   ],
   "source": [
    "# Model with no hidden only input and output layer\n",
    "model = keras.Sequential([\n",
    "    keras.layers.Dense(3, input_shape=(8,), activation='sigmoid')\n",
    "])\n",
    "\n",
    "model.compile(optimizer='adam',\n",
    "              loss='sparse_categorical_crossentropy',\n",
    "              metrics=['accuracy'])\n",
    "\n",
    "model.fit(X_train_scaled, y_train, epochs=10)"
   ]
  },
  {
   "cell_type": "code",
   "execution_count": 79,
   "id": "175b5f93-a939-4042-9973-37cc88da15cf",
   "metadata": {
    "tags": []
   },
   "outputs": [
    {
     "name": "stdout",
     "output_type": "stream",
     "text": [
      "3/3 [==============================] - 0s 3ms/step - loss: 1.2451 - accuracy: 0.4559\n",
      "9/9 [==============================] - 0s 2ms/step - loss: 1.2822 - accuracy: 0.3247\n"
     ]
    }
   ],
   "source": [
    "test= model.evaluate(X_test_scaled,y_test)\n",
    "train = model.evaluate(X_train_scaled,y_train)"
   ]
  },
  {
   "cell_type": "code",
   "execution_count": 80,
   "id": "daf4ea8f-9b45-4edb-a9b5-af1bacd3e3b1",
   "metadata": {
    "tags": []
   },
   "outputs": [],
   "source": [
    "Neuralnetwork.loc[0] = [1, 0,3,train[0],train[1],test[0],test[1],10]\n"
   ]
  },
  {
   "cell_type": "code",
   "execution_count": 81,
   "id": "d58eda5c-d665-47a3-a2af-fed718933de2",
   "metadata": {
    "tags": []
   },
   "outputs": [
    {
     "name": "stdout",
     "output_type": "stream",
     "text": [
      "Epoch 1/10\n",
      "9/9 [==============================] - 0s 2ms/step - loss: 1.1289 - accuracy: 0.3875\n",
      "Epoch 2/10\n",
      "9/9 [==============================] - 0s 2ms/step - loss: 1.1096 - accuracy: 0.3911\n",
      "Epoch 3/10\n",
      "9/9 [==============================] - 0s 2ms/step - loss: 1.0931 - accuracy: 0.4170\n",
      "Epoch 4/10\n",
      "9/9 [==============================] - 0s 2ms/step - loss: 1.0779 - accuracy: 0.4317\n",
      "Epoch 5/10\n",
      "9/9 [==============================] - 0s 2ms/step - loss: 1.0644 - accuracy: 0.4391\n",
      "Epoch 6/10\n",
      "9/9 [==============================] - 0s 2ms/step - loss: 1.0515 - accuracy: 0.4428\n",
      "Epoch 7/10\n",
      "9/9 [==============================] - 0s 2ms/step - loss: 1.0399 - accuracy: 0.4613\n",
      "Epoch 8/10\n",
      "9/9 [==============================] - 0s 2ms/step - loss: 1.0282 - accuracy: 0.4723\n",
      "Epoch 9/10\n",
      "9/9 [==============================] - 0s 2ms/step - loss: 1.0175 - accuracy: 0.4908\n",
      "Epoch 10/10\n",
      "9/9 [==============================] - 0s 2ms/step - loss: 1.0080 - accuracy: 0.5092\n"
     ]
    },
    {
     "data": {
      "text/plain": [
       "<keras.callbacks.History at 0x7f91c4d44880>"
      ]
     },
     "execution_count": 81,
     "metadata": {},
     "output_type": "execute_result"
    }
   ],
   "source": [
    "# Model with 1 hidden only input and output layer and 10 nodes\n",
    "\n",
    "hidden1model = keras.Sequential([\n",
    "    \n",
    "    keras.layers.Dense(10, input_shape=(8,), activation='relu'),\n",
    "    keras.layers.Dense(3, activation='sigmoid')\n",
    "])\n",
    "\n",
    "hidden1model.compile(optimizer='adam',\n",
    "              loss='sparse_categorical_crossentropy',\n",
    "              metrics=['accuracy'])\n",
    "\n",
    "hidden1model.fit(X_train_scaled, y_train, epochs=10)"
   ]
  },
  {
   "cell_type": "code",
   "execution_count": 82,
   "id": "41b08a8a-dffa-4b4d-980c-85c73af33f29",
   "metadata": {
    "tags": []
   },
   "outputs": [
    {
     "name": "stdout",
     "output_type": "stream",
     "text": [
      "3/3 [==============================] - 0s 4ms/step - loss: 1.0106 - accuracy: 0.5000\n",
      "9/9 [==============================] - 0s 2ms/step - loss: 1.0021 - accuracy: 0.5166\n"
     ]
    }
   ],
   "source": [
    "test=hidden1model.evaluate(X_test_scaled,y_test)\n",
    "train = hidden1model.evaluate(X_train_scaled,y_train)"
   ]
  },
  {
   "cell_type": "code",
   "execution_count": 83,
   "id": "a5112830-da25-4eeb-ac1d-5aff8700d900",
   "metadata": {
    "tags": []
   },
   "outputs": [
    {
     "data": {
      "text/html": [
       "<div>\n",
       "<style scoped>\n",
       "    .dataframe tbody tr th:only-of-type {\n",
       "        vertical-align: middle;\n",
       "    }\n",
       "\n",
       "    .dataframe tbody tr th {\n",
       "        vertical-align: top;\n",
       "    }\n",
       "\n",
       "    .dataframe thead th {\n",
       "        text-align: right;\n",
       "    }\n",
       "</style>\n",
       "<table border=\"1\" class=\"dataframe\">\n",
       "  <thead>\n",
       "    <tr style=\"text-align: right;\">\n",
       "      <th></th>\n",
       "      <th>No</th>\n",
       "      <th>No of Hidden layers</th>\n",
       "      <th>No of nodes</th>\n",
       "      <th>Loss_train</th>\n",
       "      <th>accuracy_train</th>\n",
       "      <th>Loss_test</th>\n",
       "      <th>accuracy_test</th>\n",
       "      <th>No of epoch</th>\n",
       "    </tr>\n",
       "  </thead>\n",
       "  <tbody>\n",
       "    <tr>\n",
       "      <th>0</th>\n",
       "      <td>1.0</td>\n",
       "      <td>0.0</td>\n",
       "      <td>3.0</td>\n",
       "      <td>1.282247</td>\n",
       "      <td>0.324723</td>\n",
       "      <td>1.245124</td>\n",
       "      <td>0.455882</td>\n",
       "      <td>10.0</td>\n",
       "    </tr>\n",
       "    <tr>\n",
       "      <th>1</th>\n",
       "      <td>2.0</td>\n",
       "      <td>1.0</td>\n",
       "      <td>10.0</td>\n",
       "      <td>1.002126</td>\n",
       "      <td>0.516605</td>\n",
       "      <td>1.010585</td>\n",
       "      <td>0.500000</td>\n",
       "      <td>10.0</td>\n",
       "    </tr>\n",
       "  </tbody>\n",
       "</table>\n",
       "</div>"
      ],
      "text/plain": [
       "    No  No of Hidden layers  No of nodes  Loss_train  accuracy_train   \n",
       "0  1.0                  0.0          3.0    1.282247        0.324723  \\\n",
       "1  2.0                  1.0         10.0    1.002126        0.516605   \n",
       "\n",
       "   Loss_test  accuracy_test  No of epoch  \n",
       "0   1.245124       0.455882         10.0  \n",
       "1   1.010585       0.500000         10.0  "
      ]
     },
     "execution_count": 83,
     "metadata": {},
     "output_type": "execute_result"
    }
   ],
   "source": [
    "#Adding to Data Frame\n",
    "Neuralnetwork.loc[1] = [2, 1,10,train[0],train[1],test[0],test[1],10]\n",
    "Neuralnetwork.head()"
   ]
  },
  {
   "cell_type": "code",
   "execution_count": 84,
   "id": "e272eaf1-afa1-4dfd-8a7a-4c3b34d86541",
   "metadata": {
    "tags": []
   },
   "outputs": [
    {
     "name": "stdout",
     "output_type": "stream",
     "text": [
      "Epoch 1/10\n",
      "9/9 [==============================] - 1s 2ms/step - loss: 1.2066 - accuracy: 0.2325\n",
      "Epoch 2/10\n",
      "9/9 [==============================] - 0s 2ms/step - loss: 1.1227 - accuracy: 0.3321\n",
      "Epoch 3/10\n",
      "9/9 [==============================] - 0s 2ms/step - loss: 1.0680 - accuracy: 0.4428\n",
      "Epoch 4/10\n",
      "9/9 [==============================] - 0s 2ms/step - loss: 1.0223 - accuracy: 0.5018\n",
      "Epoch 5/10\n",
      "9/9 [==============================] - 0s 2ms/step - loss: 0.9904 - accuracy: 0.5572\n",
      "Epoch 6/10\n",
      "9/9 [==============================] - 0s 2ms/step - loss: 0.9627 - accuracy: 0.5314\n",
      "Epoch 7/10\n",
      "9/9 [==============================] - 0s 2ms/step - loss: 0.9396 - accuracy: 0.5314\n",
      "Epoch 8/10\n",
      "9/9 [==============================] - 0s 2ms/step - loss: 0.9208 - accuracy: 0.5387\n",
      "Epoch 9/10\n",
      "9/9 [==============================] - 0s 2ms/step - loss: 0.9055 - accuracy: 0.5498\n",
      "Epoch 10/10\n",
      "9/9 [==============================] - 0s 2ms/step - loss: 0.8910 - accuracy: 0.5572\n"
     ]
    },
    {
     "data": {
      "text/plain": [
       "<keras.callbacks.History at 0x7f91c4c84a90>"
      ]
     },
     "execution_count": 84,
     "metadata": {},
     "output_type": "execute_result"
    }
   ],
   "source": [
    "# Model with 1 hidden only input and output layer and 100 nodes\n",
    "\n",
    "hidden1model100 = keras.Sequential([\n",
    "    keras.layers.Dense(100, input_shape=(8,), activation='relu'),\n",
    "    keras.layers.Dense(3, activation='sigmoid')\n",
    "])\n",
    "\n",
    "hidden1model100.compile(optimizer='adam',\n",
    "              loss='sparse_categorical_crossentropy',\n",
    "              metrics=['accuracy'])\n",
    "\n",
    "hidden1model100.fit(X_train_scaled, y_train, epochs=10)"
   ]
  },
  {
   "cell_type": "code",
   "execution_count": 85,
   "id": "f04c9ff4-cbb7-4b4f-b183-0837bcbb47fd",
   "metadata": {
    "tags": []
   },
   "outputs": [
    {
     "name": "stdout",
     "output_type": "stream",
     "text": [
      "3/3 [==============================] - 0s 4ms/step - loss: 0.8552 - accuracy: 0.6176\n",
      "9/9 [==============================] - 0s 2ms/step - loss: 0.8820 - accuracy: 0.5609\n"
     ]
    }
   ],
   "source": [
    "test =hidden1model100.evaluate(X_test_scaled,y_test)\n",
    "train =hidden1model100.evaluate(X_train_scaled,y_train)"
   ]
  },
  {
   "cell_type": "code",
   "execution_count": 86,
   "id": "b25a2108-a4cb-4dc1-bcb2-576bd6b87ec1",
   "metadata": {
    "tags": []
   },
   "outputs": [
    {
     "data": {
      "text/html": [
       "<div>\n",
       "<style scoped>\n",
       "    .dataframe tbody tr th:only-of-type {\n",
       "        vertical-align: middle;\n",
       "    }\n",
       "\n",
       "    .dataframe tbody tr th {\n",
       "        vertical-align: top;\n",
       "    }\n",
       "\n",
       "    .dataframe thead th {\n",
       "        text-align: right;\n",
       "    }\n",
       "</style>\n",
       "<table border=\"1\" class=\"dataframe\">\n",
       "  <thead>\n",
       "    <tr style=\"text-align: right;\">\n",
       "      <th></th>\n",
       "      <th>No</th>\n",
       "      <th>No of Hidden layers</th>\n",
       "      <th>No of nodes</th>\n",
       "      <th>Loss_train</th>\n",
       "      <th>accuracy_train</th>\n",
       "      <th>Loss_test</th>\n",
       "      <th>accuracy_test</th>\n",
       "      <th>No of epoch</th>\n",
       "    </tr>\n",
       "  </thead>\n",
       "  <tbody>\n",
       "    <tr>\n",
       "      <th>0</th>\n",
       "      <td>1.0</td>\n",
       "      <td>0.0</td>\n",
       "      <td>3.0</td>\n",
       "      <td>1.282247</td>\n",
       "      <td>0.324723</td>\n",
       "      <td>1.245124</td>\n",
       "      <td>0.455882</td>\n",
       "      <td>10.0</td>\n",
       "    </tr>\n",
       "    <tr>\n",
       "      <th>1</th>\n",
       "      <td>2.0</td>\n",
       "      <td>1.0</td>\n",
       "      <td>10.0</td>\n",
       "      <td>1.002126</td>\n",
       "      <td>0.516605</td>\n",
       "      <td>1.010585</td>\n",
       "      <td>0.500000</td>\n",
       "      <td>10.0</td>\n",
       "    </tr>\n",
       "    <tr>\n",
       "      <th>2</th>\n",
       "      <td>3.0</td>\n",
       "      <td>1.0</td>\n",
       "      <td>100.0</td>\n",
       "      <td>0.882009</td>\n",
       "      <td>0.560886</td>\n",
       "      <td>0.855192</td>\n",
       "      <td>0.617647</td>\n",
       "      <td>10.0</td>\n",
       "    </tr>\n",
       "  </tbody>\n",
       "</table>\n",
       "</div>"
      ],
      "text/plain": [
       "    No  No of Hidden layers  No of nodes  Loss_train  accuracy_train   \n",
       "0  1.0                  0.0          3.0    1.282247        0.324723  \\\n",
       "1  2.0                  1.0         10.0    1.002126        0.516605   \n",
       "2  3.0                  1.0        100.0    0.882009        0.560886   \n",
       "\n",
       "   Loss_test  accuracy_test  No of epoch  \n",
       "0   1.245124       0.455882         10.0  \n",
       "1   1.010585       0.500000         10.0  \n",
       "2   0.855192       0.617647         10.0  "
      ]
     },
     "execution_count": 86,
     "metadata": {},
     "output_type": "execute_result"
    }
   ],
   "source": [
    "#Adding to Data Frame\n",
    "Neuralnetwork.loc[2] = [3, 1,100,train[0],train[1],test[0],test[1],10]\n",
    "Neuralnetwork.head()"
   ]
  },
  {
   "cell_type": "code",
   "execution_count": 87,
   "id": "c19bdd32-0dec-4373-9359-6ba07739dc72",
   "metadata": {
    "tags": []
   },
   "outputs": [
    {
     "name": "stdout",
     "output_type": "stream",
     "text": [
      "Epoch 1/10\n",
      "9/9 [==============================] - 1s 2ms/step - loss: 1.1056 - accuracy: 0.4317\n",
      "Epoch 2/10\n",
      "9/9 [==============================] - 0s 2ms/step - loss: 1.0926 - accuracy: 0.4576\n",
      "Epoch 3/10\n",
      "9/9 [==============================] - 0s 2ms/step - loss: 1.0816 - accuracy: 0.4723\n",
      "Epoch 4/10\n",
      "9/9 [==============================] - 0s 2ms/step - loss: 1.0720 - accuracy: 0.4834\n",
      "Epoch 5/10\n",
      "9/9 [==============================] - 0s 2ms/step - loss: 1.0629 - accuracy: 0.4945\n",
      "Epoch 6/10\n",
      "9/9 [==============================] - 0s 3ms/step - loss: 1.0537 - accuracy: 0.5277\n",
      "Epoch 7/10\n",
      "9/9 [==============================] - 0s 2ms/step - loss: 1.0452 - accuracy: 0.5314\n",
      "Epoch 8/10\n",
      "9/9 [==============================] - 0s 2ms/step - loss: 1.0374 - accuracy: 0.5240\n",
      "Epoch 9/10\n",
      "9/9 [==============================] - 0s 2ms/step - loss: 1.0296 - accuracy: 0.5277\n",
      "Epoch 10/10\n",
      "9/9 [==============================] - 0s 2ms/step - loss: 1.0228 - accuracy: 0.5240\n"
     ]
    },
    {
     "data": {
      "text/plain": [
       "<keras.callbacks.History at 0x7f91c4bd91e0>"
      ]
     },
     "execution_count": 87,
     "metadata": {},
     "output_type": "execute_result"
    }
   ],
   "source": [
    "# Model with 2hidden, input and output layer and 10 nodes\n",
    "hidden2model = keras.Sequential([\n",
    "    keras.layers.Dense(10, input_shape=(8,), activation='relu'),\n",
    "    keras.layers.Dense(10, activation='relu'),\n",
    "    keras.layers.Dense(3, activation='sigmoid')\n",
    "])\n",
    "\n",
    "hidden2model.compile(optimizer='adam',\n",
    "              loss='sparse_categorical_crossentropy',\n",
    "              metrics=['accuracy'])\n",
    "\n",
    "hidden2model.fit(X_train_scaled, y_train, epochs=10)"
   ]
  },
  {
   "cell_type": "code",
   "execution_count": 88,
   "id": "a67d706b-76a9-4583-ad0d-170c283668db",
   "metadata": {
    "tags": []
   },
   "outputs": [
    {
     "name": "stdout",
     "output_type": "stream",
     "text": [
      "3/3 [==============================] - 0s 3ms/step - loss: 1.0033 - accuracy: 0.4853\n",
      "9/9 [==============================] - 0s 2ms/step - loss: 1.0175 - accuracy: 0.5240\n"
     ]
    }
   ],
   "source": [
    "test = hidden2model.evaluate(X_test_scaled,y_test)\n",
    "train = hidden2model.evaluate(X_train_scaled,y_train)"
   ]
  },
  {
   "cell_type": "code",
   "execution_count": 89,
   "id": "67a0a808-3cf4-401b-bc80-a74bf73a1996",
   "metadata": {
    "tags": []
   },
   "outputs": [
    {
     "data": {
      "text/html": [
       "<div>\n",
       "<style scoped>\n",
       "    .dataframe tbody tr th:only-of-type {\n",
       "        vertical-align: middle;\n",
       "    }\n",
       "\n",
       "    .dataframe tbody tr th {\n",
       "        vertical-align: top;\n",
       "    }\n",
       "\n",
       "    .dataframe thead th {\n",
       "        text-align: right;\n",
       "    }\n",
       "</style>\n",
       "<table border=\"1\" class=\"dataframe\">\n",
       "  <thead>\n",
       "    <tr style=\"text-align: right;\">\n",
       "      <th></th>\n",
       "      <th>No</th>\n",
       "      <th>No of Hidden layers</th>\n",
       "      <th>No of nodes</th>\n",
       "      <th>Loss_train</th>\n",
       "      <th>accuracy_train</th>\n",
       "      <th>Loss_test</th>\n",
       "      <th>accuracy_test</th>\n",
       "      <th>No of epoch</th>\n",
       "    </tr>\n",
       "  </thead>\n",
       "  <tbody>\n",
       "    <tr>\n",
       "      <th>0</th>\n",
       "      <td>1.0</td>\n",
       "      <td>0.0</td>\n",
       "      <td>3.0</td>\n",
       "      <td>1.282247</td>\n",
       "      <td>0.324723</td>\n",
       "      <td>1.245124</td>\n",
       "      <td>0.455882</td>\n",
       "      <td>10.0</td>\n",
       "    </tr>\n",
       "    <tr>\n",
       "      <th>1</th>\n",
       "      <td>2.0</td>\n",
       "      <td>1.0</td>\n",
       "      <td>10.0</td>\n",
       "      <td>1.002126</td>\n",
       "      <td>0.516605</td>\n",
       "      <td>1.010585</td>\n",
       "      <td>0.500000</td>\n",
       "      <td>10.0</td>\n",
       "    </tr>\n",
       "    <tr>\n",
       "      <th>2</th>\n",
       "      <td>3.0</td>\n",
       "      <td>1.0</td>\n",
       "      <td>100.0</td>\n",
       "      <td>0.882009</td>\n",
       "      <td>0.560886</td>\n",
       "      <td>0.855192</td>\n",
       "      <td>0.617647</td>\n",
       "      <td>10.0</td>\n",
       "    </tr>\n",
       "    <tr>\n",
       "      <th>3</th>\n",
       "      <td>4.0</td>\n",
       "      <td>2.0</td>\n",
       "      <td>10.0</td>\n",
       "      <td>1.017454</td>\n",
       "      <td>0.523985</td>\n",
       "      <td>1.003256</td>\n",
       "      <td>0.485294</td>\n",
       "      <td>10.0</td>\n",
       "    </tr>\n",
       "  </tbody>\n",
       "</table>\n",
       "</div>"
      ],
      "text/plain": [
       "    No  No of Hidden layers  No of nodes  Loss_train  accuracy_train   \n",
       "0  1.0                  0.0          3.0    1.282247        0.324723  \\\n",
       "1  2.0                  1.0         10.0    1.002126        0.516605   \n",
       "2  3.0                  1.0        100.0    0.882009        0.560886   \n",
       "3  4.0                  2.0         10.0    1.017454        0.523985   \n",
       "\n",
       "   Loss_test  accuracy_test  No of epoch  \n",
       "0   1.245124       0.455882         10.0  \n",
       "1   1.010585       0.500000         10.0  \n",
       "2   0.855192       0.617647         10.0  \n",
       "3   1.003256       0.485294         10.0  "
      ]
     },
     "execution_count": 89,
     "metadata": {},
     "output_type": "execute_result"
    }
   ],
   "source": [
    "#Adding to Data Frame\n",
    "Neuralnetwork.loc[3] = [4, 2,10,train[0],train[1],test[0],test[1],10]\n",
    "Neuralnetwork.head()"
   ]
  },
  {
   "cell_type": "code",
   "execution_count": 90,
   "id": "bf21292b-10e1-4d05-9315-0ffcad125105",
   "metadata": {
    "tags": []
   },
   "outputs": [
    {
     "name": "stdout",
     "output_type": "stream",
     "text": [
      "Epoch 1/10\n",
      "9/9 [==============================] - 1s 3ms/step - loss: 1.1005 - accuracy: 0.3247\n",
      "Epoch 2/10\n",
      "9/9 [==============================] - 0s 3ms/step - loss: 0.9973 - accuracy: 0.5129\n",
      "Epoch 3/10\n",
      "9/9 [==============================] - 0s 3ms/step - loss: 0.9392 - accuracy: 0.5572\n",
      "Epoch 4/10\n",
      "9/9 [==============================] - 0s 3ms/step - loss: 0.8954 - accuracy: 0.5830\n",
      "Epoch 5/10\n",
      "9/9 [==============================] - 0s 3ms/step - loss: 0.8534 - accuracy: 0.6089\n",
      "Epoch 6/10\n",
      "9/9 [==============================] - 0s 3ms/step - loss: 0.8202 - accuracy: 0.6236\n",
      "Epoch 7/10\n",
      "9/9 [==============================] - 0s 2ms/step - loss: 0.7952 - accuracy: 0.6421\n",
      "Epoch 8/10\n",
      "9/9 [==============================] - 0s 2ms/step - loss: 0.7675 - accuracy: 0.6531\n",
      "Epoch 9/10\n",
      "9/9 [==============================] - 0s 3ms/step - loss: 0.7445 - accuracy: 0.6716\n",
      "Epoch 10/10\n",
      "9/9 [==============================] - 0s 3ms/step - loss: 0.7206 - accuracy: 0.6716\n"
     ]
    },
    {
     "data": {
      "text/plain": [
       "<keras.callbacks.History at 0x7f91c494b7c0>"
      ]
     },
     "execution_count": 90,
     "metadata": {},
     "output_type": "execute_result"
    }
   ],
   "source": [
    "# Model with 2hidden, input and output layer and 100 nodes\n",
    "hidden2model100 = keras.Sequential([\n",
    "    keras.layers.Dense(100, input_shape=(8,), activation='relu'),\n",
    "    keras.layers.Dense(100, activation='relu'),\n",
    "    keras.layers.Dense(3, activation='sigmoid')\n",
    "])\n",
    "\n",
    "hidden2model100.compile(optimizer='adam',\n",
    "              loss='sparse_categorical_crossentropy',\n",
    "              metrics=['accuracy'])\n",
    "\n",
    "hidden2model100.fit(X_train_scaled, y_train, epochs=10)"
   ]
  },
  {
   "cell_type": "code",
   "execution_count": 91,
   "id": "792697f5-8cc8-414a-a468-2934ab9cd4d9",
   "metadata": {
    "tags": []
   },
   "outputs": [
    {
     "name": "stdout",
     "output_type": "stream",
     "text": [
      "3/3 [==============================] - 0s 3ms/step - loss: 0.7261 - accuracy: 0.6471\n",
      "9/9 [==============================] - 0s 2ms/step - loss: 0.7041 - accuracy: 0.6937\n"
     ]
    }
   ],
   "source": [
    "test = hidden2model100.evaluate(X_test_scaled,y_test)\n",
    "train = hidden2model100.evaluate(X_train_scaled,y_train)"
   ]
  },
  {
   "cell_type": "code",
   "execution_count": 92,
   "id": "c00cdc12-e559-4a9d-9c2b-653e7fa7bec2",
   "metadata": {
    "tags": []
   },
   "outputs": [
    {
     "data": {
      "text/html": [
       "<div>\n",
       "<style scoped>\n",
       "    .dataframe tbody tr th:only-of-type {\n",
       "        vertical-align: middle;\n",
       "    }\n",
       "\n",
       "    .dataframe tbody tr th {\n",
       "        vertical-align: top;\n",
       "    }\n",
       "\n",
       "    .dataframe thead th {\n",
       "        text-align: right;\n",
       "    }\n",
       "</style>\n",
       "<table border=\"1\" class=\"dataframe\">\n",
       "  <thead>\n",
       "    <tr style=\"text-align: right;\">\n",
       "      <th></th>\n",
       "      <th>No</th>\n",
       "      <th>No of Hidden layers</th>\n",
       "      <th>No of nodes</th>\n",
       "      <th>Loss_train</th>\n",
       "      <th>accuracy_train</th>\n",
       "      <th>Loss_test</th>\n",
       "      <th>accuracy_test</th>\n",
       "      <th>No of epoch</th>\n",
       "    </tr>\n",
       "  </thead>\n",
       "  <tbody>\n",
       "    <tr>\n",
       "      <th>0</th>\n",
       "      <td>1.0</td>\n",
       "      <td>0.0</td>\n",
       "      <td>3.0</td>\n",
       "      <td>1.282247</td>\n",
       "      <td>0.324723</td>\n",
       "      <td>1.245124</td>\n",
       "      <td>0.455882</td>\n",
       "      <td>10.0</td>\n",
       "    </tr>\n",
       "    <tr>\n",
       "      <th>1</th>\n",
       "      <td>2.0</td>\n",
       "      <td>1.0</td>\n",
       "      <td>10.0</td>\n",
       "      <td>1.002126</td>\n",
       "      <td>0.516605</td>\n",
       "      <td>1.010585</td>\n",
       "      <td>0.500000</td>\n",
       "      <td>10.0</td>\n",
       "    </tr>\n",
       "    <tr>\n",
       "      <th>2</th>\n",
       "      <td>3.0</td>\n",
       "      <td>1.0</td>\n",
       "      <td>100.0</td>\n",
       "      <td>0.882009</td>\n",
       "      <td>0.560886</td>\n",
       "      <td>0.855192</td>\n",
       "      <td>0.617647</td>\n",
       "      <td>10.0</td>\n",
       "    </tr>\n",
       "    <tr>\n",
       "      <th>3</th>\n",
       "      <td>4.0</td>\n",
       "      <td>2.0</td>\n",
       "      <td>10.0</td>\n",
       "      <td>1.017454</td>\n",
       "      <td>0.523985</td>\n",
       "      <td>1.003256</td>\n",
       "      <td>0.485294</td>\n",
       "      <td>10.0</td>\n",
       "    </tr>\n",
       "    <tr>\n",
       "      <th>4</th>\n",
       "      <td>5.0</td>\n",
       "      <td>2.0</td>\n",
       "      <td>100.0</td>\n",
       "      <td>0.704108</td>\n",
       "      <td>0.693727</td>\n",
       "      <td>0.726108</td>\n",
       "      <td>0.647059</td>\n",
       "      <td>10.0</td>\n",
       "    </tr>\n",
       "  </tbody>\n",
       "</table>\n",
       "</div>"
      ],
      "text/plain": [
       "    No  No of Hidden layers  No of nodes  Loss_train  accuracy_train   \n",
       "0  1.0                  0.0          3.0    1.282247        0.324723  \\\n",
       "1  2.0                  1.0         10.0    1.002126        0.516605   \n",
       "2  3.0                  1.0        100.0    0.882009        0.560886   \n",
       "3  4.0                  2.0         10.0    1.017454        0.523985   \n",
       "4  5.0                  2.0        100.0    0.704108        0.693727   \n",
       "\n",
       "   Loss_test  accuracy_test  No of epoch  \n",
       "0   1.245124       0.455882         10.0  \n",
       "1   1.010585       0.500000         10.0  \n",
       "2   0.855192       0.617647         10.0  \n",
       "3   1.003256       0.485294         10.0  \n",
       "4   0.726108       0.647059         10.0  "
      ]
     },
     "execution_count": 92,
     "metadata": {},
     "output_type": "execute_result"
    }
   ],
   "source": [
    "#Adding to Data Frame\n",
    "Neuralnetwork.loc[4] = [5, 2,100,train[0],train[1],test[0],test[1],10]\n",
    "Neuralnetwork.head()"
   ]
  },
  {
   "cell_type": "code",
   "execution_count": 93,
   "id": "c59109a0-8591-4f13-81a1-258f3b380d3f",
   "metadata": {
    "tags": []
   },
   "outputs": [
    {
     "name": "stdout",
     "output_type": "stream",
     "text": [
      "Epoch 1/10\n",
      "9/9 [==============================] - 1s 2ms/step - loss: 1.0995 - accuracy: 0.3137\n",
      "Epoch 2/10\n",
      "9/9 [==============================] - 0s 2ms/step - loss: 1.0926 - accuracy: 0.3690\n",
      "Epoch 3/10\n",
      "9/9 [==============================] - 0s 2ms/step - loss: 1.0860 - accuracy: 0.4096\n",
      "Epoch 4/10\n",
      "9/9 [==============================] - 0s 3ms/step - loss: 1.0790 - accuracy: 0.4576\n",
      "Epoch 5/10\n",
      "9/9 [==============================] - 0s 2ms/step - loss: 1.0720 - accuracy: 0.5018\n",
      "Epoch 6/10\n",
      "9/9 [==============================] - 0s 2ms/step - loss: 1.0638 - accuracy: 0.4871\n",
      "Epoch 7/10\n",
      "9/9 [==============================] - 0s 2ms/step - loss: 1.0552 - accuracy: 0.5055\n",
      "Epoch 8/10\n",
      "9/9 [==============================] - 0s 3ms/step - loss: 1.0450 - accuracy: 0.5129\n",
      "Epoch 9/10\n",
      "9/9 [==============================] - 0s 2ms/step - loss: 1.0351 - accuracy: 0.5277\n",
      "Epoch 10/10\n",
      "9/9 [==============================] - 0s 2ms/step - loss: 1.0228 - accuracy: 0.5461\n"
     ]
    },
    {
     "data": {
      "text/plain": [
       "<keras.callbacks.History at 0x7f91c4e6e3b0>"
      ]
     },
     "execution_count": 93,
     "metadata": {},
     "output_type": "execute_result"
    }
   ],
   "source": [
    "# Model with 5 hidden, input and output layer and 10 nodes\n",
    "hidden5model = keras.Sequential([\n",
    "    #Input Layer\n",
    "    keras.layers.Dense(10, input_shape=(8,), activation='relu'),\n",
    "    #Hidden Layer\n",
    "    keras.layers.Dense(10, activation='relu'),\n",
    "    keras.layers.Dense(10, activation='relu'),\n",
    "    keras.layers.Dense(10, activation='relu'),\n",
    "    keras.layers.Dense(10, activation='relu'),\n",
    "    #Output layer\n",
    "    keras.layers.Dense(3, activation='sigmoid')\n",
    "])\n",
    "\n",
    "hidden5model.compile(optimizer='adam',\n",
    "              loss='sparse_categorical_crossentropy',\n",
    "              metrics=['accuracy'])\n",
    "\n",
    "hidden5model.fit(X_train_scaled, y_train, epochs=10)"
   ]
  },
  {
   "cell_type": "code",
   "execution_count": 102,
   "id": "158e36d6-5e0c-4c9f-94a4-ca1346a27ecf",
   "metadata": {
    "tags": []
   },
   "outputs": [
    {
     "name": "stdout",
     "output_type": "stream",
     "text": [
      "3/3 [==============================] - 0s 3ms/step - loss: 0.9980 - accuracy: 0.4853\n",
      "9/9 [==============================] - 0s 2ms/step - loss: 1.0151 - accuracy: 0.5351\n"
     ]
    }
   ],
   "source": [
    "test = hidden5model.evaluate(X_test_scaled,y_test)\n",
    "train = hidden5model.evaluate(X_train_scaled,y_train)"
   ]
  },
  {
   "cell_type": "code",
   "execution_count": 103,
   "id": "b13154ec-ed3f-454a-8ab6-89576d1ae027",
   "metadata": {
    "tags": []
   },
   "outputs": [
    {
     "data": {
      "text/html": [
       "<div>\n",
       "<style scoped>\n",
       "    .dataframe tbody tr th:only-of-type {\n",
       "        vertical-align: middle;\n",
       "    }\n",
       "\n",
       "    .dataframe tbody tr th {\n",
       "        vertical-align: top;\n",
       "    }\n",
       "\n",
       "    .dataframe thead th {\n",
       "        text-align: right;\n",
       "    }\n",
       "</style>\n",
       "<table border=\"1\" class=\"dataframe\">\n",
       "  <thead>\n",
       "    <tr style=\"text-align: right;\">\n",
       "      <th></th>\n",
       "      <th>No</th>\n",
       "      <th>No of Hidden layers</th>\n",
       "      <th>No of nodes</th>\n",
       "      <th>Loss_train</th>\n",
       "      <th>accuracy_train</th>\n",
       "      <th>Loss_test</th>\n",
       "      <th>accuracy_test</th>\n",
       "      <th>No of epoch</th>\n",
       "    </tr>\n",
       "  </thead>\n",
       "  <tbody>\n",
       "    <tr>\n",
       "      <th>0</th>\n",
       "      <td>1.0</td>\n",
       "      <td>0.0</td>\n",
       "      <td>3.0</td>\n",
       "      <td>1.282247</td>\n",
       "      <td>0.324723</td>\n",
       "      <td>1.245124</td>\n",
       "      <td>0.455882</td>\n",
       "      <td>10.0</td>\n",
       "    </tr>\n",
       "    <tr>\n",
       "      <th>1</th>\n",
       "      <td>2.0</td>\n",
       "      <td>1.0</td>\n",
       "      <td>10.0</td>\n",
       "      <td>1.002126</td>\n",
       "      <td>0.516605</td>\n",
       "      <td>1.010585</td>\n",
       "      <td>0.500000</td>\n",
       "      <td>10.0</td>\n",
       "    </tr>\n",
       "    <tr>\n",
       "      <th>2</th>\n",
       "      <td>3.0</td>\n",
       "      <td>1.0</td>\n",
       "      <td>100.0</td>\n",
       "      <td>0.882009</td>\n",
       "      <td>0.560886</td>\n",
       "      <td>0.855192</td>\n",
       "      <td>0.617647</td>\n",
       "      <td>10.0</td>\n",
       "    </tr>\n",
       "    <tr>\n",
       "      <th>3</th>\n",
       "      <td>4.0</td>\n",
       "      <td>2.0</td>\n",
       "      <td>10.0</td>\n",
       "      <td>1.017454</td>\n",
       "      <td>0.523985</td>\n",
       "      <td>1.003256</td>\n",
       "      <td>0.485294</td>\n",
       "      <td>10.0</td>\n",
       "    </tr>\n",
       "    <tr>\n",
       "      <th>4</th>\n",
       "      <td>5.0</td>\n",
       "      <td>2.0</td>\n",
       "      <td>100.0</td>\n",
       "      <td>0.704108</td>\n",
       "      <td>0.693727</td>\n",
       "      <td>0.726108</td>\n",
       "      <td>0.647059</td>\n",
       "      <td>10.0</td>\n",
       "    </tr>\n",
       "    <tr>\n",
       "      <th>5</th>\n",
       "      <td>6.0</td>\n",
       "      <td>5.0</td>\n",
       "      <td>10.0</td>\n",
       "      <td>1.015062</td>\n",
       "      <td>0.535055</td>\n",
       "      <td>0.998002</td>\n",
       "      <td>0.485294</td>\n",
       "      <td>10.0</td>\n",
       "    </tr>\n",
       "  </tbody>\n",
       "</table>\n",
       "</div>"
      ],
      "text/plain": [
       "    No  No of Hidden layers  No of nodes  Loss_train  accuracy_train   \n",
       "0  1.0                  0.0          3.0    1.282247        0.324723  \\\n",
       "1  2.0                  1.0         10.0    1.002126        0.516605   \n",
       "2  3.0                  1.0        100.0    0.882009        0.560886   \n",
       "3  4.0                  2.0         10.0    1.017454        0.523985   \n",
       "4  5.0                  2.0        100.0    0.704108        0.693727   \n",
       "5  6.0                  5.0         10.0    1.015062        0.535055   \n",
       "\n",
       "   Loss_test  accuracy_test  No of epoch  \n",
       "0   1.245124       0.455882         10.0  \n",
       "1   1.010585       0.500000         10.0  \n",
       "2   0.855192       0.617647         10.0  \n",
       "3   1.003256       0.485294         10.0  \n",
       "4   0.726108       0.647059         10.0  \n",
       "5   0.998002       0.485294         10.0  "
      ]
     },
     "execution_count": 103,
     "metadata": {},
     "output_type": "execute_result"
    }
   ],
   "source": [
    "#Adding to Data Frame\n",
    "Neuralnetwork.loc[5] = [6, 5,10,train[0],train[1],test[0],test[1],10]\n",
    "Neuralnetwork.head(6)"
   ]
  },
  {
   "cell_type": "code",
   "execution_count": 95,
   "id": "312d7253-51b2-460e-8e62-8a7e8ed29084",
   "metadata": {
    "tags": []
   },
   "outputs": [
    {
     "name": "stdout",
     "output_type": "stream",
     "text": [
      "Epoch 1/10\n",
      "9/9 [==============================] - 1s 3ms/step - loss: 1.0510 - accuracy: 0.4945\n",
      "Epoch 2/10\n",
      "9/9 [==============================] - 0s 3ms/step - loss: 0.9474 - accuracy: 0.5609\n",
      "Epoch 3/10\n",
      "9/9 [==============================] - 0s 3ms/step - loss: 0.8487 - accuracy: 0.5572\n",
      "Epoch 4/10\n",
      "9/9 [==============================] - 0s 3ms/step - loss: 0.7706 - accuracy: 0.6310\n",
      "Epoch 5/10\n",
      "9/9 [==============================] - 0s 3ms/step - loss: 0.7081 - accuracy: 0.6753\n",
      "Epoch 6/10\n",
      "9/9 [==============================] - 0s 3ms/step - loss: 0.6531 - accuracy: 0.7306\n",
      "Epoch 7/10\n",
      "9/9 [==============================] - 0s 3ms/step - loss: 0.5929 - accuracy: 0.7749\n",
      "Epoch 8/10\n",
      "9/9 [==============================] - 0s 3ms/step - loss: 0.5309 - accuracy: 0.7970\n",
      "Epoch 9/10\n",
      "9/9 [==============================] - 0s 4ms/step - loss: 0.4528 - accuracy: 0.8044\n",
      "Epoch 10/10\n",
      "9/9 [==============================] - 0s 3ms/step - loss: 0.4106 - accuracy: 0.8376\n"
     ]
    },
    {
     "data": {
      "text/plain": [
       "<keras.callbacks.History at 0x7f9185dac0d0>"
      ]
     },
     "execution_count": 95,
     "metadata": {},
     "output_type": "execute_result"
    }
   ],
   "source": [
    "# Model with 5 hidden, input and output layer and 100 nodes\n",
    "hidden5model100 = keras.Sequential([\n",
    "    #Input Layer\n",
    "    keras.layers.Dense(100, input_shape=(8,), activation='relu'),\n",
    "    #Hidden Layer\n",
    "    keras.layers.Dense(100, activation='relu'),\n",
    "    keras.layers.Dense(100, activation='relu'),\n",
    "    keras.layers.Dense(100, activation='relu'),\n",
    "    keras.layers.Dense(100, activation='relu'),\n",
    "    #Output layer\n",
    "    keras.layers.Dense(3, activation='sigmoid')\n",
    "])\n",
    "\n",
    "hidden5model100.compile(optimizer='adam',\n",
    "              loss='sparse_categorical_crossentropy',\n",
    "              metrics=['accuracy'])\n",
    "\n",
    "hidden5model100.fit(X_train_scaled, y_train, epochs=10)"
   ]
  },
  {
   "cell_type": "code",
   "execution_count": 96,
   "id": "cb84a554-67dd-4a12-9bcc-497494e63904",
   "metadata": {
    "tags": []
   },
   "outputs": [
    {
     "name": "stdout",
     "output_type": "stream",
     "text": [
      "3/3 [==============================] - 0s 3ms/step - loss: 0.5155 - accuracy: 0.7500\n"
     ]
    },
    {
     "data": {
      "text/plain": [
       "[0.5155197381973267, 0.75]"
      ]
     },
     "execution_count": 96,
     "metadata": {},
     "output_type": "execute_result"
    }
   ],
   "source": [
    "hidden5model100.evaluate(X_test_scaled,y_test)"
   ]
  },
  {
   "cell_type": "code",
   "execution_count": 100,
   "id": "9b38d273-091e-42d0-8005-adea811eb312",
   "metadata": {
    "tags": []
   },
   "outputs": [
    {
     "name": "stdout",
     "output_type": "stream",
     "text": [
      "3/3 [==============================] - 0s 3ms/step - loss: 0.5155 - accuracy: 0.7500\n",
      "9/9 [==============================] - 0s 2ms/step - loss: 0.3729 - accuracy: 0.8672\n"
     ]
    }
   ],
   "source": [
    " test = hidden5model100.evaluate(X_test_scaled,y_test)\n",
    "train = hidden5model100.evaluate(X_train_scaled,y_train)"
   ]
  },
  {
   "cell_type": "code",
   "execution_count": 104,
   "id": "7869a7d0-c746-46ab-8b2a-bfce3efee99e",
   "metadata": {
    "tags": []
   },
   "outputs": [
    {
     "data": {
      "text/html": [
       "<div>\n",
       "<style scoped>\n",
       "    .dataframe tbody tr th:only-of-type {\n",
       "        vertical-align: middle;\n",
       "    }\n",
       "\n",
       "    .dataframe tbody tr th {\n",
       "        vertical-align: top;\n",
       "    }\n",
       "\n",
       "    .dataframe thead th {\n",
       "        text-align: right;\n",
       "    }\n",
       "</style>\n",
       "<table border=\"1\" class=\"dataframe\">\n",
       "  <thead>\n",
       "    <tr style=\"text-align: right;\">\n",
       "      <th></th>\n",
       "      <th>No</th>\n",
       "      <th>No of Hidden layers</th>\n",
       "      <th>No of nodes</th>\n",
       "      <th>Loss_train</th>\n",
       "      <th>accuracy_train</th>\n",
       "      <th>Loss_test</th>\n",
       "      <th>accuracy_test</th>\n",
       "      <th>No of epoch</th>\n",
       "    </tr>\n",
       "  </thead>\n",
       "  <tbody>\n",
       "    <tr>\n",
       "      <th>0</th>\n",
       "      <td>1.0</td>\n",
       "      <td>0.0</td>\n",
       "      <td>3.0</td>\n",
       "      <td>1.282247</td>\n",
       "      <td>0.324723</td>\n",
       "      <td>1.245124</td>\n",
       "      <td>0.455882</td>\n",
       "      <td>10.0</td>\n",
       "    </tr>\n",
       "    <tr>\n",
       "      <th>1</th>\n",
       "      <td>2.0</td>\n",
       "      <td>1.0</td>\n",
       "      <td>10.0</td>\n",
       "      <td>1.002126</td>\n",
       "      <td>0.516605</td>\n",
       "      <td>1.010585</td>\n",
       "      <td>0.500000</td>\n",
       "      <td>10.0</td>\n",
       "    </tr>\n",
       "    <tr>\n",
       "      <th>2</th>\n",
       "      <td>3.0</td>\n",
       "      <td>1.0</td>\n",
       "      <td>100.0</td>\n",
       "      <td>0.882009</td>\n",
       "      <td>0.560886</td>\n",
       "      <td>0.855192</td>\n",
       "      <td>0.617647</td>\n",
       "      <td>10.0</td>\n",
       "    </tr>\n",
       "    <tr>\n",
       "      <th>3</th>\n",
       "      <td>4.0</td>\n",
       "      <td>2.0</td>\n",
       "      <td>10.0</td>\n",
       "      <td>1.017454</td>\n",
       "      <td>0.523985</td>\n",
       "      <td>1.003256</td>\n",
       "      <td>0.485294</td>\n",
       "      <td>10.0</td>\n",
       "    </tr>\n",
       "    <tr>\n",
       "      <th>4</th>\n",
       "      <td>5.0</td>\n",
       "      <td>2.0</td>\n",
       "      <td>100.0</td>\n",
       "      <td>0.704108</td>\n",
       "      <td>0.693727</td>\n",
       "      <td>0.726108</td>\n",
       "      <td>0.647059</td>\n",
       "      <td>10.0</td>\n",
       "    </tr>\n",
       "    <tr>\n",
       "      <th>5</th>\n",
       "      <td>6.0</td>\n",
       "      <td>5.0</td>\n",
       "      <td>10.0</td>\n",
       "      <td>1.015062</td>\n",
       "      <td>0.535055</td>\n",
       "      <td>0.998002</td>\n",
       "      <td>0.485294</td>\n",
       "      <td>10.0</td>\n",
       "    </tr>\n",
       "    <tr>\n",
       "      <th>6</th>\n",
       "      <td>7.0</td>\n",
       "      <td>5.0</td>\n",
       "      <td>100.0</td>\n",
       "      <td>1.015062</td>\n",
       "      <td>0.535055</td>\n",
       "      <td>0.998002</td>\n",
       "      <td>0.485294</td>\n",
       "      <td>10.0</td>\n",
       "    </tr>\n",
       "  </tbody>\n",
       "</table>\n",
       "</div>"
      ],
      "text/plain": [
       "    No  No of Hidden layers  No of nodes  Loss_train  accuracy_train   \n",
       "0  1.0                  0.0          3.0    1.282247        0.324723  \\\n",
       "1  2.0                  1.0         10.0    1.002126        0.516605   \n",
       "2  3.0                  1.0        100.0    0.882009        0.560886   \n",
       "3  4.0                  2.0         10.0    1.017454        0.523985   \n",
       "4  5.0                  2.0        100.0    0.704108        0.693727   \n",
       "5  6.0                  5.0         10.0    1.015062        0.535055   \n",
       "6  7.0                  5.0        100.0    1.015062        0.535055   \n",
       "\n",
       "   Loss_test  accuracy_test  No of epoch  \n",
       "0   1.245124       0.455882         10.0  \n",
       "1   1.010585       0.500000         10.0  \n",
       "2   0.855192       0.617647         10.0  \n",
       "3   1.003256       0.485294         10.0  \n",
       "4   0.726108       0.647059         10.0  \n",
       "5   0.998002       0.485294         10.0  \n",
       "6   0.998002       0.485294         10.0  "
      ]
     },
     "execution_count": 104,
     "metadata": {},
     "output_type": "execute_result"
    }
   ],
   "source": [
    "#Adding to Data Frame\n",
    "Neuralnetwork.loc[6] = [7, 5,100,train[0],train[1],test[0],test[1],10]\n",
    "Neuralnetwork.head(7)"
   ]
  },
  {
   "cell_type": "markdown",
   "id": "39bab14b-36e3-4917-a19e-65b021606044",
   "metadata": {},
   "source": [
    "Increasing node increases the accuracy but there is no direct impact of increase in hidden layers to accuracy."
   ]
  },
  {
   "cell_type": "code",
   "execution_count": 117,
   "id": "d1e3df6e-c16e-48dd-8e28-0c40920947f8",
   "metadata": {
    "tags": []
   },
   "outputs": [],
   "source": [
    "#The neural network model\n",
    "def simple_model():\n",
    "    # assemble the structure\n",
    "    model = Sequential()\n",
    "    model.add(Dense(6, input_dim= len(list(features.columns)), kernel_initializer='normal', activation='relu'))\n",
    "    model.add(Dense(1, kernel_initializer='normal'))\n",
    "    # compile the model\n",
    "    model.compile(loss='mean_squared_error', optimizer='adam',metrics=['accuracy'])\n",
    "    return model"
   ]
  },
  {
   "cell_type": "code",
   "execution_count": 122,
   "id": "ee190707-2264-41cd-ab1d-3dc1b872acdb",
   "metadata": {
    "tags": []
   },
   "outputs": [
    {
     "data": {
      "text/plain": [
       "<keras.callbacks.History at 0x7f0a0440df00>"
      ]
     },
     "execution_count": 122,
     "metadata": {},
     "output_type": "execute_result"
    }
   ],
   "source": [
    "# initialize the andom seed as this is used to generate\n",
    "# the starting weights\n",
    "np.random.seed(42)\n",
    "# create the NN framework\n",
    "NNmodel = simple_model()\n",
    "NNmodel.fit(X_train, y_train, validation_split=0.33, epochs=150, \n",
    "        batch_size=50, verbose=0)"
   ]
  },
  {
   "cell_type": "code",
   "execution_count": 121,
   "id": "4e24c182-9ce8-4a94-8076-63c934f17763",
   "metadata": {
    "tags": []
   },
   "outputs": [
    {
     "name": "stdout",
     "output_type": "stream",
     "text": [
      "3/3 [==============================] - 0s 5ms/step - loss: 0.4537 - accuracy: 0.5441\n"
     ]
    },
    {
     "data": {
      "text/plain": [
       "[0.45372721552848816, 0.5441176295280457]"
      ]
     },
     "execution_count": 121,
     "metadata": {},
     "output_type": "execute_result"
    }
   ],
   "source": [
    "NNmodel.evaluate(X_test,y_test)"
   ]
  },
  {
   "cell_type": "code",
   "execution_count": null,
   "id": "05f14b72-ffdf-41c7-ab77-a4d8abb0abfc",
   "metadata": {},
   "outputs": [],
   "source": []
  },
  {
   "cell_type": "markdown",
   "id": "e46ec3f8-8b02-44be-b2a8-6ece6c390ff8",
   "metadata": {},
   "source": [
    "6.2 changing the number of layers and nodes per layers to see if you can increase the classification accuracy"
   ]
  },
  {
   "cell_type": "code",
   "execution_count": 65,
   "id": "23e6bfa0-2677-4e3a-8c24-91955487884b",
   "metadata": {},
   "outputs": [
    {
     "name": "stdout",
     "output_type": "stream",
     "text": [
      "Epoch 1/100\n"
     ]
    },
    {
     "name": "stderr",
     "output_type": "stream",
     "text": [
      "/tmp/ipykernel_69/239625899.py:13: DeprecationWarning: KerasClassifier is deprecated, use Sci-Keras (https://github.com/adriangb/scikeras) instead. See https://www.adriangb.com/scikeras/stable/migration.html for help migrating.\n",
      "  classifier = KerasClassifier(build_fn = build_classifier, epochs = 100)\n",
      "2023-12-06 00:33:31.897147: I tensorflow/core/platform/cpu_feature_guard.cc:193] This TensorFlow binary is optimized with oneAPI Deep Neural Network Library (oneDNN) to use the following CPU instructions in performance-critical operations:  SSE4.1 SSE4.2 AVX AVX2 FMA\n",
      "To enable them in other operations, rebuild TensorFlow with the appropriate compiler flags.\n"
     ]
    },
    {
     "name": "stdout",
     "output_type": "stream",
     "text": [
      "6/6 [==============================] - 1s 3ms/step - loss: 0.6923 - accuracy: 0.3722\n",
      "Epoch 2/100\n",
      "6/6 [==============================] - 0s 3ms/step - loss: 0.6905 - accuracy: 0.3500\n",
      "Epoch 3/100\n",
      "6/6 [==============================] - 0s 2ms/step - loss: 0.6885 - accuracy: 0.3500\n",
      "Epoch 4/100\n",
      "6/6 [==============================] - 0s 3ms/step - loss: 0.6865 - accuracy: 0.3500\n",
      "Epoch 5/100\n",
      "6/6 [==============================] - 0s 3ms/step - loss: 0.6841 - accuracy: 0.3500\n",
      "Epoch 6/100\n",
      "6/6 [==============================] - 0s 3ms/step - loss: 0.6820 - accuracy: 0.3500\n",
      "Epoch 7/100\n",
      "6/6 [==============================] - 0s 3ms/step - loss: 0.6794 - accuracy: 0.3500\n",
      "Epoch 8/100\n",
      "6/6 [==============================] - 0s 3ms/step - loss: 0.6769 - accuracy: 0.3500\n",
      "Epoch 9/100\n",
      "6/6 [==============================] - 0s 2ms/step - loss: 0.6743 - accuracy: 0.3500\n",
      "Epoch 10/100\n",
      "6/6 [==============================] - 0s 3ms/step - loss: 0.6706 - accuracy: 0.3500\n",
      "Epoch 11/100\n",
      "6/6 [==============================] - 0s 4ms/step - loss: 0.6677 - accuracy: 0.3500\n",
      "Epoch 12/100\n",
      "6/6 [==============================] - 0s 2ms/step - loss: 0.6644 - accuracy: 0.3500\n",
      "Epoch 13/100\n",
      "6/6 [==============================] - 0s 2ms/step - loss: 0.6598 - accuracy: 0.3500\n",
      "Epoch 14/100\n",
      "6/6 [==============================] - 0s 2ms/step - loss: 0.6554 - accuracy: 0.3500\n",
      "Epoch 15/100\n",
      "6/6 [==============================] - 0s 2ms/step - loss: 0.6508 - accuracy: 0.3500\n",
      "Epoch 16/100\n",
      "6/6 [==============================] - 0s 4ms/step - loss: 0.6454 - accuracy: 0.3500\n",
      "Epoch 17/100\n",
      "6/6 [==============================] - 0s 2ms/step - loss: 0.6398 - accuracy: 0.3500\n",
      "Epoch 18/100\n",
      "6/6 [==============================] - 0s 2ms/step - loss: 0.6329 - accuracy: 0.3500\n",
      "Epoch 19/100\n",
      "6/6 [==============================] - 0s 2ms/step - loss: 0.6265 - accuracy: 0.3500\n",
      "Epoch 20/100\n",
      "6/6 [==============================] - 0s 2ms/step - loss: 0.6189 - accuracy: 0.3500\n",
      "Epoch 21/100\n",
      "6/6 [==============================] - 0s 3ms/step - loss: 0.6109 - accuracy: 0.3500\n",
      "Epoch 22/100\n",
      "6/6 [==============================] - 0s 2ms/step - loss: 0.6023 - accuracy: 0.3500\n",
      "Epoch 23/100\n",
      "6/6 [==============================] - 0s 2ms/step - loss: 0.5932 - accuracy: 0.3500\n",
      "Epoch 24/100\n",
      "6/6 [==============================] - 0s 2ms/step - loss: 0.5838 - accuracy: 0.3500\n",
      "Epoch 25/100\n",
      "6/6 [==============================] - 0s 3ms/step - loss: 0.5748 - accuracy: 0.3500\n",
      "Epoch 26/100\n",
      "6/6 [==============================] - 0s 3ms/step - loss: 0.5645 - accuracy: 0.3500\n",
      "Epoch 27/100\n",
      "6/6 [==============================] - 0s 3ms/step - loss: 0.5544 - accuracy: 0.3500\n",
      "Epoch 28/100\n",
      "6/6 [==============================] - 0s 2ms/step - loss: 0.5449 - accuracy: 0.3500\n",
      "Epoch 29/100\n",
      "6/6 [==============================] - 0s 2ms/step - loss: 0.5342 - accuracy: 0.3500\n",
      "Epoch 30/100\n",
      "6/6 [==============================] - 0s 3ms/step - loss: 0.5251 - accuracy: 0.3500\n",
      "Epoch 31/100\n",
      "6/6 [==============================] - 0s 2ms/step - loss: 0.5166 - accuracy: 0.3500\n",
      "Epoch 32/100\n",
      "6/6 [==============================] - 0s 3ms/step - loss: 0.5056 - accuracy: 0.3500\n",
      "Epoch 33/100\n",
      "6/6 [==============================] - 0s 2ms/step - loss: 0.4970 - accuracy: 0.3500\n",
      "Epoch 34/100\n",
      "6/6 [==============================] - 0s 2ms/step - loss: 0.4879 - accuracy: 0.3500\n",
      "Epoch 35/100\n",
      "6/6 [==============================] - 0s 2ms/step - loss: 0.4813 - accuracy: 0.3500\n",
      "Epoch 36/100\n",
      "6/6 [==============================] - 0s 2ms/step - loss: 0.4724 - accuracy: 0.3500\n",
      "Epoch 37/100\n",
      "6/6 [==============================] - 0s 2ms/step - loss: 0.4637 - accuracy: 0.3500\n",
      "Epoch 38/100\n",
      "6/6 [==============================] - 0s 2ms/step - loss: 0.4589 - accuracy: 0.3500\n",
      "Epoch 39/100\n",
      "6/6 [==============================] - 0s 2ms/step - loss: 0.4512 - accuracy: 0.3500\n",
      "Epoch 40/100\n",
      "6/6 [==============================] - 0s 2ms/step - loss: 0.4452 - accuracy: 0.3500\n",
      "Epoch 41/100\n",
      "6/6 [==============================] - 0s 2ms/step - loss: 0.4399 - accuracy: 0.3500\n",
      "Epoch 42/100\n",
      "6/6 [==============================] - 0s 2ms/step - loss: 0.4357 - accuracy: 0.3500\n",
      "Epoch 43/100\n",
      "6/6 [==============================] - 0s 2ms/step - loss: 0.4292 - accuracy: 0.3500\n",
      "Epoch 44/100\n",
      "6/6 [==============================] - 0s 2ms/step - loss: 0.4246 - accuracy: 0.3500\n",
      "Epoch 45/100\n",
      "6/6 [==============================] - 0s 2ms/step - loss: 0.4212 - accuracy: 0.3500\n",
      "Epoch 46/100\n",
      "6/6 [==============================] - 0s 2ms/step - loss: 0.4166 - accuracy: 0.3500\n",
      "Epoch 47/100\n",
      "6/6 [==============================] - 0s 2ms/step - loss: 0.4117 - accuracy: 0.3500\n",
      "Epoch 48/100\n",
      "6/6 [==============================] - 0s 2ms/step - loss: 0.4080 - accuracy: 0.3500\n",
      "Epoch 49/100\n",
      "6/6 [==============================] - 0s 2ms/step - loss: 0.4040 - accuracy: 0.3500\n",
      "Epoch 50/100\n",
      "6/6 [==============================] - 0s 2ms/step - loss: 0.4006 - accuracy: 0.3500\n",
      "Epoch 51/100\n",
      "6/6 [==============================] - 0s 2ms/step - loss: 0.3973 - accuracy: 0.3500\n",
      "Epoch 52/100\n",
      "6/6 [==============================] - 0s 2ms/step - loss: 0.3956 - accuracy: 0.3500\n",
      "Epoch 53/100\n",
      "6/6 [==============================] - 0s 2ms/step - loss: 0.3913 - accuracy: 0.3500\n",
      "Epoch 54/100\n",
      "6/6 [==============================] - 0s 2ms/step - loss: 0.3886 - accuracy: 0.3500\n",
      "Epoch 55/100\n",
      "6/6 [==============================] - 0s 2ms/step - loss: 0.3860 - accuracy: 0.3500\n",
      "Epoch 56/100\n",
      "6/6 [==============================] - 0s 3ms/step - loss: 0.3839 - accuracy: 0.3500\n",
      "Epoch 57/100\n",
      "6/6 [==============================] - 0s 3ms/step - loss: 0.3812 - accuracy: 0.3500\n",
      "Epoch 58/100\n",
      "6/6 [==============================] - 0s 3ms/step - loss: 0.3792 - accuracy: 0.3500\n",
      "Epoch 59/100\n",
      "6/6 [==============================] - 0s 2ms/step - loss: 0.3765 - accuracy: 0.3500\n",
      "Epoch 60/100\n",
      "6/6 [==============================] - 0s 2ms/step - loss: 0.3745 - accuracy: 0.3500\n",
      "Epoch 61/100\n",
      "6/6 [==============================] - 0s 2ms/step - loss: 0.3731 - accuracy: 0.3500\n",
      "Epoch 62/100\n",
      "6/6 [==============================] - 0s 2ms/step - loss: 0.3710 - accuracy: 0.3500\n",
      "Epoch 63/100\n",
      "6/6 [==============================] - 0s 2ms/step - loss: 0.3683 - accuracy: 0.3500\n",
      "Epoch 64/100\n",
      "6/6 [==============================] - 0s 2ms/step - loss: 0.3662 - accuracy: 0.3500\n",
      "Epoch 65/100\n",
      "6/6 [==============================] - 0s 2ms/step - loss: 0.3647 - accuracy: 0.3500\n",
      "Epoch 66/100\n",
      "6/6 [==============================] - 0s 2ms/step - loss: 0.3624 - accuracy: 0.3500\n",
      "Epoch 67/100\n",
      "6/6 [==============================] - 0s 2ms/step - loss: 0.3608 - accuracy: 0.3500\n",
      "Epoch 68/100\n",
      "6/6 [==============================] - 0s 2ms/step - loss: 0.3584 - accuracy: 0.3500\n",
      "Epoch 69/100\n",
      "6/6 [==============================] - 0s 2ms/step - loss: 0.3565 - accuracy: 0.3500\n",
      "Epoch 70/100\n",
      "6/6 [==============================] - 0s 3ms/step - loss: 0.3547 - accuracy: 0.3500\n",
      "Epoch 71/100\n",
      "6/6 [==============================] - 0s 3ms/step - loss: 0.3523 - accuracy: 0.3500\n",
      "Epoch 72/100\n",
      "6/6 [==============================] - 0s 3ms/step - loss: 0.3509 - accuracy: 0.3500\n",
      "Epoch 73/100\n",
      "6/6 [==============================] - 0s 2ms/step - loss: 0.3489 - accuracy: 0.3500\n",
      "Epoch 74/100\n",
      "6/6 [==============================] - 0s 2ms/step - loss: 0.3469 - accuracy: 0.3500\n",
      "Epoch 75/100\n",
      "6/6 [==============================] - 0s 3ms/step - loss: 0.3452 - accuracy: 0.3500\n",
      "Epoch 76/100\n",
      "6/6 [==============================] - 0s 2ms/step - loss: 0.3428 - accuracy: 0.3500\n",
      "Epoch 77/100\n",
      "6/6 [==============================] - 0s 2ms/step - loss: 0.3414 - accuracy: 0.3500\n",
      "Epoch 78/100\n",
      "6/6 [==============================] - 0s 2ms/step - loss: 0.3394 - accuracy: 0.3500\n",
      "Epoch 79/100\n",
      "6/6 [==============================] - 0s 2ms/step - loss: 0.3371 - accuracy: 0.3500\n",
      "Epoch 80/100\n",
      "6/6 [==============================] - 0s 2ms/step - loss: 0.3361 - accuracy: 0.3500\n",
      "Epoch 81/100\n",
      "6/6 [==============================] - 0s 2ms/step - loss: 0.3334 - accuracy: 0.3500\n",
      "Epoch 82/100\n",
      "6/6 [==============================] - 0s 2ms/step - loss: 0.3311 - accuracy: 0.3500\n",
      "Epoch 83/100\n",
      "6/6 [==============================] - 0s 2ms/step - loss: 0.3296 - accuracy: 0.3500\n",
      "Epoch 84/100\n",
      "6/6 [==============================] - 0s 2ms/step - loss: 0.3277 - accuracy: 0.3500\n",
      "Epoch 85/100\n",
      "6/6 [==============================] - 0s 2ms/step - loss: 0.3256 - accuracy: 0.3500\n",
      "Epoch 86/100\n",
      "6/6 [==============================] - 0s 2ms/step - loss: 0.3239 - accuracy: 0.3500\n",
      "Epoch 87/100\n",
      "6/6 [==============================] - 0s 3ms/step - loss: 0.3220 - accuracy: 0.3500\n",
      "Epoch 88/100\n",
      "6/6 [==============================] - 0s 2ms/step - loss: 0.3204 - accuracy: 0.3500\n",
      "Epoch 89/100\n",
      "6/6 [==============================] - 0s 2ms/step - loss: 0.3181 - accuracy: 0.3500\n",
      "Epoch 90/100\n",
      "6/6 [==============================] - 0s 2ms/step - loss: 0.3160 - accuracy: 0.3500\n",
      "Epoch 91/100\n",
      "6/6 [==============================] - 0s 3ms/step - loss: 0.3153 - accuracy: 0.3500\n",
      "Epoch 92/100\n",
      "6/6 [==============================] - 0s 2ms/step - loss: 0.3123 - accuracy: 0.3500\n",
      "Epoch 93/100\n",
      "6/6 [==============================] - 0s 2ms/step - loss: 0.3106 - accuracy: 0.3500\n",
      "Epoch 94/100\n",
      "6/6 [==============================] - 0s 2ms/step - loss: 0.3092 - accuracy: 0.3500\n",
      "Epoch 95/100\n",
      "6/6 [==============================] - 0s 2ms/step - loss: 0.3073 - accuracy: 0.3500\n",
      "Epoch 96/100\n",
      "6/6 [==============================] - 0s 2ms/step - loss: 0.3053 - accuracy: 0.3500\n",
      "Epoch 97/100\n",
      "6/6 [==============================] - 0s 2ms/step - loss: 0.3034 - accuracy: 0.3500\n",
      "Epoch 98/100\n",
      "6/6 [==============================] - 0s 2ms/step - loss: 0.3018 - accuracy: 0.3500\n",
      "Epoch 99/100\n",
      "6/6 [==============================] - 0s 2ms/step - loss: 0.2999 - accuracy: 0.3500\n",
      "Epoch 100/100\n",
      "6/6 [==============================] - 0s 3ms/step - loss: 0.2975 - accuracy: 0.3500\n",
      "3/3 [==============================] - 0s 4ms/step - loss: 0.3790 - accuracy: 0.3516\n",
      "Epoch 1/100\n",
      "6/6 [==============================] - 1s 2ms/step - loss: 0.6925 - accuracy: 0.3702\n",
      "Epoch 2/100\n",
      "6/6 [==============================] - 0s 2ms/step - loss: 0.6908 - accuracy: 0.3370\n",
      "Epoch 3/100\n",
      "6/6 [==============================] - 0s 2ms/step - loss: 0.6891 - accuracy: 0.3370\n",
      "Epoch 4/100\n",
      "6/6 [==============================] - 0s 3ms/step - loss: 0.6872 - accuracy: 0.3370\n",
      "Epoch 5/100\n",
      "6/6 [==============================] - 0s 3ms/step - loss: 0.6853 - accuracy: 0.3370\n",
      "Epoch 6/100\n",
      "6/6 [==============================] - 0s 2ms/step - loss: 0.6832 - accuracy: 0.3370\n",
      "Epoch 7/100\n",
      "6/6 [==============================] - 0s 2ms/step - loss: 0.6810 - accuracy: 0.3370\n",
      "Epoch 8/100\n",
      "6/6 [==============================] - 0s 3ms/step - loss: 0.6786 - accuracy: 0.3370\n",
      "Epoch 9/100\n",
      "6/6 [==============================] - 0s 3ms/step - loss: 0.6759 - accuracy: 0.3370\n",
      "Epoch 10/100\n",
      "6/6 [==============================] - 0s 3ms/step - loss: 0.6731 - accuracy: 0.3370\n",
      "Epoch 11/100\n",
      "6/6 [==============================] - 0s 2ms/step - loss: 0.6702 - accuracy: 0.3370\n",
      "Epoch 12/100\n",
      "6/6 [==============================] - 0s 2ms/step - loss: 0.6670 - accuracy: 0.3370\n",
      "Epoch 13/100\n",
      "6/6 [==============================] - 0s 2ms/step - loss: 0.6632 - accuracy: 0.3370\n",
      "Epoch 14/100\n",
      "6/6 [==============================] - 0s 5ms/step - loss: 0.6588 - accuracy: 0.3370\n",
      "Epoch 15/100\n",
      "6/6 [==============================] - 0s 2ms/step - loss: 0.6544 - accuracy: 0.3370\n",
      "Epoch 16/100\n",
      "6/6 [==============================] - 0s 3ms/step - loss: 0.6498 - accuracy: 0.3370\n",
      "Epoch 17/100\n",
      "6/6 [==============================] - 0s 2ms/step - loss: 0.6444 - accuracy: 0.3370\n",
      "Epoch 18/100\n",
      "6/6 [==============================] - 0s 2ms/step - loss: 0.6385 - accuracy: 0.3370\n",
      "Epoch 19/100\n",
      "6/6 [==============================] - 0s 2ms/step - loss: 0.6329 - accuracy: 0.3370\n",
      "Epoch 20/100\n",
      "6/6 [==============================] - 0s 2ms/step - loss: 0.6249 - accuracy: 0.3370\n",
      "Epoch 21/100\n",
      "6/6 [==============================] - 0s 2ms/step - loss: 0.6177 - accuracy: 0.3370\n",
      "Epoch 22/100\n",
      "6/6 [==============================] - 0s 3ms/step - loss: 0.6110 - accuracy: 0.3370\n",
      "Epoch 23/100\n",
      "6/6 [==============================] - 0s 3ms/step - loss: 0.6018 - accuracy: 0.3370\n",
      "Epoch 24/100\n",
      "6/6 [==============================] - 0s 2ms/step - loss: 0.5946 - accuracy: 0.3370\n",
      "Epoch 25/100\n",
      "6/6 [==============================] - 0s 3ms/step - loss: 0.5845 - accuracy: 0.3370\n",
      "Epoch 26/100\n",
      "6/6 [==============================] - 0s 2ms/step - loss: 0.5759 - accuracy: 0.3370\n",
      "Epoch 27/100\n",
      "6/6 [==============================] - 0s 2ms/step - loss: 0.5665 - accuracy: 0.3370\n",
      "Epoch 28/100\n",
      "6/6 [==============================] - 0s 2ms/step - loss: 0.5566 - accuracy: 0.3370\n",
      "Epoch 29/100\n",
      "6/6 [==============================] - 0s 2ms/step - loss: 0.5466 - accuracy: 0.3370\n",
      "Epoch 30/100\n",
      "6/6 [==============================] - 0s 3ms/step - loss: 0.5384 - accuracy: 0.3370\n",
      "Epoch 31/100\n",
      "6/6 [==============================] - 0s 2ms/step - loss: 0.5285 - accuracy: 0.3370\n",
      "Epoch 32/100\n",
      "6/6 [==============================] - 0s 2ms/step - loss: 0.5177 - accuracy: 0.3370\n",
      "Epoch 33/100\n",
      "6/6 [==============================] - 0s 2ms/step - loss: 0.5095 - accuracy: 0.3370\n",
      "Epoch 34/100\n",
      "6/6 [==============================] - 0s 3ms/step - loss: 0.5009 - accuracy: 0.3370\n",
      "Epoch 35/100\n",
      "6/6 [==============================] - 0s 2ms/step - loss: 0.4906 - accuracy: 0.3370\n",
      "Epoch 36/100\n",
      "6/6 [==============================] - 0s 2ms/step - loss: 0.4810 - accuracy: 0.3370\n",
      "Epoch 37/100\n",
      "6/6 [==============================] - 0s 2ms/step - loss: 0.4727 - accuracy: 0.3370\n",
      "Epoch 38/100\n",
      "6/6 [==============================] - 0s 2ms/step - loss: 0.4639 - accuracy: 0.3370\n",
      "Epoch 39/100\n",
      "6/6 [==============================] - 0s 2ms/step - loss: 0.4562 - accuracy: 0.3370\n",
      "Epoch 40/100\n",
      "6/6 [==============================] - 0s 3ms/step - loss: 0.4474 - accuracy: 0.3370\n",
      "Epoch 41/100\n",
      "6/6 [==============================] - 0s 2ms/step - loss: 0.4388 - accuracy: 0.3370\n",
      "Epoch 42/100\n",
      "6/6 [==============================] - 0s 2ms/step - loss: 0.4310 - accuracy: 0.3370\n",
      "Epoch 43/100\n",
      "6/6 [==============================] - 0s 2ms/step - loss: 0.4239 - accuracy: 0.3370\n",
      "Epoch 44/100\n",
      "6/6 [==============================] - 0s 2ms/step - loss: 0.4150 - accuracy: 0.3370\n",
      "Epoch 45/100\n",
      "6/6 [==============================] - 0s 2ms/step - loss: 0.4076 - accuracy: 0.3370\n",
      "Epoch 46/100\n",
      "6/6 [==============================] - 0s 2ms/step - loss: 0.4010 - accuracy: 0.3370\n",
      "Epoch 47/100\n",
      "6/6 [==============================] - 0s 2ms/step - loss: 0.3942 - accuracy: 0.3370\n",
      "Epoch 48/100\n",
      "6/6 [==============================] - 0s 2ms/step - loss: 0.3877 - accuracy: 0.3370\n",
      "Epoch 49/100\n",
      "6/6 [==============================] - 0s 2ms/step - loss: 0.3801 - accuracy: 0.3370\n",
      "Epoch 50/100\n",
      "6/6 [==============================] - 0s 2ms/step - loss: 0.3725 - accuracy: 0.3425\n",
      "Epoch 51/100\n",
      "6/6 [==============================] - 0s 2ms/step - loss: 0.3665 - accuracy: 0.3591\n",
      "Epoch 52/100\n",
      "6/6 [==============================] - 0s 2ms/step - loss: 0.3604 - accuracy: 0.3646\n",
      "Epoch 53/100\n",
      "6/6 [==============================] - 0s 2ms/step - loss: 0.3529 - accuracy: 0.3812\n",
      "Epoch 54/100\n",
      "6/6 [==============================] - 0s 3ms/step - loss: 0.3483 - accuracy: 0.3757\n",
      "Epoch 55/100\n",
      "6/6 [==============================] - 0s 3ms/step - loss: 0.3408 - accuracy: 0.3923\n",
      "Epoch 56/100\n",
      "6/6 [==============================] - 0s 2ms/step - loss: 0.3340 - accuracy: 0.3923\n",
      "Epoch 57/100\n",
      "6/6 [==============================] - 0s 2ms/step - loss: 0.3294 - accuracy: 0.3923\n",
      "Epoch 58/100\n",
      "6/6 [==============================] - 0s 2ms/step - loss: 0.3221 - accuracy: 0.3923\n",
      "Epoch 59/100\n",
      "6/6 [==============================] - 0s 2ms/step - loss: 0.3170 - accuracy: 0.3923\n",
      "Epoch 60/100\n",
      "6/6 [==============================] - 0s 2ms/step - loss: 0.3105 - accuracy: 0.3923\n",
      "Epoch 61/100\n",
      "6/6 [==============================] - 0s 2ms/step - loss: 0.3034 - accuracy: 0.3923\n",
      "Epoch 62/100\n",
      "6/6 [==============================] - 0s 2ms/step - loss: 0.2973 - accuracy: 0.3978\n",
      "Epoch 63/100\n",
      "6/6 [==============================] - 0s 3ms/step - loss: 0.2922 - accuracy: 0.4088\n",
      "Epoch 64/100\n",
      "6/6 [==============================] - 0s 2ms/step - loss: 0.2856 - accuracy: 0.4088\n",
      "Epoch 65/100\n",
      "6/6 [==============================] - 0s 2ms/step - loss: 0.2787 - accuracy: 0.4088\n",
      "Epoch 66/100\n",
      "6/6 [==============================] - 0s 2ms/step - loss: 0.2731 - accuracy: 0.4088\n",
      "Epoch 67/100\n",
      "6/6 [==============================] - 0s 2ms/step - loss: 0.2669 - accuracy: 0.4033\n",
      "Epoch 68/100\n",
      "6/6 [==============================] - 0s 2ms/step - loss: 0.2601 - accuracy: 0.4033\n",
      "Epoch 69/100\n",
      "6/6 [==============================] - 0s 2ms/step - loss: 0.2535 - accuracy: 0.4033\n",
      "Epoch 70/100\n",
      "6/6 [==============================] - 0s 2ms/step - loss: 0.2469 - accuracy: 0.4088\n",
      "Epoch 71/100\n",
      "6/6 [==============================] - 0s 2ms/step - loss: 0.2413 - accuracy: 0.4144\n",
      "Epoch 72/100\n",
      "6/6 [==============================] - 0s 2ms/step - loss: 0.2349 - accuracy: 0.4144\n",
      "Epoch 73/100\n",
      "6/6 [==============================] - 0s 3ms/step - loss: 0.2271 - accuracy: 0.4144\n",
      "Epoch 74/100\n",
      "6/6 [==============================] - 0s 2ms/step - loss: 0.2212 - accuracy: 0.4199\n",
      "Epoch 75/100\n",
      "6/6 [==============================] - 0s 2ms/step - loss: 0.2141 - accuracy: 0.4199\n",
      "Epoch 76/100\n",
      "6/6 [==============================] - 0s 3ms/step - loss: 0.2077 - accuracy: 0.4199\n",
      "Epoch 77/100\n",
      "6/6 [==============================] - 0s 2ms/step - loss: 0.2003 - accuracy: 0.4254\n",
      "Epoch 78/100\n",
      "6/6 [==============================] - 0s 2ms/step - loss: 0.1938 - accuracy: 0.4309\n",
      "Epoch 79/100\n",
      "6/6 [==============================] - 0s 3ms/step - loss: 0.1856 - accuracy: 0.4309\n",
      "Epoch 80/100\n",
      "6/6 [==============================] - 0s 2ms/step - loss: 0.1789 - accuracy: 0.4309\n",
      "Epoch 81/100\n",
      "6/6 [==============================] - 0s 2ms/step - loss: 0.1725 - accuracy: 0.4309\n",
      "Epoch 82/100\n",
      "6/6 [==============================] - 0s 2ms/step - loss: 0.1641 - accuracy: 0.4365\n",
      "Epoch 83/100\n",
      "6/6 [==============================] - 0s 2ms/step - loss: 0.1582 - accuracy: 0.4365\n",
      "Epoch 84/100\n",
      "6/6 [==============================] - 0s 2ms/step - loss: 0.1506 - accuracy: 0.4365\n",
      "Epoch 85/100\n",
      "6/6 [==============================] - 0s 2ms/step - loss: 0.1441 - accuracy: 0.4365\n",
      "Epoch 86/100\n",
      "6/6 [==============================] - 0s 2ms/step - loss: 0.1362 - accuracy: 0.4365\n",
      "Epoch 87/100\n",
      "6/6 [==============================] - 0s 2ms/step - loss: 0.1288 - accuracy: 0.4365\n",
      "Epoch 88/100\n",
      "6/6 [==============================] - 0s 2ms/step - loss: 0.1230 - accuracy: 0.4365\n",
      "Epoch 89/100\n",
      "6/6 [==============================] - 0s 2ms/step - loss: 0.1155 - accuracy: 0.4365\n",
      "Epoch 90/100\n",
      "6/6 [==============================] - 0s 2ms/step - loss: 0.1078 - accuracy: 0.4365\n",
      "Epoch 91/100\n",
      "6/6 [==============================] - 0s 2ms/step - loss: 0.1000 - accuracy: 0.4365\n",
      "Epoch 92/100\n",
      "6/6 [==============================] - 0s 2ms/step - loss: 0.0927 - accuracy: 0.4365\n",
      "Epoch 93/100\n",
      "6/6 [==============================] - 0s 2ms/step - loss: 0.0848 - accuracy: 0.4365\n",
      "Epoch 94/100\n",
      "6/6 [==============================] - 0s 2ms/step - loss: 0.0779 - accuracy: 0.4365\n",
      "Epoch 95/100\n",
      "6/6 [==============================] - 0s 2ms/step - loss: 0.0699 - accuracy: 0.4365\n",
      "Epoch 96/100\n",
      "6/6 [==============================] - 0s 2ms/step - loss: 0.0615 - accuracy: 0.4365\n",
      "Epoch 97/100\n",
      "6/6 [==============================] - 0s 2ms/step - loss: 0.0540 - accuracy: 0.4365\n",
      "Epoch 98/100\n",
      "6/6 [==============================] - 0s 2ms/step - loss: 0.0452 - accuracy: 0.4420\n",
      "Epoch 99/100\n",
      "6/6 [==============================] - 0s 2ms/step - loss: 0.0380 - accuracy: 0.4420\n",
      "Epoch 100/100\n",
      "6/6 [==============================] - 0s 2ms/step - loss: 0.0291 - accuracy: 0.4420\n",
      "3/3 [==============================] - 0s 4ms/step - loss: 0.4850 - accuracy: 0.3778\n",
      "Epoch 1/100\n",
      "6/6 [==============================] - 1s 3ms/step - loss: 0.6923 - accuracy: 0.3591\n",
      "Epoch 2/100\n",
      "6/6 [==============================] - 0s 3ms/step - loss: 0.6904 - accuracy: 0.3646\n",
      "Epoch 3/100\n",
      "6/6 [==============================] - 0s 3ms/step - loss: 0.6885 - accuracy: 0.3646\n",
      "Epoch 4/100\n",
      "6/6 [==============================] - 0s 3ms/step - loss: 0.6865 - accuracy: 0.3646\n",
      "Epoch 5/100\n",
      "6/6 [==============================] - 0s 2ms/step - loss: 0.6841 - accuracy: 0.3646\n",
      "Epoch 6/100\n",
      "6/6 [==============================] - 0s 4ms/step - loss: 0.6822 - accuracy: 0.3646\n",
      "Epoch 7/100\n",
      "6/6 [==============================] - 0s 2ms/step - loss: 0.6796 - accuracy: 0.3646\n",
      "Epoch 8/100\n",
      "6/6 [==============================] - 0s 2ms/step - loss: 0.6771 - accuracy: 0.3646\n",
      "Epoch 9/100\n",
      "6/6 [==============================] - 0s 3ms/step - loss: 0.6742 - accuracy: 0.3646\n",
      "Epoch 10/100\n",
      "6/6 [==============================] - 0s 3ms/step - loss: 0.6712 - accuracy: 0.3646\n",
      "Epoch 11/100\n",
      "6/6 [==============================] - 0s 3ms/step - loss: 0.6675 - accuracy: 0.3646\n",
      "Epoch 12/100\n",
      "6/6 [==============================] - 0s 3ms/step - loss: 0.6634 - accuracy: 0.3646\n",
      "Epoch 13/100\n",
      "6/6 [==============================] - 0s 3ms/step - loss: 0.6591 - accuracy: 0.3646\n",
      "Epoch 14/100\n",
      "6/6 [==============================] - 0s 3ms/step - loss: 0.6550 - accuracy: 0.3646\n",
      "Epoch 15/100\n",
      "6/6 [==============================] - 0s 2ms/step - loss: 0.6497 - accuracy: 0.3646\n",
      "Epoch 16/100\n",
      "6/6 [==============================] - 0s 3ms/step - loss: 0.6440 - accuracy: 0.3646\n",
      "Epoch 17/100\n",
      "6/6 [==============================] - 0s 2ms/step - loss: 0.6370 - accuracy: 0.3646\n",
      "Epoch 18/100\n",
      "6/6 [==============================] - 0s 2ms/step - loss: 0.6306 - accuracy: 0.3646\n",
      "Epoch 19/100\n",
      "6/6 [==============================] - 0s 3ms/step - loss: 0.6231 - accuracy: 0.3646\n",
      "Epoch 20/100\n",
      "6/6 [==============================] - 0s 3ms/step - loss: 0.6154 - accuracy: 0.3646\n",
      "Epoch 21/100\n",
      "6/6 [==============================] - 0s 2ms/step - loss: 0.6071 - accuracy: 0.3646\n",
      "Epoch 22/100\n",
      "6/6 [==============================] - 0s 2ms/step - loss: 0.5986 - accuracy: 0.3646\n",
      "Epoch 23/100\n",
      "6/6 [==============================] - 0s 2ms/step - loss: 0.5893 - accuracy: 0.3646\n",
      "Epoch 24/100\n",
      "6/6 [==============================] - 0s 2ms/step - loss: 0.5804 - accuracy: 0.3646\n",
      "Epoch 25/100\n",
      "6/6 [==============================] - 0s 2ms/step - loss: 0.5701 - accuracy: 0.3646\n",
      "Epoch 26/100\n",
      "6/6 [==============================] - 0s 3ms/step - loss: 0.5604 - accuracy: 0.3646\n",
      "Epoch 27/100\n",
      "6/6 [==============================] - 0s 3ms/step - loss: 0.5521 - accuracy: 0.3646\n",
      "Epoch 28/100\n",
      "6/6 [==============================] - 0s 2ms/step - loss: 0.5406 - accuracy: 0.3646\n",
      "Epoch 29/100\n",
      "6/6 [==============================] - 0s 3ms/step - loss: 0.5309 - accuracy: 0.3646\n",
      "Epoch 30/100\n",
      "6/6 [==============================] - 0s 2ms/step - loss: 0.5205 - accuracy: 0.3646\n",
      "Epoch 31/100\n",
      "6/6 [==============================] - 0s 2ms/step - loss: 0.5119 - accuracy: 0.3646\n",
      "Epoch 32/100\n",
      "6/6 [==============================] - 0s 2ms/step - loss: 0.5016 - accuracy: 0.3646\n",
      "Epoch 33/100\n",
      "6/6 [==============================] - 0s 3ms/step - loss: 0.4922 - accuracy: 0.3646\n",
      "Epoch 34/100\n",
      "6/6 [==============================] - 0s 3ms/step - loss: 0.4836 - accuracy: 0.3646\n",
      "Epoch 35/100\n",
      "6/6 [==============================] - 0s 3ms/step - loss: 0.4744 - accuracy: 0.3646\n",
      "Epoch 36/100\n",
      "6/6 [==============================] - 0s 3ms/step - loss: 0.4664 - accuracy: 0.3646\n",
      "Epoch 37/100\n",
      "6/6 [==============================] - 0s 3ms/step - loss: 0.4587 - accuracy: 0.3646\n",
      "Epoch 38/100\n",
      "6/6 [==============================] - 0s 3ms/step - loss: 0.4508 - accuracy: 0.3646\n",
      "Epoch 39/100\n",
      "6/6 [==============================] - 0s 3ms/step - loss: 0.4432 - accuracy: 0.3646\n",
      "Epoch 40/100\n",
      "6/6 [==============================] - 0s 3ms/step - loss: 0.4367 - accuracy: 0.3646\n",
      "Epoch 41/100\n",
      "6/6 [==============================] - 0s 3ms/step - loss: 0.4293 - accuracy: 0.3646\n",
      "Epoch 42/100\n",
      "6/6 [==============================] - 0s 2ms/step - loss: 0.4228 - accuracy: 0.3646\n",
      "Epoch 43/100\n",
      "6/6 [==============================] - 0s 3ms/step - loss: 0.4186 - accuracy: 0.3646\n",
      "Epoch 44/100\n",
      "6/6 [==============================] - 0s 3ms/step - loss: 0.4140 - accuracy: 0.3646\n",
      "Epoch 45/100\n",
      "6/6 [==============================] - 0s 2ms/step - loss: 0.4086 - accuracy: 0.3646\n",
      "Epoch 46/100\n",
      "6/6 [==============================] - 0s 2ms/step - loss: 0.4036 - accuracy: 0.3646\n",
      "Epoch 47/100\n",
      "6/6 [==============================] - 0s 2ms/step - loss: 0.3998 - accuracy: 0.3646\n",
      "Epoch 48/100\n",
      "6/6 [==============================] - 0s 2ms/step - loss: 0.3962 - accuracy: 0.3646\n",
      "Epoch 49/100\n",
      "6/6 [==============================] - 0s 2ms/step - loss: 0.3920 - accuracy: 0.3646\n",
      "Epoch 50/100\n",
      "6/6 [==============================] - 0s 2ms/step - loss: 0.3888 - accuracy: 0.3646\n",
      "Epoch 51/100\n",
      "6/6 [==============================] - 0s 3ms/step - loss: 0.3861 - accuracy: 0.3646\n",
      "Epoch 52/100\n",
      "6/6 [==============================] - 0s 3ms/step - loss: 0.3824 - accuracy: 0.3646\n",
      "Epoch 53/100\n",
      "6/6 [==============================] - 0s 3ms/step - loss: 0.3807 - accuracy: 0.3646\n",
      "Epoch 54/100\n",
      "6/6 [==============================] - 0s 3ms/step - loss: 0.3762 - accuracy: 0.3646\n",
      "Epoch 55/100\n",
      "6/6 [==============================] - 0s 3ms/step - loss: 0.3744 - accuracy: 0.3646\n",
      "Epoch 56/100\n",
      "6/6 [==============================] - 0s 2ms/step - loss: 0.3708 - accuracy: 0.3646\n",
      "Epoch 57/100\n",
      "6/6 [==============================] - 0s 2ms/step - loss: 0.3688 - accuracy: 0.3646\n",
      "Epoch 58/100\n",
      "6/6 [==============================] - 0s 3ms/step - loss: 0.3664 - accuracy: 0.3646\n",
      "Epoch 59/100\n",
      "6/6 [==============================] - 0s 2ms/step - loss: 0.3636 - accuracy: 0.3646\n",
      "Epoch 60/100\n",
      "6/6 [==============================] - 0s 2ms/step - loss: 0.3613 - accuracy: 0.3646\n",
      "Epoch 61/100\n",
      "6/6 [==============================] - 0s 3ms/step - loss: 0.3588 - accuracy: 0.3646\n",
      "Epoch 62/100\n",
      "6/6 [==============================] - 0s 3ms/step - loss: 0.3566 - accuracy: 0.3646\n",
      "Epoch 63/100\n",
      "6/6 [==============================] - 0s 3ms/step - loss: 0.3539 - accuracy: 0.3646\n",
      "Epoch 64/100\n",
      "6/6 [==============================] - 0s 3ms/step - loss: 0.3515 - accuracy: 0.3646\n",
      "Epoch 65/100\n",
      "6/6 [==============================] - 0s 3ms/step - loss: 0.3493 - accuracy: 0.3646\n",
      "Epoch 66/100\n",
      "6/6 [==============================] - 0s 3ms/step - loss: 0.3473 - accuracy: 0.3646\n",
      "Epoch 67/100\n",
      "6/6 [==============================] - 0s 3ms/step - loss: 0.3448 - accuracy: 0.3646\n",
      "Epoch 68/100\n",
      "6/6 [==============================] - 0s 3ms/step - loss: 0.3422 - accuracy: 0.3646\n",
      "Epoch 69/100\n",
      "6/6 [==============================] - 0s 3ms/step - loss: 0.3402 - accuracy: 0.3646\n",
      "Epoch 70/100\n",
      "6/6 [==============================] - 0s 3ms/step - loss: 0.3387 - accuracy: 0.3646\n",
      "Epoch 71/100\n",
      "6/6 [==============================] - 0s 3ms/step - loss: 0.3366 - accuracy: 0.3646\n",
      "Epoch 72/100\n",
      "6/6 [==============================] - 0s 2ms/step - loss: 0.3343 - accuracy: 0.3646\n",
      "Epoch 73/100\n",
      "6/6 [==============================] - 0s 2ms/step - loss: 0.3321 - accuracy: 0.3646\n",
      "Epoch 74/100\n",
      "6/6 [==============================] - 0s 2ms/step - loss: 0.3306 - accuracy: 0.3646\n",
      "Epoch 75/100\n",
      "6/6 [==============================] - 0s 3ms/step - loss: 0.3285 - accuracy: 0.3646\n",
      "Epoch 76/100\n",
      "6/6 [==============================] - 0s 2ms/step - loss: 0.3273 - accuracy: 0.3646\n",
      "Epoch 77/100\n",
      "6/6 [==============================] - 0s 2ms/step - loss: 0.3251 - accuracy: 0.3646\n",
      "Epoch 78/100\n",
      "6/6 [==============================] - 0s 2ms/step - loss: 0.3230 - accuracy: 0.3646\n",
      "Epoch 79/100\n",
      "6/6 [==============================] - 0s 2ms/step - loss: 0.3213 - accuracy: 0.3646\n",
      "Epoch 80/100\n",
      "6/6 [==============================] - 0s 2ms/step - loss: 0.3195 - accuracy: 0.3646\n",
      "Epoch 81/100\n",
      "6/6 [==============================] - 0s 2ms/step - loss: 0.3173 - accuracy: 0.3646\n",
      "Epoch 82/100\n",
      "6/6 [==============================] - 0s 2ms/step - loss: 0.3153 - accuracy: 0.3646\n",
      "Epoch 83/100\n",
      "6/6 [==============================] - 0s 2ms/step - loss: 0.3131 - accuracy: 0.3646\n",
      "Epoch 84/100\n",
      "6/6 [==============================] - 0s 2ms/step - loss: 0.3124 - accuracy: 0.3646\n",
      "Epoch 85/100\n",
      "6/6 [==============================] - 0s 2ms/step - loss: 0.3099 - accuracy: 0.3646\n",
      "Epoch 86/100\n",
      "6/6 [==============================] - 0s 3ms/step - loss: 0.3074 - accuracy: 0.3646\n",
      "Epoch 87/100\n",
      "6/6 [==============================] - 0s 2ms/step - loss: 0.3061 - accuracy: 0.3646\n",
      "Epoch 88/100\n",
      "6/6 [==============================] - 0s 2ms/step - loss: 0.3040 - accuracy: 0.3646\n",
      "Epoch 89/100\n",
      "6/6 [==============================] - 0s 3ms/step - loss: 0.3020 - accuracy: 0.3646\n",
      "Epoch 90/100\n",
      "6/6 [==============================] - 0s 3ms/step - loss: 0.3010 - accuracy: 0.3646\n",
      "Epoch 91/100\n",
      "6/6 [==============================] - 0s 3ms/step - loss: 0.2979 - accuracy: 0.3646\n",
      "Epoch 92/100\n",
      "6/6 [==============================] - 0s 3ms/step - loss: 0.2967 - accuracy: 0.3646\n",
      "Epoch 93/100\n",
      "6/6 [==============================] - 0s 3ms/step - loss: 0.2941 - accuracy: 0.3646\n",
      "Epoch 94/100\n",
      "6/6 [==============================] - 0s 4ms/step - loss: 0.2926 - accuracy: 0.3646\n",
      "Epoch 95/100\n",
      "6/6 [==============================] - 0s 3ms/step - loss: 0.2895 - accuracy: 0.3646\n",
      "Epoch 96/100\n",
      "6/6 [==============================] - 0s 3ms/step - loss: 0.2874 - accuracy: 0.3646\n",
      "Epoch 97/100\n",
      "6/6 [==============================] - 0s 4ms/step - loss: 0.2855 - accuracy: 0.3646\n",
      "Epoch 98/100\n",
      "6/6 [==============================] - 0s 3ms/step - loss: 0.2829 - accuracy: 0.3646\n",
      "Epoch 99/100\n",
      "6/6 [==============================] - 0s 3ms/step - loss: 0.2808 - accuracy: 0.3646\n",
      "Epoch 100/100\n",
      "6/6 [==============================] - 0s 4ms/step - loss: 0.2790 - accuracy: 0.3646\n",
      "3/3 [==============================] - 0s 4ms/step - loss: 0.4019 - accuracy: 0.3222\n",
      "Accuracy mean: 0.35054945945739746\n",
      "Accuracy variance: 0.022693766161658274\n"
     ]
    }
   ],
   "source": [
    "# Evaluating the ANN\n",
    "from keras.wrappers.scikit_learn import KerasClassifier\n",
    "from sklearn.model_selection import cross_val_score\n",
    "from keras.models import Sequential # initialize neural network library\n",
    "from keras.layers import Dense # build our layers library\n",
    "def build_classifier():\n",
    "    classifier = Sequential() # initialize neural network\n",
    "    classifier.add(Dense(units = 8, kernel_initializer = 'uniform', activation = 'relu',  input_dim= len(list(features.columns))))\n",
    "    classifier.add(Dense(units = 4, kernel_initializer = 'uniform', activation = 'relu'))\n",
    "    classifier.add(Dense(units = 1, kernel_initializer = 'uniform', activation = 'sigmoid'))\n",
    "    classifier.compile(optimizer = 'adam', loss = 'binary_crossentropy', metrics = ['accuracy'])\n",
    "    return classifier\n",
    "classifier = KerasClassifier(build_fn = build_classifier, epochs = 100)\n",
    "accuracies = cross_val_score(estimator = classifier, X = X_train, y = y_train, cv = 3)\n",
    "mean = accuracies.mean()\n",
    "variance = accuracies.std()\n",
    "print(\"Accuracy mean: \"+ str(mean))\n",
    "print(\"Accuracy variance: \"+ str(variance))"
   ]
  },
  {
   "cell_type": "code",
   "execution_count": null,
   "id": "a6adc4ab-6011-4fb0-8db3-05986ad2835b",
   "metadata": {},
   "outputs": [],
   "source": [
    "\n",
    "\n",
    "**Cool things you can try doing if you want that won't be graded** <br>\n",
    "1. Remove outliers to see if that improves the classification\n",
    "2. Try out data visualization techniques that were not covered in the course\n",
    "3. See if you implement transfer learning and hyperparameter tuning for your neural network model"
   ]
  },
  {
   "cell_type": "code",
   "execution_count": null,
   "id": "f1f40cdd-0f0f-487d-a38b-50410c49e895",
   "metadata": {},
   "outputs": [],
   "source": []
  }
 ],
 "metadata": {
  "kernelspec": {
   "display_name": "Python 3 (ipykernel)",
   "language": "python",
   "name": "python3"
  },
  "language_info": {
   "codemirror_mode": {
    "name": "ipython",
    "version": 3
   },
   "file_extension": ".py",
   "mimetype": "text/x-python",
   "name": "python",
   "nbconvert_exporter": "python",
   "pygments_lexer": "ipython3",
   "version": "3.10.10"
  }
 },
 "nbformat": 4,
 "nbformat_minor": 5
}
